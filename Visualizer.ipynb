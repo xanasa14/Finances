{
  "nbformat": 4,
  "nbformat_minor": 0,
  "metadata": {
    "colab": {
      "name": "Visualizer.ipynb",
      "provenance": [],
      "authorship_tag": "ABX9TyOpHbfOabBe7Sr4LX4nyijQ",
      "include_colab_link": true
    },
    "kernelspec": {
      "name": "python3",
      "display_name": "Python 3"
    },
    "language_info": {
      "name": "python"
    }
  },
  "cells": [
    {
      "cell_type": "markdown",
      "metadata": {
        "id": "view-in-github",
        "colab_type": "text"
      },
      "source": [
        "<a href=\"https://colab.research.google.com/github/xanasa14/Finances/blob/main/Visualizer.ipynb\" target=\"_parent\"><img src=\"https://colab.research.google.com/assets/colab-badge.svg\" alt=\"Open In Colab\"/></a>"
      ]
    },
    {
      "cell_type": "code",
      "metadata": {
        "colab": {
          "base_uri": "https://localhost:8080/"
        },
        "id": "11_miPj5_Hik",
        "outputId": "0589d10b-3d9f-4aad-9b92-de4971b9a545"
      },
      "source": [
        "!pip install yfinance\n",
        "!pip install yahoofinancials"
      ],
      "execution_count": 1,
      "outputs": [
        {
          "output_type": "stream",
          "name": "stdout",
          "text": [
            "Collecting yfinance\n",
            "  Downloading yfinance-0.1.64.tar.gz (26 kB)\n",
            "Requirement already satisfied: pandas>=0.24 in /usr/local/lib/python3.7/dist-packages (from yfinance) (1.1.5)\n",
            "Requirement already satisfied: numpy>=1.15 in /usr/local/lib/python3.7/dist-packages (from yfinance) (1.19.5)\n",
            "Requirement already satisfied: requests>=2.20 in /usr/local/lib/python3.7/dist-packages (from yfinance) (2.23.0)\n",
            "Requirement already satisfied: multitasking>=0.0.7 in /usr/local/lib/python3.7/dist-packages (from yfinance) (0.0.9)\n",
            "Collecting lxml>=4.5.1\n",
            "  Downloading lxml-4.6.4-cp37-cp37m-manylinux_2_17_x86_64.manylinux2014_x86_64.manylinux_2_24_x86_64.whl (6.3 MB)\n",
            "\u001b[K     |████████████████████████████████| 6.3 MB 8.5 MB/s \n",
            "\u001b[?25hRequirement already satisfied: python-dateutil>=2.7.3 in /usr/local/lib/python3.7/dist-packages (from pandas>=0.24->yfinance) (2.8.2)\n",
            "Requirement already satisfied: pytz>=2017.2 in /usr/local/lib/python3.7/dist-packages (from pandas>=0.24->yfinance) (2018.9)\n",
            "Requirement already satisfied: six>=1.5 in /usr/local/lib/python3.7/dist-packages (from python-dateutil>=2.7.3->pandas>=0.24->yfinance) (1.15.0)\n",
            "Requirement already satisfied: chardet<4,>=3.0.2 in /usr/local/lib/python3.7/dist-packages (from requests>=2.20->yfinance) (3.0.4)\n",
            "Requirement already satisfied: idna<3,>=2.5 in /usr/local/lib/python3.7/dist-packages (from requests>=2.20->yfinance) (2.10)\n",
            "Requirement already satisfied: urllib3!=1.25.0,!=1.25.1,<1.26,>=1.21.1 in /usr/local/lib/python3.7/dist-packages (from requests>=2.20->yfinance) (1.24.3)\n",
            "Requirement already satisfied: certifi>=2017.4.17 in /usr/local/lib/python3.7/dist-packages (from requests>=2.20->yfinance) (2021.5.30)\n",
            "Building wheels for collected packages: yfinance\n",
            "  Building wheel for yfinance (setup.py) ... \u001b[?25l\u001b[?25hdone\n",
            "  Created wheel for yfinance: filename=yfinance-0.1.64-py2.py3-none-any.whl size=24109 sha256=34ec0c380de4e9933df2e60ee798dff5b92c6aa1c378ed88735b9f2ef5a4f38f\n",
            "  Stored in directory: /root/.cache/pip/wheels/86/fe/9b/a4d3d78796b699e37065e5b6c27b75cff448ddb8b24943c288\n",
            "Successfully built yfinance\n",
            "Installing collected packages: lxml, yfinance\n",
            "  Attempting uninstall: lxml\n",
            "    Found existing installation: lxml 4.2.6\n",
            "    Uninstalling lxml-4.2.6:\n",
            "      Successfully uninstalled lxml-4.2.6\n",
            "Successfully installed lxml-4.6.4 yfinance-0.1.64\n",
            "Collecting yahoofinancials\n",
            "  Downloading yahoofinancials-1.6.tar.gz (27 kB)\n",
            "Requirement already satisfied: beautifulsoup4 in /usr/local/lib/python3.7/dist-packages (from yahoofinancials) (4.6.3)\n",
            "Requirement already satisfied: pytz in /usr/local/lib/python3.7/dist-packages (from yahoofinancials) (2018.9)\n",
            "Building wheels for collected packages: yahoofinancials\n",
            "  Building wheel for yahoofinancials (setup.py) ... \u001b[?25l\u001b[?25hdone\n",
            "  Created wheel for yahoofinancials: filename=yahoofinancials-1.6-py3-none-any.whl size=15190 sha256=f9bff71f837b19315cbb0063d0cb497a45df5a3c778b535c4424f54ea2905667\n",
            "  Stored in directory: /root/.cache/pip/wheels/4b/63/46/e7110bfee88685fe69e338d1b14d1748921862aa57b6705b60\n",
            "Successfully built yahoofinancials\n",
            "Installing collected packages: yahoofinancials\n",
            "Successfully installed yahoofinancials-1.6\n"
          ]
        }
      ]
    },
    {
      "cell_type": "code",
      "metadata": {
        "id": "8xADaFvy_U_f"
      },
      "source": [
        "import pandas as pd\n",
        "import numpy as np\n",
        "import yfinance as yf\n",
        "from yahoofinancials import YahooFinancials"
      ],
      "execution_count": 2,
      "outputs": []
    },
    {
      "cell_type": "code",
      "metadata": {
        "id": "KDyYHSwC_Xwb"
      },
      "source": [
        "companies = ['RBLX',]\n",
        "#startDate = \"2018-01-02\"\n",
        "startDate = \"2017-01-01\"\n",
        "endDate = \"2021-11-08\""
      ],
      "execution_count": 6,
      "outputs": []
    },
    {
      "cell_type": "code",
      "metadata": {
        "colab": {
          "base_uri": "https://localhost:8080/",
          "height": 351
        },
        "id": "wHZ4aX2f_Zx4",
        "outputId": "de01b0de-9d48-421f-cfe4-1ac858faf939"
      },
      "source": [
        "finalData=pd.DataFrame()\n",
        "for company in companies:\n",
        "  tsla_df = yf.download(company, \n",
        "                      start=startDate, \n",
        "                      end=endDate, \n",
        "                      progress=False)\n",
        "  tsla_df = tsla_df.drop(columns=['Open', 'High','Low', 'Volume',\"Adj Close\"])\n",
        "  tsla_df = tsla_df.rename(columns={'Close': company})\n",
        "  tmp = tsla_df[str(company)]\n",
        "\n",
        "  finalData = finalData.append(tmp, ignore_index=True)\n",
        "finalData\n",
        "finalData = finalData.T # or df2.transpose()\n",
        "for i in range(len(companies)):\n",
        "  finalData = finalData.rename(columns={i: companies[i]})\n",
        "\n",
        "\n",
        "\n",
        "\n",
        "finalData['Date'] = finalData.index\n",
        "col_name=\"Date\"\n",
        "first_col = finalData.pop(col_name)\n",
        "finalData.insert(0, col_name, first_col)\n",
        "finalData.tail(10)"
      ],
      "execution_count": 9,
      "outputs": [
        {
          "output_type": "execute_result",
          "data": {
            "text/html": [
              "<div>\n",
              "<style scoped>\n",
              "    .dataframe tbody tr th:only-of-type {\n",
              "        vertical-align: middle;\n",
              "    }\n",
              "\n",
              "    .dataframe tbody tr th {\n",
              "        vertical-align: top;\n",
              "    }\n",
              "\n",
              "    .dataframe thead th {\n",
              "        text-align: right;\n",
              "    }\n",
              "</style>\n",
              "<table border=\"1\" class=\"dataframe\">\n",
              "  <thead>\n",
              "    <tr style=\"text-align: right;\">\n",
              "      <th></th>\n",
              "      <th>Date</th>\n",
              "      <th>RBLX</th>\n",
              "    </tr>\n",
              "  </thead>\n",
              "  <tbody>\n",
              "    <tr>\n",
              "      <th>2021-10-25</th>\n",
              "      <td>2021-10-25</td>\n",
              "      <td>83.209999</td>\n",
              "    </tr>\n",
              "    <tr>\n",
              "      <th>2021-10-26</th>\n",
              "      <td>2021-10-26</td>\n",
              "      <td>80.889999</td>\n",
              "    </tr>\n",
              "    <tr>\n",
              "      <th>2021-10-27</th>\n",
              "      <td>2021-10-27</td>\n",
              "      <td>80.680000</td>\n",
              "    </tr>\n",
              "    <tr>\n",
              "      <th>2021-10-28</th>\n",
              "      <td>2021-10-28</td>\n",
              "      <td>82.750000</td>\n",
              "    </tr>\n",
              "    <tr>\n",
              "      <th>2021-10-29</th>\n",
              "      <td>2021-10-29</td>\n",
              "      <td>84.019997</td>\n",
              "    </tr>\n",
              "    <tr>\n",
              "      <th>2021-11-01</th>\n",
              "      <td>2021-11-01</td>\n",
              "      <td>81.139999</td>\n",
              "    </tr>\n",
              "    <tr>\n",
              "      <th>2021-11-02</th>\n",
              "      <td>2021-11-02</td>\n",
              "      <td>79.589996</td>\n",
              "    </tr>\n",
              "    <tr>\n",
              "      <th>2021-11-03</th>\n",
              "      <td>2021-11-03</td>\n",
              "      <td>78.360001</td>\n",
              "    </tr>\n",
              "    <tr>\n",
              "      <th>2021-11-04</th>\n",
              "      <td>2021-11-04</td>\n",
              "      <td>82.529999</td>\n",
              "    </tr>\n",
              "    <tr>\n",
              "      <th>2021-11-05</th>\n",
              "      <td>2021-11-05</td>\n",
              "      <td>77.989998</td>\n",
              "    </tr>\n",
              "  </tbody>\n",
              "</table>\n",
              "</div>"
            ],
            "text/plain": [
              "                 Date       RBLX\n",
              "2021-10-25 2021-10-25  83.209999\n",
              "2021-10-26 2021-10-26  80.889999\n",
              "2021-10-27 2021-10-27  80.680000\n",
              "2021-10-28 2021-10-28  82.750000\n",
              "2021-10-29 2021-10-29  84.019997\n",
              "2021-11-01 2021-11-01  81.139999\n",
              "2021-11-02 2021-11-02  79.589996\n",
              "2021-11-03 2021-11-03  78.360001\n",
              "2021-11-04 2021-11-04  82.529999\n",
              "2021-11-05 2021-11-05  77.989998"
            ]
          },
          "metadata": {},
          "execution_count": 9
        }
      ]
    },
    {
      "cell_type": "code",
      "metadata": {
        "colab": {
          "base_uri": "https://localhost:8080/"
        },
        "id": "gSbpIwTz_d9a",
        "outputId": "6bc651c0-d518-413e-a4d3-9f562025398e"
      },
      "source": [
        "#Check if any Columns have empty values(NAN)\n",
        "finalData.sort_values(by=['Date'])\n",
        "finalData.columns[finalData.isna().any()].tolist()\n",
        "print(finalData)"
      ],
      "execution_count": 10,
      "outputs": [
        {
          "output_type": "stream",
          "name": "stdout",
          "text": [
            "                 Date       RBLX\n",
            "2021-03-10 2021-03-10  69.500000\n",
            "2021-03-11 2021-03-11  73.900002\n",
            "2021-03-12 2021-03-12  69.699997\n",
            "2021-03-15 2021-03-15  72.150002\n",
            "2021-03-16 2021-03-16  77.000000\n",
            "...               ...        ...\n",
            "2021-11-01 2021-11-01  81.139999\n",
            "2021-11-02 2021-11-02  79.589996\n",
            "2021-11-03 2021-11-03  78.360001\n",
            "2021-11-04 2021-11-04  82.529999\n",
            "2021-11-05 2021-11-05  77.989998\n",
            "\n",
            "[169 rows x 2 columns]\n"
          ]
        }
      ]
    },
    {
      "cell_type": "code",
      "metadata": {
        "colab": {
          "base_uri": "https://localhost:8080/",
          "height": 325
        },
        "id": "o7G3CzWF_tZU",
        "outputId": "fedd02e1-3dca-4b9c-81f6-6f0f9ae68b59"
      },
      "source": [
        "goodCompanies = ['RBLX']\n",
        "for company in goodCompanies[:len(goodCompanies)]:\n",
        "\n",
        "  ticker = yf.Ticker(company)\n",
        "  tsla_df = ticker.history(period=\"5Y\")\n",
        "  print(tsla_df['Close'].plot(title= str(company) + \"s stock price\"))\n",
        "\n",
        "print(finalData[goodCompanies].shape)"
      ],
      "execution_count": 11,
      "outputs": [
        {
          "output_type": "stream",
          "name": "stdout",
          "text": [
            "AxesSubplot(0.125,0.2;0.775x0.68)\n",
            "(169, 1)\n"
          ]
        },
        {
          "output_type": "display_data",
          "data": {
            "image/png": "[encoded data removed]",
            "text/plain": [
              "<Figure size 432x288 with 1 Axes>"
            ]
          },
          "metadata": {
            "needs_background": "light"
          }
        }
      ]
    },
    {
      "cell_type": "code",
      "metadata": {
        "id": "E9trUxaM_zEn"
      },
      "source": [
        "finalVolume=pd.DataFrame()\n",
        "for company in companies:\n",
        "  tsla_df = yf.download(company, \n",
        "                      start=startDate, \n",
        "                      end=endDate, \n",
        "                      progress=False)\n",
        "  tsla_df = tsla_df.drop(columns=['Open', 'High','Low', 'Close',\"Adj Close\"])\n",
        "  tsla_df = tsla_df.rename(columns={'Volume': company})\n",
        "  tmp = tsla_df[str(company)]\n",
        "\n",
        "  finalVolume = finalVolume.append(tmp, ignore_index=True)\n",
        "finalVolume = finalVolume.T # or df2.transpose()\n",
        "for i in range(len(companies)):\n",
        "  finalVolume = finalVolume.rename(columns={i: companies[i]})"
      ],
      "execution_count": 12,
      "outputs": []
    },
    {
      "cell_type": "code",
      "metadata": {
        "id": "8qrY7kif_4lJ"
      },
      "source": [
        "\n",
        "finalVolume['Date'] = finalVolume.index\n",
        "col_name=\"Date\"\n",
        "first_col = finalVolume.pop(col_name)\n",
        "finalVolume.insert(0, col_name, first_col)"
      ],
      "execution_count": 13,
      "outputs": []
    },
    {
      "cell_type": "code",
      "metadata": {
        "colab": {
          "base_uri": "https://localhost:8080/",
          "height": 408
        },
        "id": "xlDsNyog_7D_",
        "outputId": "8e7519f0-f8cd-4299-8916-ed6d9bc131bd"
      },
      "source": [
        "finalVolume\n"
      ],
      "execution_count": 14,
      "outputs": [
        {
          "output_type": "execute_result",
          "data": {
            "text/html": [
              "<div>\n",
              "<style scoped>\n",
              "    .dataframe tbody tr th:only-of-type {\n",
              "        vertical-align: middle;\n",
              "    }\n",
              "\n",
              "    .dataframe tbody tr th {\n",
              "        vertical-align: top;\n",
              "    }\n",
              "\n",
              "    .dataframe thead th {\n",
              "        text-align: right;\n",
              "    }\n",
              "</style>\n",
              "<table border=\"1\" class=\"dataframe\">\n",
              "  <thead>\n",
              "    <tr style=\"text-align: right;\">\n",
              "      <th></th>\n",
              "      <th>Date</th>\n",
              "      <th>RBLX</th>\n",
              "    </tr>\n",
              "  </thead>\n",
              "  <tbody>\n",
              "    <tr>\n",
              "      <th>2021-03-10</th>\n",
              "      <td>2021-03-10</td>\n",
              "      <td>97069300.0</td>\n",
              "    </tr>\n",
              "    <tr>\n",
              "      <th>2021-03-11</th>\n",
              "      <td>2021-03-11</td>\n",
              "      <td>59629300.0</td>\n",
              "    </tr>\n",
              "    <tr>\n",
              "      <th>2021-03-12</th>\n",
              "      <td>2021-03-12</td>\n",
              "      <td>19714700.0</td>\n",
              "    </tr>\n",
              "    <tr>\n",
              "      <th>2021-03-15</th>\n",
              "      <td>2021-03-15</td>\n",
              "      <td>19549800.0</td>\n",
              "    </tr>\n",
              "    <tr>\n",
              "      <th>2021-03-16</th>\n",
              "      <td>2021-03-16</td>\n",
              "      <td>30274400.0</td>\n",
              "    </tr>\n",
              "    <tr>\n",
              "      <th>...</th>\n",
              "      <td>...</td>\n",
              "      <td>...</td>\n",
              "    </tr>\n",
              "    <tr>\n",
              "      <th>2021-11-01</th>\n",
              "      <td>2021-11-01</td>\n",
              "      <td>6274200.0</td>\n",
              "    </tr>\n",
              "    <tr>\n",
              "      <th>2021-11-02</th>\n",
              "      <td>2021-11-02</td>\n",
              "      <td>4551300.0</td>\n",
              "    </tr>\n",
              "    <tr>\n",
              "      <th>2021-11-03</th>\n",
              "      <td>2021-11-03</td>\n",
              "      <td>4730900.0</td>\n",
              "    </tr>\n",
              "    <tr>\n",
              "      <th>2021-11-04</th>\n",
              "      <td>2021-11-04</td>\n",
              "      <td>6702200.0</td>\n",
              "    </tr>\n",
              "    <tr>\n",
              "      <th>2021-11-05</th>\n",
              "      <td>2021-11-05</td>\n",
              "      <td>6706400.0</td>\n",
              "    </tr>\n",
              "  </tbody>\n",
              "</table>\n",
              "<p>169 rows × 2 columns</p>\n",
              "</div>"
            ],
            "text/plain": [
              "                 Date        RBLX\n",
              "2021-03-10 2021-03-10  97069300.0\n",
              "2021-03-11 2021-03-11  59629300.0\n",
              "2021-03-12 2021-03-12  19714700.0\n",
              "2021-03-15 2021-03-15  19549800.0\n",
              "2021-03-16 2021-03-16  30274400.0\n",
              "...               ...         ...\n",
              "2021-11-01 2021-11-01   6274200.0\n",
              "2021-11-02 2021-11-02   4551300.0\n",
              "2021-11-03 2021-11-03   4730900.0\n",
              "2021-11-04 2021-11-04   6702200.0\n",
              "2021-11-05 2021-11-05   6706400.0\n",
              "\n",
              "[169 rows x 2 columns]"
            ]
          },
          "metadata": {},
          "execution_count": 14
        }
      ]
    },
    {
      "cell_type": "code",
      "metadata": {
        "colab": {
          "base_uri": "https://localhost:8080/",
          "height": 408
        },
        "id": "Bhi-ubxs_8Rm",
        "outputId": "32e26ecd-bb2f-4a9c-c06b-ee0e79e672a9"
      },
      "source": [
        "finalVolume=pd.DataFrame()\n",
        "for company in companies:\n",
        "  tsla_df = yf.download(company, \n",
        "                      start=startDate, \n",
        "                      end=endDate, \n",
        "                      progress=False)\n",
        "  tsla_df = tsla_df.drop(columns=['Open', 'High','Low', 'Close',\"Adj Close\"])\n",
        "  tsla_df = tsla_df.rename(columns={'Volume': company})\n",
        "  tmp = tsla_df[str(company)]\n",
        "\n",
        "  finalVolume = finalVolume.append(tmp, ignore_index=True)\n",
        "finalVolume = finalVolume.T # or df2.transpose()\n",
        "for i in range(len(companies)):\n",
        "  finalVolume = finalVolume.rename(columns={i: companies[i]})\n",
        "\n",
        "\n",
        "\n",
        "\n",
        "finalVolume['Date'] = finalVolume.index\n",
        "col_name=\"Date\"\n",
        "first_col = finalVolume.pop(col_name)\n",
        "finalVolume.insert(0, col_name, first_col)\n",
        "finalVolume\n"
      ],
      "execution_count": 17,
      "outputs": [
        {
          "output_type": "execute_result",
          "data": {
            "text/html": [
              "<div>\n",
              "<style scoped>\n",
              "    .dataframe tbody tr th:only-of-type {\n",
              "        vertical-align: middle;\n",
              "    }\n",
              "\n",
              "    .dataframe tbody tr th {\n",
              "        vertical-align: top;\n",
              "    }\n",
              "\n",
              "    .dataframe thead th {\n",
              "        text-align: right;\n",
              "    }\n",
              "</style>\n",
              "<table border=\"1\" class=\"dataframe\">\n",
              "  <thead>\n",
              "    <tr style=\"text-align: right;\">\n",
              "      <th></th>\n",
              "      <th>Date</th>\n",
              "      <th>RBLX</th>\n",
              "    </tr>\n",
              "  </thead>\n",
              "  <tbody>\n",
              "    <tr>\n",
              "      <th>2021-03-10</th>\n",
              "      <td>2021-03-10</td>\n",
              "      <td>97069300.0</td>\n",
              "    </tr>\n",
              "    <tr>\n",
              "      <th>2021-03-11</th>\n",
              "      <td>2021-03-11</td>\n",
              "      <td>59629300.0</td>\n",
              "    </tr>\n",
              "    <tr>\n",
              "      <th>2021-03-12</th>\n",
              "      <td>2021-03-12</td>\n",
              "      <td>19714700.0</td>\n",
              "    </tr>\n",
              "    <tr>\n",
              "      <th>2021-03-15</th>\n",
              "      <td>2021-03-15</td>\n",
              "      <td>19549800.0</td>\n",
              "    </tr>\n",
              "    <tr>\n",
              "      <th>2021-03-16</th>\n",
              "      <td>2021-03-16</td>\n",
              "      <td>30274400.0</td>\n",
              "    </tr>\n",
              "    <tr>\n",
              "      <th>...</th>\n",
              "      <td>...</td>\n",
              "      <td>...</td>\n",
              "    </tr>\n",
              "    <tr>\n",
              "      <th>2021-11-01</th>\n",
              "      <td>2021-11-01</td>\n",
              "      <td>6274200.0</td>\n",
              "    </tr>\n",
              "    <tr>\n",
              "      <th>2021-11-02</th>\n",
              "      <td>2021-11-02</td>\n",
              "      <td>4551300.0</td>\n",
              "    </tr>\n",
              "    <tr>\n",
              "      <th>2021-11-03</th>\n",
              "      <td>2021-11-03</td>\n",
              "      <td>4730900.0</td>\n",
              "    </tr>\n",
              "    <tr>\n",
              "      <th>2021-11-04</th>\n",
              "      <td>2021-11-04</td>\n",
              "      <td>6702200.0</td>\n",
              "    </tr>\n",
              "    <tr>\n",
              "      <th>2021-11-05</th>\n",
              "      <td>2021-11-05</td>\n",
              "      <td>6706400.0</td>\n",
              "    </tr>\n",
              "  </tbody>\n",
              "</table>\n",
              "<p>169 rows × 2 columns</p>\n",
              "</div>"
            ],
            "text/plain": [
              "                 Date        RBLX\n",
              "2021-03-10 2021-03-10  97069300.0\n",
              "2021-03-11 2021-03-11  59629300.0\n",
              "2021-03-12 2021-03-12  19714700.0\n",
              "2021-03-15 2021-03-15  19549800.0\n",
              "2021-03-16 2021-03-16  30274400.0\n",
              "...               ...         ...\n",
              "2021-11-01 2021-11-01   6274200.0\n",
              "2021-11-02 2021-11-02   4551300.0\n",
              "2021-11-03 2021-11-03   4730900.0\n",
              "2021-11-04 2021-11-04   6702200.0\n",
              "2021-11-05 2021-11-05   6706400.0\n",
              "\n",
              "[169 rows x 2 columns]"
            ]
          },
          "metadata": {},
          "execution_count": 17
        }
      ]
    },
    {
      "cell_type": "code",
      "metadata": {
        "colab": {
          "base_uri": "https://localhost:8080/",
          "height": 325
        },
        "id": "umWqaQLOAGAL",
        "outputId": "ddc7adb0-3577-4aa2-fd6e-221733bb9cfa"
      },
      "source": [
        "goodCompanies = ['RBLX']\n",
        "for company in goodCompanies[:len(goodCompanies)]:\n",
        "\n",
        "  ticker = yf.Ticker(company)\n",
        "  tsla_df = ticker.history(period=\"1Y\")\n",
        "  print(tsla_df['Volume'].plot(title= str(company) + \"s stock price\"))\n",
        "\n",
        "print(finalData[goodCompanies].shape)"
      ],
      "execution_count": 22,
      "outputs": [
        {
          "output_type": "stream",
          "name": "stdout",
          "text": [
            "AxesSubplot(0.125,0.2;0.775x0.68)\n",
            "(169, 1)\n"
          ]
        },
        {
          "output_type": "display_data",
          "data": {
            "image/png": "[encoded data removed]",
            "text/plain": [
              "<Figure size 432x288 with 1 Axes>"
            ]
          },
          "metadata": {
            "needs_background": "light"
          }
        }
      ]
    },
    {
      "cell_type": "code",
      "metadata": {
        "colab": {
          "base_uri": "https://localhost:8080/",
          "height": 325
        },
        "id": "-zPw6TnOAfzS",
        "outputId": "b41deecd-0284-430f-e6f2-0996e81c0741"
      },
      "source": [
        "goodCompanies = ['RBLX']\n",
        "for company in goodCompanies[:len(goodCompanies)]:\n",
        "\n",
        "  ticker = yf.Ticker(company)\n",
        "  tsla_df = ticker.history(period=\"5Y\")\n",
        "  print(tsla_df['Close'].plot(title= str(company) + \"s stock price\"))\n",
        "\n",
        "print(finalData[goodCompanies].shape)"
      ],
      "execution_count": 23,
      "outputs": [
        {
          "output_type": "stream",
          "name": "stdout",
          "text": [
            "AxesSubplot(0.125,0.2;0.775x0.68)\n",
            "(169, 1)\n"
          ]
        },
        {
          "output_type": "display_data",
          "data": {
            "image/png": "[encoded data removed]",
            "text/plain": [
              "<Figure size 432x288 with 1 Axes>"
            ]
          },
          "metadata": {
            "needs_background": "light"
          }
        }
      ]
    },
    {
      "cell_type": "code",
      "metadata": {
        "id": "zOIIv1OJAsjJ"
      },
      "source": [
        ""
      ],
      "execution_count": null,
      "outputs": []
    }
  ]
}