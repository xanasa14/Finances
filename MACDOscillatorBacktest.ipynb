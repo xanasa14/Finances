{
  "nbformat": 4,
  "nbformat_minor": 0,
  "metadata": {
    "colab": {
      "name": "MACDOscillatorBacktest.ipynb",
      "provenance": [],
      "collapsed_sections": [],
      "authorship_tag": "ABX9TyND5YmpKRcJJiOv4SHGqdRz",
      "include_colab_link": true
    },
    "kernelspec": {
      "name": "python3",
      "display_name": "Python 3"
    },
    "language_info": {
      "name": "python"
    }
  },
  "cells": [
    {
      "cell_type": "markdown",
      "metadata": {
        "id": "view-in-github",
        "colab_type": "text"
      },
      "source": [
        "<a href=\"https://colab.research.google.com/github/xanasa14/Finances/blob/main/MACDOscillatorBacktest.ipynb\" target=\"_parent\"><img src=\"https://colab.research.google.com/assets/colab-badge.svg\" alt=\"Open In Colab\"/></a>"
      ]
    },
    {
      "cell_type": "code",
      "metadata": {
        "id": "n7CCft6XsQa2"
      },
      "source": [
        "#main Stats\n",
        "#https://github.com/je-suis-tm/quant-trading\n",
        "#Specific Strat\n",
        "#https://github.com/je-suis-tm/quant-trading/blob/master/MACD%20Oscillator%20backtest.py"
      ],
      "execution_count": null,
      "outputs": []
    },
    {
      "cell_type": "code",
      "metadata": {
        "id": "xzU1nliysazU"
      },
      "source": [
        "\n",
        "import matplotlib.pyplot as plt\n",
        "import numpy as np\n",
        "import pandas as pd\n",
        "import fix_yahoo_finance as yf\n"
      ],
      "execution_count": null,
      "outputs": []
    },
    {
      "cell_type": "code",
      "metadata": {
        "id": "XQVc0ez5scwE"
      },
      "source": [
        "#simple moving average\n",
        "\n",
        "def macd(signals):\n",
        "    \n",
        "    signals['ma1']=signals['Close'].rolling(window=ma1,min_periods=1,center=False).mean()\n",
        "    signals['ma2']=signals['Close'].rolling(window=ma2,min_periods=1,center=False).mean()\n",
        "    \n",
        "    return signals"
      ],
      "execution_count": null,
      "outputs": []
    },
    {
      "cell_type": "code",
      "metadata": {
        "id": "dAUZJ5cPsgXY"
      },
      "source": [
        "#signal generation\n",
        "#when the short moving average is larger than long moving average, we long and hold\n",
        "#when the short moving average is smaller than long moving average, we clear positions\n",
        "#the logic behind this is that the momentum has more impact on short moving average\n",
        "#we can subtract short moving average from long moving average\n",
        "#the difference between is sometimes positive, it sometimes becomes negative\n",
        "#thats why it is named as moving average converge/diverge oscillator\n",
        "def signal_generation(df,method):\n",
        "    \n",
        "    signals=method(df)\n",
        "    signals['positions']=0\n",
        "\n",
        "    #positions becomes and stays one once the short moving average is above long moving average\n",
        "    signals['positions'][ma1:]=np.where(signals['ma1'][ma1:]>=signals['ma2'][ma1:],1,0)\n",
        "\n",
        "    #as positions only imply the holding\n",
        "    #we take the difference to generate real trade signal\n",
        "    signals['signals']=signals['positions'].diff()\n",
        "\n",
        "    #oscillator is the difference between two moving average\n",
        "    #when it is positive, we long, vice versa\n",
        "    signals['oscillator']=signals['ma1']-signals['ma2']\n",
        "\n",
        "    return signals\n",
        "\n"
      ],
      "execution_count": null,
      "outputs": []
    },
    {
      "cell_type": "code",
      "metadata": {
        "id": "UD_-nb1AsjiF"
      },
      "source": [
        "#plotting the backtesting result\n",
        "def plot(new, ticker):\n",
        "    \n",
        "    #the first plot is the actual close price with long/short positions\n",
        "    fig=plt.figure()\n",
        "    ax=fig.add_subplot(111)\n",
        "    \n",
        "    new['Close'].plot(label=ticker)\n",
        "    ax.plot(new.loc[new['signals']==1].index,new['Close'][new['signals']==1],label='LONG',lw=0,marker='^',c='g')\n",
        "    ax.plot(new.loc[new['signals']==-1].index,new['Close'][new['signals']==-1],label='SHORT',lw=0,marker='v',c='r')\n",
        "\n",
        "    plt.legend(loc='best')\n",
        "    plt.grid(True)\n",
        "    plt.title('Positions')\n",
        "    \n",
        "    plt.show()\n",
        "    \n",
        "    #the second plot is long/short moving average with oscillator\n",
        "    #note that i use bar chart for oscillator\n",
        "    fig=plt.figure()\n",
        "    cx=fig.add_subplot(211)\n",
        "\n",
        "    new['oscillator'].plot(kind='bar',color='r')\n",
        "\n",
        "    plt.legend(loc='best')\n",
        "    plt.grid(True)\n",
        "    plt.xticks([])\n",
        "    plt.xlabel('')\n",
        "    plt.title('MACD Oscillator')\n",
        "\n",
        "    bx=fig.add_subplot(212)\n",
        "\n",
        "    new['ma1'].plot(label='ma1')\n",
        "    new['ma2'].plot(label='ma2',linestyle=':')\n",
        "    \n",
        "    plt.legend(loc='best')\n",
        "    plt.grid(True)\n",
        "    plt.show()\n"
      ],
      "execution_count": null,
      "outputs": []
    },
    {
      "cell_type": "code",
      "metadata": {
        "id": "HFuGSL06suOK"
      },
      "source": [
        "def main():\n",
        "    \n",
        "    #input the long moving average and short moving average period\n",
        "    #for the classic MACD, it is 12 and 26\n",
        "    #once a upon a time you got six trading days in a week\n",
        "    #so it is two week moving average versus one month moving average\n",
        "    #for now, the ideal choice would be 10 and 21\n",
        "    \n",
        "    global ma1,ma2,stdate,eddate,ticker,slicer\n",
        "\n",
        "    #macd is easy and effective\n",
        "    #there is just one issue\n",
        "    #entry signal is always late\n",
        "    #watch out for downward EMA spirals!\n",
        "    '''\n",
        "    ma1=int(input('ma1:'))\n",
        "    ma2=int(input('ma2:'))\n",
        "    stdate=input('start date in format yyyy-mm-dd:')\n",
        "    eddate=input('end date in format yyyy-mm-dd:')\n",
        "    ticker=input('ticker:')\n",
        "    slicer=int(input('slicing:'))\n",
        "    '''\n",
        "\n",
        "    #stop loss positions, the maximum long positions we can get\n",
        "    #without certain constraints, you will long indefinites times \n",
        "    #as long as the market condition triggers the signal\n",
        "    #in a whipsaw condition, it is suicidal\n",
        "    stls=3\n",
        "    ticker='NVDA'\n",
        "    stdate='2015-04-01'\n",
        "    eddate='2018-02-15'\n",
        "\n",
        "    #slicer is used for plotting\n",
        "    #a three year dataset with 750 data points would be too much\n",
        "    slicer=700\n",
        "    #slicing the downloaded dataset\n",
        "    #if the dataset is too large, backtesting plot would look messy\n",
        "    #you get too many markers cluster together\n",
        "    \n",
        "\n",
        "    #downloading data\n",
        "    df=yf.download(ticker,start=stdate,end=eddate)\n",
        "    \n",
        "    new=signal_generation(df,macd)\n",
        "    new=new[slicer:]\n",
        "    plot(new, ticker)\n",
        "\n",
        "\n",
        "#how to calculate stats could be found from my other code called Heikin-Ashi\n",
        "# https://github.com/je-suis-tm/quant-trading/blob/master/heikin%20ashi%20backtest.py\n"
      ],
      "execution_count": null,
      "outputs": []
    },
    {
      "cell_type": "code",
      "metadata": {
        "colab": {
          "base_uri": "https://localhost:8080/",
          "height": 311
        },
        "id": "2jzB__Osswsd",
        "outputId": "b7daef81-c427-45d5-e6f7-aeb161bd8ffd"
      },
      "source": [
        "main()"
      ],
      "execution_count": null,
      "outputs": [
        {
          "output_type": "error",
          "ename": "KeyError",
          "evalue": "ignored",
          "traceback": [
            "\u001b[0;31m---------------------------------------------------------------------------\u001b[0m",
            "\u001b[0;31mKeyError\u001b[0m                                  Traceback (most recent call last)",
            "\u001b[0;32m<ipython-input-18-263240bbee7e>\u001b[0m in \u001b[0;36m<module>\u001b[0;34m()\u001b[0m\n\u001b[0;32m----> 1\u001b[0;31m \u001b[0mmain\u001b[0m\u001b[0;34m(\u001b[0m\u001b[0;34m)\u001b[0m\u001b[0;34m\u001b[0m\u001b[0;34m\u001b[0m\u001b[0m\n\u001b[0m",
            "\u001b[0;32m<ipython-input-17-5ca48d9844ee>\u001b[0m in \u001b[0;36mmain\u001b[0;34m()\u001b[0m\n\u001b[1;32m     40\u001b[0m \u001b[0;34m\u001b[0m\u001b[0m\n\u001b[1;32m     41\u001b[0m     \u001b[0;31m#downloading data\u001b[0m\u001b[0;34m\u001b[0m\u001b[0;34m\u001b[0m\u001b[0;34m\u001b[0m\u001b[0m\n\u001b[0;32m---> 42\u001b[0;31m     \u001b[0mdf\u001b[0m\u001b[0;34m=\u001b[0m\u001b[0myf\u001b[0m\u001b[0;34m.\u001b[0m\u001b[0mdownload\u001b[0m\u001b[0;34m(\u001b[0m\u001b[0mticker\u001b[0m\u001b[0;34m,\u001b[0m\u001b[0mstart\u001b[0m\u001b[0;34m=\u001b[0m\u001b[0mstdate\u001b[0m\u001b[0;34m,\u001b[0m\u001b[0mend\u001b[0m\u001b[0;34m=\u001b[0m\u001b[0meddate\u001b[0m\u001b[0;34m)\u001b[0m\u001b[0;34m\u001b[0m\u001b[0;34m\u001b[0m\u001b[0m\n\u001b[0m\u001b[1;32m     43\u001b[0m \u001b[0;34m\u001b[0m\u001b[0m\n\u001b[1;32m     44\u001b[0m     \u001b[0mnew\u001b[0m\u001b[0;34m=\u001b[0m\u001b[0msignal_generation\u001b[0m\u001b[0;34m(\u001b[0m\u001b[0mdf\u001b[0m\u001b[0;34m,\u001b[0m\u001b[0mmacd\u001b[0m\u001b[0;34m)\u001b[0m\u001b[0;34m\u001b[0m\u001b[0;34m\u001b[0m\u001b[0m\n",
            "\u001b[0;32m/usr/local/lib/python3.7/dist-packages/fix_yahoo_finance/__init__.py\u001b[0m in \u001b[0;36mdownload\u001b[0;34m(tickers, start, end, as_panel, group_by, auto_adjust, progress, actions, threads, **kwargs)\u001b[0m\n\u001b[1;32m    167\u001b[0m         download_chunk(tickers, start=start, end=end,\n\u001b[1;32m    168\u001b[0m                        \u001b[0mauto_adjust\u001b[0m\u001b[0;34m=\u001b[0m\u001b[0mauto_adjust\u001b[0m\u001b[0;34m,\u001b[0m \u001b[0mprogress\u001b[0m\u001b[0;34m=\u001b[0m\u001b[0mprogress\u001b[0m\u001b[0;34m,\u001b[0m\u001b[0;34m\u001b[0m\u001b[0;34m\u001b[0m\u001b[0m\n\u001b[0;32m--> 169\u001b[0;31m                        actions=actions, **kwargs)\n\u001b[0m\u001b[1;32m    170\u001b[0m     \u001b[0;31m# threaded download\u001b[0m\u001b[0;34m\u001b[0m\u001b[0;34m\u001b[0m\u001b[0;34m\u001b[0m\u001b[0m\n\u001b[1;32m    171\u001b[0m     \u001b[0;32melse\u001b[0m\u001b[0;34m:\u001b[0m\u001b[0;34m\u001b[0m\u001b[0;34m\u001b[0m\u001b[0m\n",
            "\u001b[0;32m/usr/local/lib/python3.7/dist-packages/fix_yahoo_finance/__init__.py\u001b[0m in \u001b[0;36mdownload_chunk\u001b[0;34m(tickers, start, end, auto_adjust, progress, actions, **kwargs)\u001b[0m\n\u001b[1;32m    318\u001b[0m         \u001b[0;31m# yahoo crumb/cookie\u001b[0m\u001b[0;34m\u001b[0m\u001b[0;34m\u001b[0m\u001b[0;34m\u001b[0m\u001b[0m\n\u001b[1;32m    319\u001b[0m         \u001b[0;31m# crumb, cookie = get_yahoo_crumb()\u001b[0m\u001b[0;34m\u001b[0m\u001b[0;34m\u001b[0m\u001b[0;34m\u001b[0m\u001b[0m\n\u001b[0;32m--> 320\u001b[0;31m         \u001b[0mget_yahoo_crumb\u001b[0m\u001b[0;34m(\u001b[0m\u001b[0;34m)\u001b[0m\u001b[0;34m\u001b[0m\u001b[0;34m\u001b[0m\u001b[0m\n\u001b[0m\u001b[1;32m    321\u001b[0m \u001b[0;34m\u001b[0m\u001b[0m\n\u001b[1;32m    322\u001b[0m         \u001b[0mtried_once\u001b[0m \u001b[0;34m=\u001b[0m \u001b[0;32mFalse\u001b[0m\u001b[0;34m\u001b[0m\u001b[0;34m\u001b[0m\u001b[0m\n",
            "\u001b[0;32m/usr/local/lib/python3.7/dist-packages/fix_yahoo_finance/__init__.py\u001b[0m in \u001b[0;36mget_yahoo_crumb\u001b[0;34m(force)\u001b[0m\n\u001b[1;32m     61\u001b[0m \u001b[0;34m\u001b[0m\u001b[0m\n\u001b[1;32m     62\u001b[0m     \u001b[0mres\u001b[0m \u001b[0;34m=\u001b[0m \u001b[0m_requests\u001b[0m\u001b[0;34m.\u001b[0m\u001b[0mget\u001b[0m\u001b[0;34m(\u001b[0m\u001b[0;34m'https://finance.yahoo.com/quote/SPY/history'\u001b[0m\u001b[0;34m)\u001b[0m\u001b[0;34m\u001b[0m\u001b[0;34m\u001b[0m\u001b[0m\n\u001b[0;32m---> 63\u001b[0;31m     \u001b[0m_YAHOO_COOKIE\u001b[0m \u001b[0;34m=\u001b[0m \u001b[0mres\u001b[0m\u001b[0;34m.\u001b[0m\u001b[0mcookies\u001b[0m\u001b[0;34m[\u001b[0m\u001b[0;34m'B'\u001b[0m\u001b[0;34m]\u001b[0m\u001b[0;34m\u001b[0m\u001b[0;34m\u001b[0m\u001b[0m\n\u001b[0m\u001b[1;32m     64\u001b[0m \u001b[0;34m\u001b[0m\u001b[0m\n\u001b[1;32m     65\u001b[0m     \u001b[0mpattern\u001b[0m \u001b[0;34m=\u001b[0m \u001b[0m_re\u001b[0m\u001b[0;34m.\u001b[0m\u001b[0mcompile\u001b[0m\u001b[0;34m(\u001b[0m\u001b[0;34m'.*\"CrumbStore\":\\{\"crumb\":\"(?P<crumb>[^\"]+)\"\\}'\u001b[0m\u001b[0;34m)\u001b[0m\u001b[0;34m\u001b[0m\u001b[0;34m\u001b[0m\u001b[0m\n",
            "\u001b[0;32m/usr/local/lib/python3.7/dist-packages/requests/cookies.py\u001b[0m in \u001b[0;36m__getitem__\u001b[0;34m(self, name)\u001b[0m\n\u001b[1;32m    326\u001b[0m         \u001b[0;34m.\u001b[0m\u001b[0;34m.\u001b[0m \u001b[0mwarning\u001b[0m\u001b[0;34m:\u001b[0m\u001b[0;34m:\u001b[0m \u001b[0moperation\u001b[0m \u001b[0;32mis\u001b[0m \u001b[0mO\u001b[0m\u001b[0;34m(\u001b[0m\u001b[0mn\u001b[0m\u001b[0;34m)\u001b[0m\u001b[0;34m,\u001b[0m \u001b[0;32mnot\u001b[0m \u001b[0mO\u001b[0m\u001b[0;34m(\u001b[0m\u001b[0;36m1\u001b[0m\u001b[0;34m)\u001b[0m\u001b[0;34m.\u001b[0m\u001b[0;34m\u001b[0m\u001b[0;34m\u001b[0m\u001b[0m\n\u001b[1;32m    327\u001b[0m         \"\"\"\n\u001b[0;32m--> 328\u001b[0;31m         \u001b[0;32mreturn\u001b[0m \u001b[0mself\u001b[0m\u001b[0;34m.\u001b[0m\u001b[0m_find_no_duplicates\u001b[0m\u001b[0;34m(\u001b[0m\u001b[0mname\u001b[0m\u001b[0;34m)\u001b[0m\u001b[0;34m\u001b[0m\u001b[0;34m\u001b[0m\u001b[0m\n\u001b[0m\u001b[1;32m    329\u001b[0m \u001b[0;34m\u001b[0m\u001b[0m\n\u001b[1;32m    330\u001b[0m     \u001b[0;32mdef\u001b[0m \u001b[0m__setitem__\u001b[0m\u001b[0;34m(\u001b[0m\u001b[0mself\u001b[0m\u001b[0;34m,\u001b[0m \u001b[0mname\u001b[0m\u001b[0;34m,\u001b[0m \u001b[0mvalue\u001b[0m\u001b[0;34m)\u001b[0m\u001b[0;34m:\u001b[0m\u001b[0;34m\u001b[0m\u001b[0;34m\u001b[0m\u001b[0m\n",
            "\u001b[0;32m/usr/local/lib/python3.7/dist-packages/requests/cookies.py\u001b[0m in \u001b[0;36m_find_no_duplicates\u001b[0;34m(self, name, domain, path)\u001b[0m\n\u001b[1;32m    397\u001b[0m         \u001b[0;32mif\u001b[0m \u001b[0mtoReturn\u001b[0m\u001b[0;34m:\u001b[0m\u001b[0;34m\u001b[0m\u001b[0;34m\u001b[0m\u001b[0m\n\u001b[1;32m    398\u001b[0m             \u001b[0;32mreturn\u001b[0m \u001b[0mtoReturn\u001b[0m\u001b[0;34m\u001b[0m\u001b[0;34m\u001b[0m\u001b[0m\n\u001b[0;32m--> 399\u001b[0;31m         \u001b[0;32mraise\u001b[0m \u001b[0mKeyError\u001b[0m\u001b[0;34m(\u001b[0m\u001b[0;34m'name=%r, domain=%r, path=%r'\u001b[0m \u001b[0;34m%\u001b[0m \u001b[0;34m(\u001b[0m\u001b[0mname\u001b[0m\u001b[0;34m,\u001b[0m \u001b[0mdomain\u001b[0m\u001b[0;34m,\u001b[0m \u001b[0mpath\u001b[0m\u001b[0;34m)\u001b[0m\u001b[0;34m)\u001b[0m\u001b[0;34m\u001b[0m\u001b[0;34m\u001b[0m\u001b[0m\n\u001b[0m\u001b[1;32m    400\u001b[0m \u001b[0;34m\u001b[0m\u001b[0m\n\u001b[1;32m    401\u001b[0m     \u001b[0;32mdef\u001b[0m \u001b[0m__getstate__\u001b[0m\u001b[0;34m(\u001b[0m\u001b[0mself\u001b[0m\u001b[0;34m)\u001b[0m\u001b[0;34m:\u001b[0m\u001b[0;34m\u001b[0m\u001b[0;34m\u001b[0m\u001b[0m\n",
            "\u001b[0;31mKeyError\u001b[0m: \"name='B', domain=None, path=None\""
          ]
        }
      ]
    },
    {
      "cell_type": "code",
      "metadata": {
        "id": "RnpgGtlAtNt7"
      },
      "source": [
        ""
      ],
      "execution_count": null,
      "outputs": []
    }
  ]
}