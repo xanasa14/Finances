{
  "nbformat": 4,
  "nbformat_minor": 0,
  "metadata": {
    "colab": {
      "name": "BuySell.ipynb",
      "provenance": [],
      "collapsed_sections": [],
      "mount_file_id": "18uQEkatGFbjlMb9chPre29L0_eIVZHcx",
      "authorship_tag": "ABX9TyN/1/nGOizbZAs2KLzoNVz3",
      "include_colab_link": true
    },
    "kernelspec": {
      "name": "python3",
      "display_name": "Python 3"
    },
    "language_info": {
      "name": "python"
    }
  },
  "cells": [
    {
      "cell_type": "markdown",
      "metadata": {
        "id": "view-in-github",
        "colab_type": "text"
      },
      "source": [
        "<a href=\"https://colab.research.google.com/github/xanasa14/Finances/blob/main/BuySell.ipynb\" target=\"_parent\"><img src=\"https://colab.research.google.com/assets/colab-badge.svg\" alt=\"Open In Colab\"/></a>"
      ]
    },
    {
      "cell_type": "code",
      "metadata": {
        "id": "Ke9TQnYZhv-n"
      },
      "source": [
        "#Importing needed libraries\n",
        "\n",
        "import pandas as pd\n",
        "import numpy as np\n",
        "from datetime import datetime\n",
        "import matplotlib.pyplot as plt\n",
        "plt.style.use('fivethirtyeight')\n"
      ],
      "execution_count": 173,
      "outputs": []
    },
    {
      "cell_type": "code",
      "metadata": {
        "colab": {
          "base_uri": "https://localhost:8080/",
          "height": 407
        },
        "id": "G5PrEprRh1Bk",
        "outputId": "08496837-1a0f-4bb2-c8f3-bebb33e3a3d4"
      },
      "source": [
        "stock_price_df = pd.read_csv('/content/drive/MyDrive/YahooData/YahooFinanceData.csv')\n",
        "#print(stock_price_df['AMZN'].head())\n",
        "#print(stock_price_df['AMZN'].tail())\n",
        "\n",
        "\n",
        "df = pd.DataFrame()\n",
        "df['AMZN'] = stock_price_df['AMZN'].values\n",
        "df = df.dropna()\n",
        "df"
      ],
      "execution_count": 174,
      "outputs": [
        {
          "output_type": "execute_result",
          "data": {
            "text/html": [
              "<div>\n",
              "<style scoped>\n",
              "    .dataframe tbody tr th:only-of-type {\n",
              "        vertical-align: middle;\n",
              "    }\n",
              "\n",
              "    .dataframe tbody tr th {\n",
              "        vertical-align: top;\n",
              "    }\n",
              "\n",
              "    .dataframe thead th {\n",
              "        text-align: right;\n",
              "    }\n",
              "</style>\n",
              "<table border=\"1\" class=\"dataframe\">\n",
              "  <thead>\n",
              "    <tr style=\"text-align: right;\">\n",
              "      <th></th>\n",
              "      <th>AMZN</th>\n",
              "    </tr>\n",
              "  </thead>\n",
              "  <tbody>\n",
              "    <tr>\n",
              "      <th>0</th>\n",
              "      <td>753.669983</td>\n",
              "    </tr>\n",
              "    <tr>\n",
              "      <th>1</th>\n",
              "      <td>757.179993</td>\n",
              "    </tr>\n",
              "    <tr>\n",
              "      <th>2</th>\n",
              "      <td>780.450012</td>\n",
              "    </tr>\n",
              "    <tr>\n",
              "      <th>3</th>\n",
              "      <td>795.989990</td>\n",
              "    </tr>\n",
              "    <tr>\n",
              "      <th>4</th>\n",
              "      <td>796.919983</td>\n",
              "    </tr>\n",
              "    <tr>\n",
              "      <th>...</th>\n",
              "      <td>...</td>\n",
              "    </tr>\n",
              "    <tr>\n",
              "      <th>1071</th>\n",
              "      <td>3279.389893</td>\n",
              "    </tr>\n",
              "    <tr>\n",
              "      <th>1072</th>\n",
              "      <td>3299.300049</td>\n",
              "    </tr>\n",
              "    <tr>\n",
              "      <th>1073</th>\n",
              "      <td>3372.199951</td>\n",
              "    </tr>\n",
              "    <tr>\n",
              "      <th>1074</th>\n",
              "      <td>3379.389893</td>\n",
              "    </tr>\n",
              "    <tr>\n",
              "      <th>1075</th>\n",
              "      <td>3400.000000</td>\n",
              "    </tr>\n",
              "  </tbody>\n",
              "</table>\n",
              "<p>1076 rows × 1 columns</p>\n",
              "</div>"
            ],
            "text/plain": [
              "             AMZN\n",
              "0      753.669983\n",
              "1      757.179993\n",
              "2      780.450012\n",
              "3      795.989990\n",
              "4      796.919983\n",
              "...           ...\n",
              "1071  3279.389893\n",
              "1072  3299.300049\n",
              "1073  3372.199951\n",
              "1074  3379.389893\n",
              "1075  3400.000000\n",
              "\n",
              "[1076 rows x 1 columns]"
            ]
          },
          "metadata": {
            "tags": []
          },
          "execution_count": 174
        }
      ]
    },
    {
      "cell_type": "code",
      "metadata": {
        "colab": {
          "base_uri": "https://localhost:8080/",
          "height": 354
        },
        "id": "I0oy6GfQi2fA",
        "outputId": "459b7cdb-6506-45df-e863-63c88aa9d6f8"
      },
      "source": [
        "# Visually Show The Stock/Portfolio Price(s)\n",
        "# Create the title \n",
        "title = 'Stock Adj. Close Price History    '\n",
        "#Get the stocks\n",
        "my_stocks = df\n",
        "  \n",
        "#Create and plot the graph\n",
        "plt.figure(figsize=(12.2,4.5)) #width = 12.2in, height = 4.5\n",
        "# Loop through each stock and plot the Adj Close for each day\n",
        "for c in my_stocks.columns.values:\n",
        "  plt.plot( my_stocks[c],  label=c)#plt.plot( X-Axis , Y-Axis, line_width, alpha_for_blending,  label)\n",
        "  \n",
        "plt.title(title)\n",
        "plt.xlabel('2017-01-01 - >  2021-04-14',fontsize=18)\n",
        "plt.ylabel('Adj. Price USD ($)',fontsize=18)\n",
        "plt.legend(my_stocks.columns.values, loc='upper left')\n",
        "plt.show()"
      ],
      "execution_count": 175,
      "outputs": [
        {
          "output_type": "display_data",
          "data": {
            "image/png": "[encoded data removed]",
            "text/plain": [
              "<Figure size 878.4x324 with 1 Axes>"
            ]
          },
          "metadata": {
            "tags": []
          }
        }
      ]
    },
    {
      "cell_type": "code",
      "metadata": {
        "colab": {
          "base_uri": "https://localhost:8080/",
          "height": 407
        },
        "id": "cjZgVZPwlXoj",
        "outputId": "35323c14-4f1d-4869-c909-06a1ee39b190"
      },
      "source": [
        "#Create the 30 day simple moving average\n",
        "SMA30 = df.rolling(window=30).mean()\n",
        "SMA30"
      ],
      "execution_count": 176,
      "outputs": [
        {
          "output_type": "execute_result",
          "data": {
            "text/html": [
              "<div>\n",
              "<style scoped>\n",
              "    .dataframe tbody tr th:only-of-type {\n",
              "        vertical-align: middle;\n",
              "    }\n",
              "\n",
              "    .dataframe tbody tr th {\n",
              "        vertical-align: top;\n",
              "    }\n",
              "\n",
              "    .dataframe thead th {\n",
              "        text-align: right;\n",
              "    }\n",
              "</style>\n",
              "<table border=\"1\" class=\"dataframe\">\n",
              "  <thead>\n",
              "    <tr style=\"text-align: right;\">\n",
              "      <th></th>\n",
              "      <th>AMZN</th>\n",
              "    </tr>\n",
              "  </thead>\n",
              "  <tbody>\n",
              "    <tr>\n",
              "      <th>0</th>\n",
              "      <td>NaN</td>\n",
              "    </tr>\n",
              "    <tr>\n",
              "      <th>1</th>\n",
              "      <td>NaN</td>\n",
              "    </tr>\n",
              "    <tr>\n",
              "      <th>2</th>\n",
              "      <td>NaN</td>\n",
              "    </tr>\n",
              "    <tr>\n",
              "      <th>3</th>\n",
              "      <td>NaN</td>\n",
              "    </tr>\n",
              "    <tr>\n",
              "      <th>4</th>\n",
              "      <td>NaN</td>\n",
              "    </tr>\n",
              "    <tr>\n",
              "      <th>...</th>\n",
              "      <td>...</td>\n",
              "    </tr>\n",
              "    <tr>\n",
              "      <th>1071</th>\n",
              "      <td>3092.361003</td>\n",
              "    </tr>\n",
              "    <tr>\n",
              "      <th>1072</th>\n",
              "      <td>3097.020003</td>\n",
              "    </tr>\n",
              "    <tr>\n",
              "      <th>1073</th>\n",
              "      <td>3107.521338</td>\n",
              "    </tr>\n",
              "    <tr>\n",
              "      <th>1074</th>\n",
              "      <td>3117.070003</td>\n",
              "    </tr>\n",
              "    <tr>\n",
              "      <th>1075</th>\n",
              "      <td>3125.532007</td>\n",
              "    </tr>\n",
              "  </tbody>\n",
              "</table>\n",
              "<p>1076 rows × 1 columns</p>\n",
              "</div>"
            ],
            "text/plain": [
              "             AMZN\n",
              "0             NaN\n",
              "1             NaN\n",
              "2             NaN\n",
              "3             NaN\n",
              "4             NaN\n",
              "...           ...\n",
              "1071  3092.361003\n",
              "1072  3097.020003\n",
              "1073  3107.521338\n",
              "1074  3117.070003\n",
              "1075  3125.532007\n",
              "\n",
              "[1076 rows x 1 columns]"
            ]
          },
          "metadata": {
            "tags": []
          },
          "execution_count": 176
        }
      ]
    },
    {
      "cell_type": "code",
      "metadata": {
        "colab": {
          "base_uri": "https://localhost:8080/",
          "height": 407
        },
        "id": "sB9DGJECl2_C",
        "outputId": "266d3a20-06ee-4292-d521-130e5bba4654"
      },
      "source": [
        "#Create the 100 day simple moving average\n",
        "SMA100 = df.rolling(window=100).mean()\n",
        "SMA100"
      ],
      "execution_count": 177,
      "outputs": [
        {
          "output_type": "execute_result",
          "data": {
            "text/html": [
              "<div>\n",
              "<style scoped>\n",
              "    .dataframe tbody tr th:only-of-type {\n",
              "        vertical-align: middle;\n",
              "    }\n",
              "\n",
              "    .dataframe tbody tr th {\n",
              "        vertical-align: top;\n",
              "    }\n",
              "\n",
              "    .dataframe thead th {\n",
              "        text-align: right;\n",
              "    }\n",
              "</style>\n",
              "<table border=\"1\" class=\"dataframe\">\n",
              "  <thead>\n",
              "    <tr style=\"text-align: right;\">\n",
              "      <th></th>\n",
              "      <th>AMZN</th>\n",
              "    </tr>\n",
              "  </thead>\n",
              "  <tbody>\n",
              "    <tr>\n",
              "      <th>0</th>\n",
              "      <td>NaN</td>\n",
              "    </tr>\n",
              "    <tr>\n",
              "      <th>1</th>\n",
              "      <td>NaN</td>\n",
              "    </tr>\n",
              "    <tr>\n",
              "      <th>2</th>\n",
              "      <td>NaN</td>\n",
              "    </tr>\n",
              "    <tr>\n",
              "      <th>3</th>\n",
              "      <td>NaN</td>\n",
              "    </tr>\n",
              "    <tr>\n",
              "      <th>4</th>\n",
              "      <td>NaN</td>\n",
              "    </tr>\n",
              "    <tr>\n",
              "      <th>...</th>\n",
              "      <td>...</td>\n",
              "    </tr>\n",
              "    <tr>\n",
              "      <th>1071</th>\n",
              "      <td>3173.561089</td>\n",
              "    </tr>\n",
              "    <tr>\n",
              "      <th>1072</th>\n",
              "      <td>3175.180190</td>\n",
              "    </tr>\n",
              "    <tr>\n",
              "      <th>1073</th>\n",
              "      <td>3177.799390</td>\n",
              "    </tr>\n",
              "    <tr>\n",
              "      <th>1074</th>\n",
              "      <td>3180.305188</td>\n",
              "    </tr>\n",
              "    <tr>\n",
              "      <th>1075</th>\n",
              "      <td>3182.994587</td>\n",
              "    </tr>\n",
              "  </tbody>\n",
              "</table>\n",
              "<p>1076 rows × 1 columns</p>\n",
              "</div>"
            ],
            "text/plain": [
              "             AMZN\n",
              "0             NaN\n",
              "1             NaN\n",
              "2             NaN\n",
              "3             NaN\n",
              "4             NaN\n",
              "...           ...\n",
              "1071  3173.561089\n",
              "1072  3175.180190\n",
              "1073  3177.799390\n",
              "1074  3180.305188\n",
              "1075  3182.994587\n",
              "\n",
              "[1076 rows x 1 columns]"
            ]
          },
          "metadata": {
            "tags": []
          },
          "execution_count": 177
        }
      ]
    },
    {
      "cell_type": "code",
      "metadata": {
        "colab": {
          "base_uri": "https://localhost:8080/",
          "height": 354
        },
        "id": "I5zh8irtl9-J",
        "outputId": "c58e1aee-e206-442e-de42-446eeaf27ecf"
      },
      "source": [
        "# Visually Show The Stock and The Moving Averages\n",
        "# Create the title \n",
        "title = 'Adj. Close Price History Simple Moving Averages   '\n",
        "#Get the stocks\n",
        "my_stocks = df\n",
        "  \n",
        "#Create and plot the graph\n",
        "plt.figure(figsize=(12.2,4.5)) #width = 12.2in, height = 4.5\n",
        "plt.plot( my_stocks['AMZN'],  label='AMZN')#plt.plot( X-Axis , Y-Axis, line_width, alpha_for_blending,  label)\n",
        "plt.plot( SMA30['AMZN'],  label='SMA30')\n",
        "plt.plot( SMA100['AMZN'],  label='SMA100')\n",
        "  \n",
        "plt.title(title)\n",
        "plt.xlabel('Oct. 02, 2006 - Dec. 30, 2011 ',fontsize=18)\n",
        "plt.ylabel('Adj. Price USD ($)',fontsize=18)\n",
        "plt.legend( loc='upper left')\n",
        "plt.show()"
      ],
      "execution_count": 178,
      "outputs": [
        {
          "output_type": "display_data",
          "data": {
            "image/png": "[encoded data removed]",
            "text/plain": [
              "<Figure size 878.4x324 with 1 Axes>"
            ]
          },
          "metadata": {
            "tags": []
          }
        }
      ]
    },
    {
      "cell_type": "code",
      "metadata": {
        "id": "5F_24SlRmUaz"
      },
      "source": [
        "#Create a function to signal when to buy and sell an asset\n",
        "def buy_sell(signal):\n",
        "  sigPriceBuy = []\n",
        "  sigPriceSell = []\n",
        "  flag = -1\n",
        "  for i in range(0,len(signal)):\n",
        "    #if sma30 > sma100  then buy else sell\n",
        "      if signal['SMA30'][i] > signal['SMA100'][i]:\n",
        "        if flag != 1:\n",
        "          sigPriceBuy.append(signal['AMZN'][i])\n",
        "          sigPriceSell.append(np.nan)\n",
        "          flag = 1\n",
        "        else:\n",
        "          sigPriceBuy.append(np.nan)\n",
        "          sigPriceSell.append(np.nan)\n",
        "        #print('Buy')\n",
        "      elif signal['SMA30'][i] < signal['SMA100'][i]:\n",
        "        if flag != 0:\n",
        "          sigPriceSell.append(signal['AMZN'][i])\n",
        "          sigPriceBuy.append(np.nan)\n",
        "          flag = 0\n",
        "        else:\n",
        "          sigPriceBuy.append(np.nan)\n",
        "          sigPriceSell.append(np.nan)\n",
        "        #print('sell')\n",
        "      else: #Handling nan values\n",
        "        sigPriceBuy.append(np.nan)\n",
        "        sigPriceSell.append(np.nan)\n",
        "  \n",
        "  return (sigPriceBuy, sigPriceSell)"
      ],
      "execution_count": 179,
      "outputs": []
    },
    {
      "cell_type": "code",
      "metadata": {
        "id": "leVuC6kHmfiw"
      },
      "source": [
        "#Create a new dataframe\n",
        "signal = pd.DataFrame(index=df['AMZN'].index)\n",
        "signal['AMZN'] = df['AMZN']\n",
        "signal['SMA30'] = SMA30['AMZN']\n",
        "signal['SMA100'] = SMA100['AMZN']"
      ],
      "execution_count": 180,
      "outputs": []
    },
    {
      "cell_type": "code",
      "metadata": {
        "colab": {
          "base_uri": "https://localhost:8080/",
          "height": 407
        },
        "id": "MuncfK-VmqMm",
        "outputId": "5ae74420-e407-483b-9e8a-1ae445e99838"
      },
      "source": [
        "signal"
      ],
      "execution_count": 181,
      "outputs": [
        {
          "output_type": "execute_result",
          "data": {
            "text/html": [
              "<div>\n",
              "<style scoped>\n",
              "    .dataframe tbody tr th:only-of-type {\n",
              "        vertical-align: middle;\n",
              "    }\n",
              "\n",
              "    .dataframe tbody tr th {\n",
              "        vertical-align: top;\n",
              "    }\n",
              "\n",
              "    .dataframe thead th {\n",
              "        text-align: right;\n",
              "    }\n",
              "</style>\n",
              "<table border=\"1\" class=\"dataframe\">\n",
              "  <thead>\n",
              "    <tr style=\"text-align: right;\">\n",
              "      <th></th>\n",
              "      <th>AMZN</th>\n",
              "      <th>SMA30</th>\n",
              "      <th>SMA100</th>\n",
              "    </tr>\n",
              "  </thead>\n",
              "  <tbody>\n",
              "    <tr>\n",
              "      <th>0</th>\n",
              "      <td>753.669983</td>\n",
              "      <td>NaN</td>\n",
              "      <td>NaN</td>\n",
              "    </tr>\n",
              "    <tr>\n",
              "      <th>1</th>\n",
              "      <td>757.179993</td>\n",
              "      <td>NaN</td>\n",
              "      <td>NaN</td>\n",
              "    </tr>\n",
              "    <tr>\n",
              "      <th>2</th>\n",
              "      <td>780.450012</td>\n",
              "      <td>NaN</td>\n",
              "      <td>NaN</td>\n",
              "    </tr>\n",
              "    <tr>\n",
              "      <th>3</th>\n",
              "      <td>795.989990</td>\n",
              "      <td>NaN</td>\n",
              "      <td>NaN</td>\n",
              "    </tr>\n",
              "    <tr>\n",
              "      <th>4</th>\n",
              "      <td>796.919983</td>\n",
              "      <td>NaN</td>\n",
              "      <td>NaN</td>\n",
              "    </tr>\n",
              "    <tr>\n",
              "      <th>...</th>\n",
              "      <td>...</td>\n",
              "      <td>...</td>\n",
              "      <td>...</td>\n",
              "    </tr>\n",
              "    <tr>\n",
              "      <th>1071</th>\n",
              "      <td>3279.389893</td>\n",
              "      <td>3092.361003</td>\n",
              "      <td>3173.561089</td>\n",
              "    </tr>\n",
              "    <tr>\n",
              "      <th>1072</th>\n",
              "      <td>3299.300049</td>\n",
              "      <td>3097.020003</td>\n",
              "      <td>3175.180190</td>\n",
              "    </tr>\n",
              "    <tr>\n",
              "      <th>1073</th>\n",
              "      <td>3372.199951</td>\n",
              "      <td>3107.521338</td>\n",
              "      <td>3177.799390</td>\n",
              "    </tr>\n",
              "    <tr>\n",
              "      <th>1074</th>\n",
              "      <td>3379.389893</td>\n",
              "      <td>3117.070003</td>\n",
              "      <td>3180.305188</td>\n",
              "    </tr>\n",
              "    <tr>\n",
              "      <th>1075</th>\n",
              "      <td>3400.000000</td>\n",
              "      <td>3125.532007</td>\n",
              "      <td>3182.994587</td>\n",
              "    </tr>\n",
              "  </tbody>\n",
              "</table>\n",
              "<p>1076 rows × 3 columns</p>\n",
              "</div>"
            ],
            "text/plain": [
              "             AMZN        SMA30       SMA100\n",
              "0      753.669983          NaN          NaN\n",
              "1      757.179993          NaN          NaN\n",
              "2      780.450012          NaN          NaN\n",
              "3      795.989990          NaN          NaN\n",
              "4      796.919983          NaN          NaN\n",
              "...           ...          ...          ...\n",
              "1071  3279.389893  3092.361003  3173.561089\n",
              "1072  3299.300049  3097.020003  3175.180190\n",
              "1073  3372.199951  3107.521338  3177.799390\n",
              "1074  3379.389893  3117.070003  3180.305188\n",
              "1075  3400.000000  3125.532007  3182.994587\n",
              "\n",
              "[1076 rows x 3 columns]"
            ]
          },
          "metadata": {
            "tags": []
          },
          "execution_count": 181
        }
      ]
    },
    {
      "cell_type": "code",
      "metadata": {
        "id": "HyKK9RxbmsDX"
      },
      "source": [
        "x = buy_sell(signal)\n",
        "signal['Buy_Signal_Price'] = x[0]\n",
        "signal['Sell_Signal_Price'] = x[1]"
      ],
      "execution_count": 182,
      "outputs": []
    },
    {
      "cell_type": "code",
      "metadata": {
        "colab": {
          "base_uri": "https://localhost:8080/",
          "height": 407
        },
        "id": "_pBH3SMUmuFb",
        "outputId": "60baff11-1b23-4f10-8039-903f068cd883"
      },
      "source": [
        "signal\n"
      ],
      "execution_count": 183,
      "outputs": [
        {
          "output_type": "execute_result",
          "data": {
            "text/html": [
              "<div>\n",
              "<style scoped>\n",
              "    .dataframe tbody tr th:only-of-type {\n",
              "        vertical-align: middle;\n",
              "    }\n",
              "\n",
              "    .dataframe tbody tr th {\n",
              "        vertical-align: top;\n",
              "    }\n",
              "\n",
              "    .dataframe thead th {\n",
              "        text-align: right;\n",
              "    }\n",
              "</style>\n",
              "<table border=\"1\" class=\"dataframe\">\n",
              "  <thead>\n",
              "    <tr style=\"text-align: right;\">\n",
              "      <th></th>\n",
              "      <th>AMZN</th>\n",
              "      <th>SMA30</th>\n",
              "      <th>SMA100</th>\n",
              "      <th>Buy_Signal_Price</th>\n",
              "      <th>Sell_Signal_Price</th>\n",
              "    </tr>\n",
              "  </thead>\n",
              "  <tbody>\n",
              "    <tr>\n",
              "      <th>0</th>\n",
              "      <td>753.669983</td>\n",
              "      <td>NaN</td>\n",
              "      <td>NaN</td>\n",
              "      <td>NaN</td>\n",
              "      <td>NaN</td>\n",
              "    </tr>\n",
              "    <tr>\n",
              "      <th>1</th>\n",
              "      <td>757.179993</td>\n",
              "      <td>NaN</td>\n",
              "      <td>NaN</td>\n",
              "      <td>NaN</td>\n",
              "      <td>NaN</td>\n",
              "    </tr>\n",
              "    <tr>\n",
              "      <th>2</th>\n",
              "      <td>780.450012</td>\n",
              "      <td>NaN</td>\n",
              "      <td>NaN</td>\n",
              "      <td>NaN</td>\n",
              "      <td>NaN</td>\n",
              "    </tr>\n",
              "    <tr>\n",
              "      <th>3</th>\n",
              "      <td>795.989990</td>\n",
              "      <td>NaN</td>\n",
              "      <td>NaN</td>\n",
              "      <td>NaN</td>\n",
              "      <td>NaN</td>\n",
              "    </tr>\n",
              "    <tr>\n",
              "      <th>4</th>\n",
              "      <td>796.919983</td>\n",
              "      <td>NaN</td>\n",
              "      <td>NaN</td>\n",
              "      <td>NaN</td>\n",
              "      <td>NaN</td>\n",
              "    </tr>\n",
              "    <tr>\n",
              "      <th>...</th>\n",
              "      <td>...</td>\n",
              "      <td>...</td>\n",
              "      <td>...</td>\n",
              "      <td>...</td>\n",
              "      <td>...</td>\n",
              "    </tr>\n",
              "    <tr>\n",
              "      <th>1071</th>\n",
              "      <td>3279.389893</td>\n",
              "      <td>3092.361003</td>\n",
              "      <td>3173.561089</td>\n",
              "      <td>NaN</td>\n",
              "      <td>NaN</td>\n",
              "    </tr>\n",
              "    <tr>\n",
              "      <th>1072</th>\n",
              "      <td>3299.300049</td>\n",
              "      <td>3097.020003</td>\n",
              "      <td>3175.180190</td>\n",
              "      <td>NaN</td>\n",
              "      <td>NaN</td>\n",
              "    </tr>\n",
              "    <tr>\n",
              "      <th>1073</th>\n",
              "      <td>3372.199951</td>\n",
              "      <td>3107.521338</td>\n",
              "      <td>3177.799390</td>\n",
              "      <td>NaN</td>\n",
              "      <td>NaN</td>\n",
              "    </tr>\n",
              "    <tr>\n",
              "      <th>1074</th>\n",
              "      <td>3379.389893</td>\n",
              "      <td>3117.070003</td>\n",
              "      <td>3180.305188</td>\n",
              "      <td>NaN</td>\n",
              "      <td>NaN</td>\n",
              "    </tr>\n",
              "    <tr>\n",
              "      <th>1075</th>\n",
              "      <td>3400.000000</td>\n",
              "      <td>3125.532007</td>\n",
              "      <td>3182.994587</td>\n",
              "      <td>NaN</td>\n",
              "      <td>NaN</td>\n",
              "    </tr>\n",
              "  </tbody>\n",
              "</table>\n",
              "<p>1076 rows × 5 columns</p>\n",
              "</div>"
            ],
            "text/plain": [
              "             AMZN        SMA30  ...  Buy_Signal_Price  Sell_Signal_Price\n",
              "0      753.669983          NaN  ...               NaN                NaN\n",
              "1      757.179993          NaN  ...               NaN                NaN\n",
              "2      780.450012          NaN  ...               NaN                NaN\n",
              "3      795.989990          NaN  ...               NaN                NaN\n",
              "4      796.919983          NaN  ...               NaN                NaN\n",
              "...           ...          ...  ...               ...                ...\n",
              "1071  3279.389893  3092.361003  ...               NaN                NaN\n",
              "1072  3299.300049  3097.020003  ...               NaN                NaN\n",
              "1073  3372.199951  3107.521338  ...               NaN                NaN\n",
              "1074  3379.389893  3117.070003  ...               NaN                NaN\n",
              "1075  3400.000000  3125.532007  ...               NaN                NaN\n",
              "\n",
              "[1076 rows x 5 columns]"
            ]
          },
          "metadata": {
            "tags": []
          },
          "execution_count": 183
        }
      ]
    },
    {
      "cell_type": "code",
      "metadata": {
        "colab": {
          "base_uri": "https://localhost:8080/",
          "height": 354
        },
        "id": "j7_6r20Lm16Z",
        "outputId": "b414d136-df09-43a5-9063-a1b5da0e8318"
      },
      "source": [
        "# Visually Show The Stock buy and sell signals\n",
        "# Create the title \n",
        "title = 'Adj. Close Price History Buy / Sell Signals   '\n",
        "#Get the stocks\n",
        "my_stocks = signal\n",
        "ticker = 'AMZN'\n",
        "  \n",
        "#Create and plot the graph\n",
        "plt.figure(figsize=(12.2,4.5)) #width = 12.2in, height = 4.5\n",
        "plt.scatter(my_stocks.index, my_stocks['Buy_Signal_Price'], color = 'green', label='Buy Signal', marker = '^', alpha = 1)\n",
        "plt.scatter(my_stocks.index, my_stocks['Sell_Signal_Price'], color = 'red', label='Sell Signal', marker = 'v', alpha = 1)\n",
        "plt.plot( my_stocks[ticker],  label=ticker, alpha = 0.35)#plt.plot( X-Axis , Y-Axis, line_width, alpha_for_blending,  label)\n",
        "plt.plot( my_stocks['SMA30'],  label='SMA30', alpha = 0.35)\n",
        "plt.plot( my_stocks['SMA100'],  label='SMA100', alpha = 0.35)\n",
        "plt.title(title)\n",
        "plt.xlabel('Oct. 02, 2006 - Dec. 30, 2011',fontsize=18)\n",
        "plt.ylabel('Adj. Close Price USD ($)',fontsize=18)\n",
        "plt.legend( loc='upper left')\n",
        "plt.show()"
      ],
      "execution_count": 184,
      "outputs": [
        {
          "output_type": "display_data",
          "data": {
            "image/png": "[encoded data removed]",
            "text/plain": [
              "<Figure size 878.4x324 with 1 Axes>"
            ]
          },
          "metadata": {
            "tags": []
          }
        }
      ]
    },
    {
      "cell_type": "code",
      "metadata": {
        "colab": {
          "base_uri": "https://localhost:8080/"
        },
        "id": "1dnk--zHm4tW",
        "outputId": "3f4a122c-a1e0-43ed-b250-c4de726a4f1c"
      },
      "source": [
        "def buy_and_sell(stock_price):\n",
        "    max_profit_val, current_max_val = 0, 0 \n",
        "    for price in reversed(stock_price):                       \n",
        "        current_max_val = max(current_max_val, price)          \n",
        "        potential_profit = current_max_val - price          \n",
        "        max_profit_val = max(potential_profit, max_profit_val)\n",
        "\n",
        "    return max_profit_val\n",
        "\n",
        "\n",
        "AMZN = list(df[\"AMZN\"])\n",
        "\n",
        "last30 = AMZN[-30:]\n",
        "print(buy_and_sell(last30))"
      ],
      "execution_count": 185,
      "outputs": [
        {
          "output_type": "stream",
          "text": [
            "448.050048828125\n"
          ],
          "name": "stdout"
        }
      ]
    },
    {
      "cell_type": "code",
      "metadata": {
        "colab": {
          "base_uri": "https://localhost:8080/"
        },
        "id": "-9K-vq0pngaC",
        "outputId": "dd43018f-83c1-4b8c-cf15-78739a5e0a80"
      },
      "source": [
        "last30"
      ],
      "execution_count": 186,
      "outputs": [
        {
          "output_type": "execute_result",
          "data": {
            "text/plain": [
              "[3094.530029296875,\n",
              " 3005.0,\n",
              " 2977.570068359375,\n",
              " 3000.4599609375,\n",
              " 2951.949951171875,\n",
              " 3062.85009765625,\n",
              " 3057.639892578125,\n",
              " 3113.590087890625,\n",
              " 3089.489990234375,\n",
              " 3081.679931640625,\n",
              " 3091.860107421875,\n",
              " 3135.72998046875,\n",
              " 3027.989990234375,\n",
              " 3074.9599609375,\n",
              " 3110.8701171875,\n",
              " 3137.5,\n",
              " 3087.070068359375,\n",
              " 3046.260009765625,\n",
              " 3052.030029296875,\n",
              " 3075.72998046875,\n",
              " 3055.2900390625,\n",
              " 3094.080078125,\n",
              " 3161.0,\n",
              " 3226.72998046875,\n",
              " 3223.820068359375,\n",
              " 3279.389892578125,\n",
              " 3299.300048828125,\n",
              " 3372.199951171875,\n",
              " 3379.389892578125,\n",
              " 3400.0]"
            ]
          },
          "metadata": {
            "tags": []
          },
          "execution_count": 186
        }
      ]
    },
    {
      "cell_type": "code",
      "metadata": {
        "id": "wCLHJz4en6eX"
      },
      "source": [
        ""
      ],
      "execution_count": 186,
      "outputs": []
    },
    {
      "cell_type": "markdown",
      "metadata": {
        "id": "-RO9Yd2Xqo3F"
      },
      "source": [
        "MFI \n",
        "Money Flow Index (MFI)\n"
      ]
    },
    {
      "cell_type": "code",
      "metadata": {
        "colab": {
          "base_uri": "https://localhost:8080/"
        },
        "id": "-mgMkZmfrTEa",
        "outputId": "171288a7-2d3e-41aa-e25e-bfa364012a96"
      },
      "source": [
        "!pip install yfinance\n",
        "!pip install yahoofinancials"
      ],
      "execution_count": 187,
      "outputs": [
        {
          "output_type": "stream",
          "text": [
            "Requirement already satisfied: yfinance in /usr/local/lib/python3.7/dist-packages (0.1.59)\n",
            "Requirement already satisfied: lxml>=4.5.1 in /usr/local/lib/python3.7/dist-packages (from yfinance) (4.6.3)\n",
            "Requirement already satisfied: multitasking>=0.0.7 in /usr/local/lib/python3.7/dist-packages (from yfinance) (0.0.9)\n",
            "Requirement already satisfied: requests>=2.20 in /usr/local/lib/python3.7/dist-packages (from yfinance) (2.23.0)\n",
            "Requirement already satisfied: numpy>=1.15 in /usr/local/lib/python3.7/dist-packages (from yfinance) (1.19.5)\n",
            "Requirement already satisfied: pandas>=0.24 in /usr/local/lib/python3.7/dist-packages (from yfinance) (1.1.5)\n",
            "Requirement already satisfied: urllib3!=1.25.0,!=1.25.1,<1.26,>=1.21.1 in /usr/local/lib/python3.7/dist-packages (from requests>=2.20->yfinance) (1.24.3)\n",
            "Requirement already satisfied: certifi>=2017.4.17 in /usr/local/lib/python3.7/dist-packages (from requests>=2.20->yfinance) (2020.12.5)\n",
            "Requirement already satisfied: chardet<4,>=3.0.2 in /usr/local/lib/python3.7/dist-packages (from requests>=2.20->yfinance) (3.0.4)\n",
            "Requirement already satisfied: idna<3,>=2.5 in /usr/local/lib/python3.7/dist-packages (from requests>=2.20->yfinance) (2.10)\n",
            "Requirement already satisfied: pytz>=2017.2 in /usr/local/lib/python3.7/dist-packages (from pandas>=0.24->yfinance) (2018.9)\n",
            "Requirement already satisfied: python-dateutil>=2.7.3 in /usr/local/lib/python3.7/dist-packages (from pandas>=0.24->yfinance) (2.8.1)\n",
            "Requirement already satisfied: six>=1.5 in /usr/local/lib/python3.7/dist-packages (from python-dateutil>=2.7.3->pandas>=0.24->yfinance) (1.15.0)\n",
            "Requirement already satisfied: yahoofinancials in /usr/local/lib/python3.7/dist-packages (1.6)\n",
            "Requirement already satisfied: beautifulsoup4 in /usr/local/lib/python3.7/dist-packages (from yahoofinancials) (4.6.3)\n",
            "Requirement already satisfied: pytz in /usr/local/lib/python3.7/dist-packages (from yahoofinancials) (2018.9)\n"
          ],
          "name": "stdout"
        }
      ]
    },
    {
      "cell_type": "code",
      "metadata": {
        "colab": {
          "base_uri": "https://localhost:8080/",
          "height": 1000
        },
        "id": "R4AMj6ngqvH-",
        "outputId": "6eb43dd8-f81e-4359-e96a-dce34ca396bc"
      },
      "source": [
        "import pandas as pd\n",
        "import numpy as np\n",
        "import yfinance as yf\n",
        "from yahoofinancials import YahooFinancials\n",
        "company = 'DIS'\n",
        "startDate = \"2021-02-20\"\n",
        "\n",
        "endDate = \"2021-04-21\"\n",
        "dataframe = yf.download(company, \n",
        "                      start=startDate, \n",
        "                      end=endDate, \n",
        "                      progress=False)\n",
        "\n",
        "dataframe"
      ],
      "execution_count": 233,
      "outputs": [
        {
          "output_type": "execute_result",
          "data": {
            "text/html": [
              "<div>\n",
              "<style scoped>\n",
              "    .dataframe tbody tr th:only-of-type {\n",
              "        vertical-align: middle;\n",
              "    }\n",
              "\n",
              "    .dataframe tbody tr th {\n",
              "        vertical-align: top;\n",
              "    }\n",
              "\n",
              "    .dataframe thead th {\n",
              "        text-align: right;\n",
              "    }\n",
              "</style>\n",
              "<table border=\"1\" class=\"dataframe\">\n",
              "  <thead>\n",
              "    <tr style=\"text-align: right;\">\n",
              "      <th></th>\n",
              "      <th>Open</th>\n",
              "      <th>High</th>\n",
              "      <th>Low</th>\n",
              "      <th>Close</th>\n",
              "      <th>Adj Close</th>\n",
              "      <th>Volume</th>\n",
              "    </tr>\n",
              "    <tr>\n",
              "      <th>Date</th>\n",
              "      <th></th>\n",
              "      <th></th>\n",
              "      <th></th>\n",
              "      <th></th>\n",
              "      <th></th>\n",
              "      <th></th>\n",
              "    </tr>\n",
              "  </thead>\n",
              "  <tbody>\n",
              "    <tr>\n",
              "      <th>2021-02-22</th>\n",
              "      <td>181.740005</td>\n",
              "      <td>194.020004</td>\n",
              "      <td>181.529999</td>\n",
              "      <td>191.759995</td>\n",
              "      <td>191.759995</td>\n",
              "      <td>18799600</td>\n",
              "    </tr>\n",
              "    <tr>\n",
              "      <th>2021-02-23</th>\n",
              "      <td>193.589996</td>\n",
              "      <td>198.940002</td>\n",
              "      <td>188.660004</td>\n",
              "      <td>197.089996</td>\n",
              "      <td>197.089996</td>\n",
              "      <td>23191400</td>\n",
              "    </tr>\n",
              "    <tr>\n",
              "      <th>2021-02-24</th>\n",
              "      <td>197.580002</td>\n",
              "      <td>200.600006</td>\n",
              "      <td>195.330002</td>\n",
              "      <td>197.509995</td>\n",
              "      <td>197.509995</td>\n",
              "      <td>16205900</td>\n",
              "    </tr>\n",
              "    <tr>\n",
              "      <th>2021-02-25</th>\n",
              "      <td>197.729996</td>\n",
              "      <td>197.960007</td>\n",
              "      <td>190.380005</td>\n",
              "      <td>190.979996</td>\n",
              "      <td>190.979996</td>\n",
              "      <td>12712000</td>\n",
              "    </tr>\n",
              "    <tr>\n",
              "      <th>2021-02-26</th>\n",
              "      <td>190.070007</td>\n",
              "      <td>191.610001</td>\n",
              "      <td>185.449997</td>\n",
              "      <td>189.039993</td>\n",
              "      <td>189.039993</td>\n",
              "      <td>15841000</td>\n",
              "    </tr>\n",
              "    <tr>\n",
              "      <th>2021-03-01</th>\n",
              "      <td>193.229996</td>\n",
              "      <td>196.899994</td>\n",
              "      <td>191.389999</td>\n",
              "      <td>194.979996</td>\n",
              "      <td>194.979996</td>\n",
              "      <td>10699500</td>\n",
              "    </tr>\n",
              "    <tr>\n",
              "      <th>2021-03-02</th>\n",
              "      <td>196.100006</td>\n",
              "      <td>197.960007</td>\n",
              "      <td>193.490005</td>\n",
              "      <td>193.940002</td>\n",
              "      <td>193.940002</td>\n",
              "      <td>8362600</td>\n",
              "    </tr>\n",
              "    <tr>\n",
              "      <th>2021-03-03</th>\n",
              "      <td>194.630005</td>\n",
              "      <td>196.809998</td>\n",
              "      <td>192.210007</td>\n",
              "      <td>192.259995</td>\n",
              "      <td>192.259995</td>\n",
              "      <td>8737600</td>\n",
              "    </tr>\n",
              "    <tr>\n",
              "      <th>2021-03-04</th>\n",
              "      <td>189.899994</td>\n",
              "      <td>192.479996</td>\n",
              "      <td>184.119995</td>\n",
              "      <td>188.029999</td>\n",
              "      <td>188.029999</td>\n",
              "      <td>12523700</td>\n",
              "    </tr>\n",
              "    <tr>\n",
              "      <th>2021-03-05</th>\n",
              "      <td>189.149994</td>\n",
              "      <td>190.570007</td>\n",
              "      <td>183.339996</td>\n",
              "      <td>189.990005</td>\n",
              "      <td>189.990005</td>\n",
              "      <td>10167900</td>\n",
              "    </tr>\n",
              "    <tr>\n",
              "      <th>2021-03-08</th>\n",
              "      <td>197.309998</td>\n",
              "      <td>203.020004</td>\n",
              "      <td>193.789993</td>\n",
              "      <td>201.910004</td>\n",
              "      <td>201.910004</td>\n",
              "      <td>25069300</td>\n",
              "    </tr>\n",
              "    <tr>\n",
              "      <th>2021-03-09</th>\n",
              "      <td>200.190002</td>\n",
              "      <td>201.699997</td>\n",
              "      <td>194.369995</td>\n",
              "      <td>194.509995</td>\n",
              "      <td>194.509995</td>\n",
              "      <td>23259400</td>\n",
              "    </tr>\n",
              "    <tr>\n",
              "      <th>2021-03-10</th>\n",
              "      <td>197.309998</td>\n",
              "      <td>198.800003</td>\n",
              "      <td>194.679993</td>\n",
              "      <td>195.059998</td>\n",
              "      <td>195.059998</td>\n",
              "      <td>13649100</td>\n",
              "    </tr>\n",
              "    <tr>\n",
              "      <th>2021-03-11</th>\n",
              "      <td>197.380005</td>\n",
              "      <td>199.050003</td>\n",
              "      <td>195.399994</td>\n",
              "      <td>196.750000</td>\n",
              "      <td>196.750000</td>\n",
              "      <td>11920400</td>\n",
              "    </tr>\n",
              "    <tr>\n",
              "      <th>2021-03-12</th>\n",
              "      <td>196.529999</td>\n",
              "      <td>198.410004</td>\n",
              "      <td>195.179993</td>\n",
              "      <td>197.160004</td>\n",
              "      <td>197.160004</td>\n",
              "      <td>13241900</td>\n",
              "    </tr>\n",
              "    <tr>\n",
              "      <th>2021-03-15</th>\n",
              "      <td>198.539993</td>\n",
              "      <td>198.539993</td>\n",
              "      <td>194.809998</td>\n",
              "      <td>196.759995</td>\n",
              "      <td>196.759995</td>\n",
              "      <td>10311400</td>\n",
              "    </tr>\n",
              "    <tr>\n",
              "      <th>2021-03-16</th>\n",
              "      <td>196.100006</td>\n",
              "      <td>196.589996</td>\n",
              "      <td>192.880005</td>\n",
              "      <td>194.240005</td>\n",
              "      <td>194.240005</td>\n",
              "      <td>9602100</td>\n",
              "    </tr>\n",
              "    <tr>\n",
              "      <th>2021-03-17</th>\n",
              "      <td>193.440002</td>\n",
              "      <td>196.190002</td>\n",
              "      <td>191.779999</td>\n",
              "      <td>195.240005</td>\n",
              "      <td>195.240005</td>\n",
              "      <td>14363600</td>\n",
              "    </tr>\n",
              "    <tr>\n",
              "      <th>2021-03-18</th>\n",
              "      <td>194.949997</td>\n",
              "      <td>195.080002</td>\n",
              "      <td>191.740005</td>\n",
              "      <td>192.279999</td>\n",
              "      <td>192.279999</td>\n",
              "      <td>9634100</td>\n",
              "    </tr>\n",
              "    <tr>\n",
              "      <th>2021-03-19</th>\n",
              "      <td>190.919998</td>\n",
              "      <td>194.000000</td>\n",
              "      <td>189.759995</td>\n",
              "      <td>191.139999</td>\n",
              "      <td>191.139999</td>\n",
              "      <td>26265400</td>\n",
              "    </tr>\n",
              "    <tr>\n",
              "      <th>2021-03-22</th>\n",
              "      <td>193.259995</td>\n",
              "      <td>196.330002</td>\n",
              "      <td>192.000000</td>\n",
              "      <td>192.860001</td>\n",
              "      <td>192.860001</td>\n",
              "      <td>8838500</td>\n",
              "    </tr>\n",
              "    <tr>\n",
              "      <th>2021-03-23</th>\n",
              "      <td>191.589996</td>\n",
              "      <td>192.339996</td>\n",
              "      <td>187.970001</td>\n",
              "      <td>188.729996</td>\n",
              "      <td>188.729996</td>\n",
              "      <td>10701200</td>\n",
              "    </tr>\n",
              "    <tr>\n",
              "      <th>2021-03-24</th>\n",
              "      <td>190.059998</td>\n",
              "      <td>190.500000</td>\n",
              "      <td>184.639999</td>\n",
              "      <td>184.720001</td>\n",
              "      <td>184.720001</td>\n",
              "      <td>13549100</td>\n",
              "    </tr>\n",
              "    <tr>\n",
              "      <th>2021-03-25</th>\n",
              "      <td>181.850006</td>\n",
              "      <td>187.710007</td>\n",
              "      <td>181.009995</td>\n",
              "      <td>186.910004</td>\n",
              "      <td>186.910004</td>\n",
              "      <td>9609200</td>\n",
              "    </tr>\n",
              "    <tr>\n",
              "      <th>2021-03-26</th>\n",
              "      <td>188.830002</td>\n",
              "      <td>188.979996</td>\n",
              "      <td>182.570007</td>\n",
              "      <td>185.919998</td>\n",
              "      <td>185.919998</td>\n",
              "      <td>10177100</td>\n",
              "    </tr>\n",
              "    <tr>\n",
              "      <th>2021-03-29</th>\n",
              "      <td>185.240005</td>\n",
              "      <td>185.940002</td>\n",
              "      <td>183.149994</td>\n",
              "      <td>184.850006</td>\n",
              "      <td>184.850006</td>\n",
              "      <td>7544700</td>\n",
              "    </tr>\n",
              "    <tr>\n",
              "      <th>2021-03-30</th>\n",
              "      <td>183.830002</td>\n",
              "      <td>186.320007</td>\n",
              "      <td>183.559998</td>\n",
              "      <td>185.529999</td>\n",
              "      <td>185.529999</td>\n",
              "      <td>5929700</td>\n",
              "    </tr>\n",
              "    <tr>\n",
              "      <th>2021-03-31</th>\n",
              "      <td>185.830002</td>\n",
              "      <td>186.899994</td>\n",
              "      <td>184.419998</td>\n",
              "      <td>184.520004</td>\n",
              "      <td>184.520004</td>\n",
              "      <td>8478000</td>\n",
              "    </tr>\n",
              "    <tr>\n",
              "      <th>2021-04-01</th>\n",
              "      <td>186.429993</td>\n",
              "      <td>189.100006</td>\n",
              "      <td>185.589996</td>\n",
              "      <td>188.970001</td>\n",
              "      <td>188.970001</td>\n",
              "      <td>7735800</td>\n",
              "    </tr>\n",
              "    <tr>\n",
              "      <th>2021-04-05</th>\n",
              "      <td>191.470001</td>\n",
              "      <td>191.669998</td>\n",
              "      <td>188.089996</td>\n",
              "      <td>188.500000</td>\n",
              "      <td>188.500000</td>\n",
              "      <td>7405300</td>\n",
              "    </tr>\n",
              "    <tr>\n",
              "      <th>2021-04-06</th>\n",
              "      <td>188.500000</td>\n",
              "      <td>191.279999</td>\n",
              "      <td>187.869995</td>\n",
              "      <td>189.729996</td>\n",
              "      <td>189.729996</td>\n",
              "      <td>7926200</td>\n",
              "    </tr>\n",
              "    <tr>\n",
              "      <th>2021-04-07</th>\n",
              "      <td>189.800003</td>\n",
              "      <td>190.330002</td>\n",
              "      <td>186.949997</td>\n",
              "      <td>187.559998</td>\n",
              "      <td>187.559998</td>\n",
              "      <td>6238700</td>\n",
              "    </tr>\n",
              "    <tr>\n",
              "      <th>2021-04-08</th>\n",
              "      <td>187.199997</td>\n",
              "      <td>188.050003</td>\n",
              "      <td>185.630005</td>\n",
              "      <td>187.320007</td>\n",
              "      <td>187.320007</td>\n",
              "      <td>7763000</td>\n",
              "    </tr>\n",
              "    <tr>\n",
              "      <th>2021-04-09</th>\n",
              "      <td>188.169998</td>\n",
              "      <td>188.220001</td>\n",
              "      <td>186.149994</td>\n",
              "      <td>187.889999</td>\n",
              "      <td>187.889999</td>\n",
              "      <td>6083100</td>\n",
              "    </tr>\n",
              "    <tr>\n",
              "      <th>2021-04-12</th>\n",
              "      <td>187.750000</td>\n",
              "      <td>187.850006</td>\n",
              "      <td>185.479996</td>\n",
              "      <td>186.490005</td>\n",
              "      <td>186.490005</td>\n",
              "      <td>6662500</td>\n",
              "    </tr>\n",
              "    <tr>\n",
              "      <th>2021-04-13</th>\n",
              "      <td>185.589996</td>\n",
              "      <td>186.440002</td>\n",
              "      <td>184.600006</td>\n",
              "      <td>185.490005</td>\n",
              "      <td>185.490005</td>\n",
              "      <td>6826500</td>\n",
              "    </tr>\n",
              "    <tr>\n",
              "      <th>2021-04-14</th>\n",
              "      <td>185.970001</td>\n",
              "      <td>190.399994</td>\n",
              "      <td>185.710007</td>\n",
              "      <td>187.460007</td>\n",
              "      <td>187.460007</td>\n",
              "      <td>9089900</td>\n",
              "    </tr>\n",
              "    <tr>\n",
              "      <th>2021-04-15</th>\n",
              "      <td>188.089996</td>\n",
              "      <td>188.899994</td>\n",
              "      <td>185.699997</td>\n",
              "      <td>185.929993</td>\n",
              "      <td>185.929993</td>\n",
              "      <td>7262500</td>\n",
              "    </tr>\n",
              "    <tr>\n",
              "      <th>2021-04-16</th>\n",
              "      <td>187.570007</td>\n",
              "      <td>189.470001</td>\n",
              "      <td>186.199997</td>\n",
              "      <td>187.259995</td>\n",
              "      <td>187.259995</td>\n",
              "      <td>9449100</td>\n",
              "    </tr>\n",
              "    <tr>\n",
              "      <th>2021-04-19</th>\n",
              "      <td>187.509995</td>\n",
              "      <td>190.330002</td>\n",
              "      <td>185.649994</td>\n",
              "      <td>187.429993</td>\n",
              "      <td>187.429993</td>\n",
              "      <td>7619800</td>\n",
              "    </tr>\n",
              "    <tr>\n",
              "      <th>2021-04-20</th>\n",
              "      <td>187.289993</td>\n",
              "      <td>188.080002</td>\n",
              "      <td>181.820007</td>\n",
              "      <td>182.789993</td>\n",
              "      <td>182.789993</td>\n",
              "      <td>10546096</td>\n",
              "    </tr>\n",
              "  </tbody>\n",
              "</table>\n",
              "</div>"
            ],
            "text/plain": [
              "                  Open        High  ...   Adj Close    Volume\n",
              "Date                                ...                      \n",
              "2021-02-22  181.740005  194.020004  ...  191.759995  18799600\n",
              "2021-02-23  193.589996  198.940002  ...  197.089996  23191400\n",
              "2021-02-24  197.580002  200.600006  ...  197.509995  16205900\n",
              "2021-02-25  197.729996  197.960007  ...  190.979996  12712000\n",
              "2021-02-26  190.070007  191.610001  ...  189.039993  15841000\n",
              "2021-03-01  193.229996  196.899994  ...  194.979996  10699500\n",
              "2021-03-02  196.100006  197.960007  ...  193.940002   8362600\n",
              "2021-03-03  194.630005  196.809998  ...  192.259995   8737600\n",
              "2021-03-04  189.899994  192.479996  ...  188.029999  12523700\n",
              "2021-03-05  189.149994  190.570007  ...  189.990005  10167900\n",
              "2021-03-08  197.309998  203.020004  ...  201.910004  25069300\n",
              "2021-03-09  200.190002  201.699997  ...  194.509995  23259400\n",
              "2021-03-10  197.309998  198.800003  ...  195.059998  13649100\n",
              "2021-03-11  197.380005  199.050003  ...  196.750000  11920400\n",
              "2021-03-12  196.529999  198.410004  ...  197.160004  13241900\n",
              "2021-03-15  198.539993  198.539993  ...  196.759995  10311400\n",
              "2021-03-16  196.100006  196.589996  ...  194.240005   9602100\n",
              "2021-03-17  193.440002  196.190002  ...  195.240005  14363600\n",
              "2021-03-18  194.949997  195.080002  ...  192.279999   9634100\n",
              "2021-03-19  190.919998  194.000000  ...  191.139999  26265400\n",
              "2021-03-22  193.259995  196.330002  ...  192.860001   8838500\n",
              "2021-03-23  191.589996  192.339996  ...  188.729996  10701200\n",
              "2021-03-24  190.059998  190.500000  ...  184.720001  13549100\n",
              "2021-03-25  181.850006  187.710007  ...  186.910004   9609200\n",
              "2021-03-26  188.830002  188.979996  ...  185.919998  10177100\n",
              "2021-03-29  185.240005  185.940002  ...  184.850006   7544700\n",
              "2021-03-30  183.830002  186.320007  ...  185.529999   5929700\n",
              "2021-03-31  185.830002  186.899994  ...  184.520004   8478000\n",
              "2021-04-01  186.429993  189.100006  ...  188.970001   7735800\n",
              "2021-04-05  191.470001  191.669998  ...  188.500000   7405300\n",
              "2021-04-06  188.500000  191.279999  ...  189.729996   7926200\n",
              "2021-04-07  189.800003  190.330002  ...  187.559998   6238700\n",
              "2021-04-08  187.199997  188.050003  ...  187.320007   7763000\n",
              "2021-04-09  188.169998  188.220001  ...  187.889999   6083100\n",
              "2021-04-12  187.750000  187.850006  ...  186.490005   6662500\n",
              "2021-04-13  185.589996  186.440002  ...  185.490005   6826500\n",
              "2021-04-14  185.970001  190.399994  ...  187.460007   9089900\n",
              "2021-04-15  188.089996  188.899994  ...  185.929993   7262500\n",
              "2021-04-16  187.570007  189.470001  ...  187.259995   9449100\n",
              "2021-04-19  187.509995  190.330002  ...  187.429993   7619800\n",
              "2021-04-20  187.289993  188.080002  ...  182.789993  10546096\n",
              "\n",
              "[41 rows x 6 columns]"
            ]
          },
          "metadata": {
            "tags": []
          },
          "execution_count": 233
        }
      ]
    },
    {
      "cell_type": "code",
      "metadata": {
        "colab": {
          "base_uri": "https://localhost:8080/",
          "height": 354
        },
        "id": "olxtHcxyrMVa",
        "outputId": "9e9a1374-820f-47a8-c83d-8f008da6e5d5"
      },
      "source": [
        "#Visually Show The Stock Price\n",
        "#Create and plot the graph\n",
        "plt.figure(figsize=(12.2,4.5)) #width = 12.2in, height = 4.5\n",
        "plt.plot( dataframe['Close'],  label='Close Price')#plt.plot( X-Axis , Y-Axis, line_width, alpha_for_blending,  label)  \n",
        "plt.title('Close Price History')\n",
        "plt.xlabel('Date',fontsize=18)\n",
        "plt.ylabel('Close Price USD ($)',fontsize=18)\n",
        "plt.legend(dataframe.columns.values, loc='upper left')\n",
        "plt.show()"
      ],
      "execution_count": 234,
      "outputs": [
        {
          "output_type": "display_data",
          "data": {
            "image/png": "[encoded data removed]",
            "text/plain": [
              "<Figure size 878.4x324 with 1 Axes>"
            ]
          },
          "metadata": {
            "tags": []
          }
        }
      ]
    },
    {
      "cell_type": "code",
      "metadata": {
        "colab": {
          "base_uri": "https://localhost:8080/"
        },
        "id": "LwSrkFlprk-u",
        "outputId": "816f2b74-3ab2-43a4-c123-f389bb52f214"
      },
      "source": [
        "#Calculate the typical price\n",
        "typical_price = (dataframe['Close'] + dataframe['High'] + dataframe['Low']) / 3\n",
        "typical_price"
      ],
      "execution_count": 235,
      "outputs": [
        {
          "output_type": "execute_result",
          "data": {
            "text/plain": [
              "Date\n",
              "2021-02-22    189.103333\n",
              "2021-02-23    194.896667\n",
              "2021-02-24    197.813334\n",
              "2021-02-25    193.106669\n",
              "2021-02-26    188.699997\n",
              "2021-03-01    194.423330\n",
              "2021-03-02    195.130005\n",
              "2021-03-03    193.760000\n",
              "2021-03-04    188.209997\n",
              "2021-03-05    187.966670\n",
              "2021-03-08    199.573334\n",
              "2021-03-09    196.859996\n",
              "2021-03-10    196.179998\n",
              "2021-03-11    197.066666\n",
              "2021-03-12    196.916667\n",
              "2021-03-15    196.703328\n",
              "2021-03-16    194.570002\n",
              "2021-03-17    194.403336\n",
              "2021-03-18    193.033335\n",
              "2021-03-19    191.633331\n",
              "2021-03-22    193.730001\n",
              "2021-03-23    189.679998\n",
              "2021-03-24    186.620000\n",
              "2021-03-25    185.210002\n",
              "2021-03-26    185.823334\n",
              "2021-03-29    184.646667\n",
              "2021-03-30    185.136668\n",
              "2021-03-31    185.279999\n",
              "2021-04-01    187.886668\n",
              "2021-04-05    189.419998\n",
              "2021-04-06    189.626663\n",
              "2021-04-07    188.279999\n",
              "2021-04-08    187.000005\n",
              "2021-04-09    187.419998\n",
              "2021-04-12    186.606669\n",
              "2021-04-13    185.510005\n",
              "2021-04-14    187.856669\n",
              "2021-04-15    186.843328\n",
              "2021-04-16    187.643331\n",
              "2021-04-19    187.803329\n",
              "2021-04-20    184.230001\n",
              "dtype: float64"
            ]
          },
          "metadata": {
            "tags": []
          },
          "execution_count": 235
        }
      ]
    },
    {
      "cell_type": "code",
      "metadata": {
        "id": "-125s1gwrtNu"
      },
      "source": [
        "period =  14 #The typical period used for MFI is 14 days\n"
      ],
      "execution_count": 236,
      "outputs": []
    },
    {
      "cell_type": "code",
      "metadata": {
        "colab": {
          "base_uri": "https://localhost:8080/"
        },
        "id": "O257dUloshNe",
        "outputId": "d69d5c6e-431d-4d39-a051-1552cf8ecef7"
      },
      "source": [
        "#Calculate the money flow\n",
        "money_flow = typical_price * dataframe['Volume']\n",
        "money_flow"
      ],
      "execution_count": 237,
      "outputs": [
        {
          "output_type": "execute_result",
          "data": {
            "text/plain": [
              "Date\n",
              "2021-02-22    3.555067e+09\n",
              "2021-02-23    4.519927e+09\n",
              "2021-02-24    3.205743e+09\n",
              "2021-02-25    2.454772e+09\n",
              "2021-02-26    2.989197e+09\n",
              "2021-03-01    2.080232e+09\n",
              "2021-03-02    1.631794e+09\n",
              "2021-03-03    1.692997e+09\n",
              "2021-03-04    2.357086e+09\n",
              "2021-03-05    1.911226e+09\n",
              "2021-03-08    5.003164e+09\n",
              "2021-03-09    4.578845e+09\n",
              "2021-03-10    2.677680e+09\n",
              "2021-03-11    2.349113e+09\n",
              "2021-03-12    2.607551e+09\n",
              "2021-03-15    2.028287e+09\n",
              "2021-03-16    1.868281e+09\n",
              "2021-03-17    2.792332e+09\n",
              "2021-03-18    1.859702e+09\n",
              "2021-03-19    5.033326e+09\n",
              "2021-03-22    1.712283e+09\n",
              "2021-03-23    2.029804e+09\n",
              "2021-03-24    2.528533e+09\n",
              "2021-03-25    1.779720e+09\n",
              "2021-03-26    1.891143e+09\n",
              "2021-03-29    1.393104e+09\n",
              "2021-03-30    1.097805e+09\n",
              "2021-03-31    1.570804e+09\n",
              "2021-04-01    1.453454e+09\n",
              "2021-04-05    1.402712e+09\n",
              "2021-04-06    1.503019e+09\n",
              "2021-04-07    1.174622e+09\n",
              "2021-04-08    1.451681e+09\n",
              "2021-04-09    1.140095e+09\n",
              "2021-04-12    1.243267e+09\n",
              "2021-04-13    1.266384e+09\n",
              "2021-04-14    1.707598e+09\n",
              "2021-04-15    1.356950e+09\n",
              "2021-04-16    1.773061e+09\n",
              "2021-04-19    1.431024e+09\n",
              "2021-04-20    1.942907e+09\n",
              "dtype: float64"
            ]
          },
          "metadata": {
            "tags": []
          },
          "execution_count": 237
        }
      ]
    },
    {
      "cell_type": "code",
      "metadata": {
        "id": "PLKjmdUwsjXm"
      },
      "source": [
        "#Get all of the positive and negative money flows \n",
        "#where the current typical price is higher than the previous day's typical price, we will append that days money flow to a positive list\n",
        "#and where the current typical price is lower than the previous day's typical price, we will append that days money flow to a negative list\n",
        "#and set any other value to 0 to be used when summing\n",
        "positive_flow =[] #Create a empty list called positive flow\n",
        "negative_flow = [] #Create a empty list called negative flow\n",
        "#Loop through the typical price \n",
        "for i in range(1, len(typical_price)):\n",
        "  if typical_price[i] > typical_price[i-1]: #if the present typical price is greater than yesterdays typical price\n",
        "    positive_flow.append(money_flow[i-1])# Then append money flow at position i-1 to the positive flow list\n",
        "    negative_flow.append(0) #Append 0 to the negative flow list\n",
        "  elif typical_price[i] < typical_price[i-1]:#if the present typical price is less than yesterdays typical price\n",
        "    negative_flow.append(money_flow[i-1])# Then append money flow at position i-1 to negative flow list\n",
        "    positive_flow.append(0)#Append 0 to the positive flow list\n",
        "  else: #Append 0 if the present typical price is equal to yesterdays typical price\n",
        "    positive_flow.append(0)\n",
        "    negative_flow.append(0)\n"
      ],
      "execution_count": 238,
      "outputs": []
    },
    {
      "cell_type": "code",
      "metadata": {
        "id": "5xIF_bRhsw-_"
      },
      "source": [
        "#Get all of the positive and negative money flows within the time period\n",
        "positive_mf =[]\n",
        "negative_mf = [] \n",
        "#Get all of the positive money flows within the time period\n",
        "for i in range(period-1, len(positive_flow)):\n",
        "  positive_mf.append(sum(positive_flow[i+1-period : i+1]))\n",
        "#Get all of the negative money flows within the time period  \n",
        "for i in range(period-1, len(negative_flow)):\n",
        "  negative_mf.append(sum(negative_flow[i+1-period : i+1]))"
      ],
      "execution_count": 239,
      "outputs": []
    },
    {
      "cell_type": "code",
      "metadata": {
        "colab": {
          "base_uri": "https://localhost:8080/"
        },
        "id": "krXGY3ycsz0T",
        "outputId": "6b754987-1d3c-4f2a-9bbb-a2fae41e8636"
      },
      "source": [
        "mfi = 100 * (np.array(positive_mf) / (np.array(positive_mf)  + np.array(negative_mf) ))\n",
        "mfi"
      ],
      "execution_count": 240,
      "outputs": [
        {
          "output_type": "execute_result",
          "data": {
            "text/plain": [
              "array([43.24480393, 35.39316077, 25.70915663, 26.65822698, 26.41214303,\n",
              "       18.81902005, 25.063521  , 25.01108468, 24.7940227 , 24.68497037,\n",
              "       24.43002168, 26.55744132, 33.43638502, 30.0408768 , 36.01787291,\n",
              "       42.45460364, 48.32620172, 48.95554705, 51.95198124, 58.34524739,\n",
              "       45.86461835, 46.85776066, 54.62996013, 56.86391886, 55.93596942,\n",
              "       65.35062454, 58.10634522])"
            ]
          },
          "metadata": {
            "tags": []
          },
          "execution_count": 240
        }
      ]
    },
    {
      "cell_type": "code",
      "metadata": {
        "colab": {
          "base_uri": "https://localhost:8080/",
          "height": 332
        },
        "id": "tMy7I_las1cY",
        "outputId": "cbfa4ab9-4fb2-4363-e7b1-ef84cf776661"
      },
      "source": [
        "# Visually Show The Money Flow Index\n",
        "df2 = pd.DataFrame()\n",
        "df2['MFI'] = mfi\n",
        "#Create and plot the graph\n",
        "plt.figure(figsize=(12.2,4.5)) #width = 12.2in, height = 4.5\n",
        "plt.plot( df2['MFI'],  label='MFI')#plt.plot( X-Axis , Y-Axis, line_width, alpha_for_blending,  label)\n",
        "plt.axhline(10, linestyle='--', color = 'green')  #Over Sold line (Buy)\n",
        "plt.axhline(20, linestyle='--',color = 'red')  #Over Sold Line (Buy)\n",
        "plt.axhline(80, linestyle='--', color = 'orange')  #Over Bought line (Sell)\n",
        "plt.axhline(90, linestyle='--', color = 'blue')  #Over Bought line (Sell)\n",
        "plt.title('MFI')\n",
        "plt.ylabel('MFI Values',fontsize=18)\n",
        "plt.legend(df2.columns.values, loc='upper left')\n",
        "plt.show()"
      ],
      "execution_count": 241,
      "outputs": [
        {
          "output_type": "display_data",
          "data": {
            "image/png": "[encoded data removed]",
            "text/plain": [
              "<Figure size 878.4x324 with 1 Axes>"
            ]
          },
          "metadata": {
            "tags": []
          }
        }
      ]
    },
    {
      "cell_type": "code",
      "metadata": {
        "colab": {
          "base_uri": "https://localhost:8080/",
          "height": 35
        },
        "id": "8WQeEa2ys3e2",
        "outputId": "f4831877-e7d2-4a10-cbb5-9dd7cf21f15e"
      },
      "source": [
        "\"\""
      ],
      "execution_count": 242,
      "outputs": [
        {
          "output_type": "execute_result",
          "data": {
            "application/vnd.google.colaboratory.intrinsic+json": {
              "type": "string"
            },
            "text/plain": [
              "''"
            ]
          },
          "metadata": {
            "tags": []
          },
          "execution_count": 242
        }
      ]
    },
    {
      "cell_type": "code",
      "metadata": {
        "colab": {
          "base_uri": "https://localhost:8080/",
          "height": 287
        },
        "id": "512iM9C7v6sH",
        "outputId": "766efbb9-8bed-4f66-bf38-0a8ca6495b2c"
      },
      "source": [
        "dataframe.describe()"
      ],
      "execution_count": 243,
      "outputs": [
        {
          "output_type": "execute_result",
          "data": {
            "text/html": [
              "<div>\n",
              "<style scoped>\n",
              "    .dataframe tbody tr th:only-of-type {\n",
              "        vertical-align: middle;\n",
              "    }\n",
              "\n",
              "    .dataframe tbody tr th {\n",
              "        vertical-align: top;\n",
              "    }\n",
              "\n",
              "    .dataframe thead th {\n",
              "        text-align: right;\n",
              "    }\n",
              "</style>\n",
              "<table border=\"1\" class=\"dataframe\">\n",
              "  <thead>\n",
              "    <tr style=\"text-align: right;\">\n",
              "      <th></th>\n",
              "      <th>Open</th>\n",
              "      <th>High</th>\n",
              "      <th>Low</th>\n",
              "      <th>Close</th>\n",
              "      <th>Adj Close</th>\n",
              "      <th>Volume</th>\n",
              "    </tr>\n",
              "  </thead>\n",
              "  <tbody>\n",
              "    <tr>\n",
              "      <th>count</th>\n",
              "      <td>41.000000</td>\n",
              "      <td>41.000000</td>\n",
              "      <td>41.000000</td>\n",
              "      <td>41.000000</td>\n",
              "      <td>41.000000</td>\n",
              "      <td>4.100000e+01</td>\n",
              "    </tr>\n",
              "    <tr>\n",
              "      <th>mean</th>\n",
              "      <td>190.932195</td>\n",
              "      <td>193.033416</td>\n",
              "      <td>188.171950</td>\n",
              "      <td>190.426585</td>\n",
              "      <td>190.426585</td>\n",
              "      <td>1.146327e+07</td>\n",
              "    </tr>\n",
              "    <tr>\n",
              "      <th>std</th>\n",
              "      <td>4.844974</td>\n",
              "      <td>4.797636</td>\n",
              "      <td>4.423710</td>\n",
              "      <td>4.524639</td>\n",
              "      <td>4.524639</td>\n",
              "      <td>5.232577e+06</td>\n",
              "    </tr>\n",
              "    <tr>\n",
              "      <th>min</th>\n",
              "      <td>181.740005</td>\n",
              "      <td>185.940002</td>\n",
              "      <td>181.009995</td>\n",
              "      <td>182.789993</td>\n",
              "      <td>182.789993</td>\n",
              "      <td>5.929700e+06</td>\n",
              "    </tr>\n",
              "    <tr>\n",
              "      <th>25%</th>\n",
              "      <td>187.509995</td>\n",
              "      <td>188.979996</td>\n",
              "      <td>184.639999</td>\n",
              "      <td>187.259995</td>\n",
              "      <td>187.259995</td>\n",
              "      <td>7.763000e+06</td>\n",
              "    </tr>\n",
              "    <tr>\n",
              "      <th>50%</th>\n",
              "      <td>190.059998</td>\n",
              "      <td>191.669998</td>\n",
              "      <td>186.949997</td>\n",
              "      <td>189.039993</td>\n",
              "      <td>189.039993</td>\n",
              "      <td>9.634100e+06</td>\n",
              "    </tr>\n",
              "    <tr>\n",
              "      <th>75%</th>\n",
              "      <td>194.949997</td>\n",
              "      <td>196.899994</td>\n",
              "      <td>192.000000</td>\n",
              "      <td>194.240005</td>\n",
              "      <td>194.240005</td>\n",
              "      <td>1.324190e+07</td>\n",
              "    </tr>\n",
              "    <tr>\n",
              "      <th>max</th>\n",
              "      <td>200.190002</td>\n",
              "      <td>203.020004</td>\n",
              "      <td>195.399994</td>\n",
              "      <td>201.910004</td>\n",
              "      <td>201.910004</td>\n",
              "      <td>2.626540e+07</td>\n",
              "    </tr>\n",
              "  </tbody>\n",
              "</table>\n",
              "</div>"
            ],
            "text/plain": [
              "             Open        High         Low       Close   Adj Close        Volume\n",
              "count   41.000000   41.000000   41.000000   41.000000   41.000000  4.100000e+01\n",
              "mean   190.932195  193.033416  188.171950  190.426585  190.426585  1.146327e+07\n",
              "std      4.844974    4.797636    4.423710    4.524639    4.524639  5.232577e+06\n",
              "min    181.740005  185.940002  181.009995  182.789993  182.789993  5.929700e+06\n",
              "25%    187.509995  188.979996  184.639999  187.259995  187.259995  7.763000e+06\n",
              "50%    190.059998  191.669998  186.949997  189.039993  189.039993  9.634100e+06\n",
              "75%    194.949997  196.899994  192.000000  194.240005  194.240005  1.324190e+07\n",
              "max    200.190002  203.020004  195.399994  201.910004  201.910004  2.626540e+07"
            ]
          },
          "metadata": {
            "tags": []
          },
          "execution_count": 243
        }
      ]
    },
    {
      "cell_type": "code",
      "metadata": {
        "id": "Mm6t7Cp0BBXh"
      },
      "source": [
        "buySellQuick = ['DIS',\"AMZN\",'TSLA',\"DXCM\",'SNAP','NFLX']\n"
      ],
      "execution_count": 244,
      "outputs": []
    },
    {
      "cell_type": "code",
      "metadata": {
        "id": "5sYP6OD0B6iy"
      },
      "source": [
        "finalData=pd.DataFrame()\n",
        "startDate = \"2021-01-21\"\n",
        "\n",
        "endDate = \"2021-04-21\"\n",
        "for company in buySellQuick:\n",
        "  tsla_df = yf.download(company, \n",
        "                      start=startDate, \n",
        "                      end=endDate, \n",
        "                      progress=False)\n",
        "  tsla_df = tsla_df.drop(columns=['Open', 'High','Low', 'Volume',\"Adj Close\"])\n",
        "  tsla_df = tsla_df.rename(columns={'Close': company})\n",
        "  tmp = tsla_df[str(company)]\n",
        "\n",
        "  finalData = finalData.append(tmp, ignore_index=True)\n",
        "finalData\n",
        "finalData = finalData.T # or df2.transpose()\n",
        "for i in range(len(buySellQuick)):\n",
        "  finalData = finalData.rename(columns={i: buySellQuick[i]})\n",
        "\n",
        "\n",
        "\n"
      ],
      "execution_count": 263,
      "outputs": []
    },
    {
      "cell_type": "code",
      "metadata": {
        "colab": {
          "base_uri": "https://localhost:8080/",
          "height": 287
        },
        "id": "JKjxtKHFCTU_",
        "outputId": "4e28dbbb-59b0-4dff-c407-53a9b36dcb2a"
      },
      "source": [
        "finalData.describe()"
      ],
      "execution_count": 264,
      "outputs": [
        {
          "output_type": "execute_result",
          "data": {
            "text/html": [
              "<div>\n",
              "<style scoped>\n",
              "    .dataframe tbody tr th:only-of-type {\n",
              "        vertical-align: middle;\n",
              "    }\n",
              "\n",
              "    .dataframe tbody tr th {\n",
              "        vertical-align: top;\n",
              "    }\n",
              "\n",
              "    .dataframe thead th {\n",
              "        text-align: right;\n",
              "    }\n",
              "</style>\n",
              "<table border=\"1\" class=\"dataframe\">\n",
              "  <thead>\n",
              "    <tr style=\"text-align: right;\">\n",
              "      <th></th>\n",
              "      <th>DIS</th>\n",
              "      <th>AMZN</th>\n",
              "      <th>TSLA</th>\n",
              "      <th>DXCM</th>\n",
              "      <th>SNAP</th>\n",
              "      <th>NFLX</th>\n",
              "    </tr>\n",
              "  </thead>\n",
              "  <tbody>\n",
              "    <tr>\n",
              "      <th>count</th>\n",
              "      <td>62.000000</td>\n",
              "      <td>62.000000</td>\n",
              "      <td>62.000000</td>\n",
              "      <td>62.000000</td>\n",
              "      <td>62.000000</td>\n",
              "      <td>62.000000</td>\n",
              "    </tr>\n",
              "    <tr>\n",
              "      <th>mean</th>\n",
              "      <td>186.575645</td>\n",
              "      <td>3203.864183</td>\n",
              "      <td>731.148546</td>\n",
              "      <td>378.869842</td>\n",
              "      <td>59.155484</td>\n",
              "      <td>537.626937</td>\n",
              "    </tr>\n",
              "    <tr>\n",
              "      <th>std</th>\n",
              "      <td>8.137315</td>\n",
              "      <td>126.587183</td>\n",
              "      <td>84.011306</td>\n",
              "      <td>22.036201</td>\n",
              "      <td>5.097759</td>\n",
              "      <td>18.959508</td>\n",
              "    </tr>\n",
              "    <tr>\n",
              "      <th>min</th>\n",
              "      <td>163.029999</td>\n",
              "      <td>2951.949951</td>\n",
              "      <td>563.000000</td>\n",
              "      <td>339.149994</td>\n",
              "      <td>48.950001</td>\n",
              "      <td>493.329987</td>\n",
              "    </tr>\n",
              "    <tr>\n",
              "      <th>25%</th>\n",
              "      <td>184.570004</td>\n",
              "      <td>3090.082520</td>\n",
              "      <td>670.242493</td>\n",
              "      <td>360.220009</td>\n",
              "      <td>54.635001</td>\n",
              "      <td>522.009979</td>\n",
              "    </tr>\n",
              "    <tr>\n",
              "      <th>50%</th>\n",
              "      <td>187.614998</td>\n",
              "      <td>3225.275024</td>\n",
              "      <td>704.959991</td>\n",
              "      <td>375.620010</td>\n",
              "      <td>59.820000</td>\n",
              "      <td>540.444977</td>\n",
              "    </tr>\n",
              "    <tr>\n",
              "      <th>75%</th>\n",
              "      <td>191.604996</td>\n",
              "      <td>3311.557495</td>\n",
              "      <td>803.152512</td>\n",
              "      <td>399.025002</td>\n",
              "      <td>62.855000</td>\n",
              "      <td>551.954987</td>\n",
              "    </tr>\n",
              "    <tr>\n",
              "      <th>max</th>\n",
              "      <td>201.910004</td>\n",
              "      <td>3400.000000</td>\n",
              "      <td>883.090027</td>\n",
              "      <td>418.940002</td>\n",
              "      <td>70.449997</td>\n",
              "      <td>579.840027</td>\n",
              "    </tr>\n",
              "  </tbody>\n",
              "</table>\n",
              "</div>"
            ],
            "text/plain": [
              "              DIS         AMZN        TSLA        DXCM       SNAP        NFLX\n",
              "count   62.000000    62.000000   62.000000   62.000000  62.000000   62.000000\n",
              "mean   186.575645  3203.864183  731.148546  378.869842  59.155484  537.626937\n",
              "std      8.137315   126.587183   84.011306   22.036201   5.097759   18.959508\n",
              "min    163.029999  2951.949951  563.000000  339.149994  48.950001  493.329987\n",
              "25%    184.570004  3090.082520  670.242493  360.220009  54.635001  522.009979\n",
              "50%    187.614998  3225.275024  704.959991  375.620010  59.820000  540.444977\n",
              "75%    191.604996  3311.557495  803.152512  399.025002  62.855000  551.954987\n",
              "max    201.910004  3400.000000  883.090027  418.940002  70.449997  579.840027"
            ]
          },
          "metadata": {
            "tags": []
          },
          "execution_count": 264
        }
      ]
    },
    {
      "cell_type": "code",
      "metadata": {
        "colab": {
          "base_uri": "https://localhost:8080/"
        },
        "id": "8LVZy-uJCW_v",
        "outputId": "06e73c2e-8443-4e24-c6a8-b677ef872120"
      },
      "source": [
        "finalData.iloc[-1]"
      ],
      "execution_count": 265,
      "outputs": [
        {
          "output_type": "execute_result",
          "data": {
            "text/plain": [
              "DIS      182.789993\n",
              "AMZN    3334.689941\n",
              "TSLA     718.989990\n",
              "DXCM     388.910004\n",
              "SNAP      58.490002\n",
              "NFLX     549.570007\n",
              "Name: 2021-04-20 00:00:00, dtype: float64"
            ]
          },
          "metadata": {
            "tags": []
          },
          "execution_count": 265
        }
      ]
    },
    {
      "cell_type": "code",
      "metadata": {
        "colab": {
          "base_uri": "https://localhost:8080/"
        },
        "id": "laPL-3TcC2LT",
        "outputId": "abf12504-3890-4054-dcad-cd1a41bf87c0"
      },
      "source": [
        "for i in finalData:\n",
        "  print(\"****\" + i + \"*****\")\n",
        "  print(str (finalData[i].iloc[-1]) + \" last close\")\n",
        "  print(str(finalData[i].mean()) +  \" mean\")\n",
        "  senal = (finalData[i].iloc[-1]) - int(finalData[i].mean() )\n",
        "  print(senal)"
      ],
      "execution_count": 266,
      "outputs": [
        {
          "output_type": "stream",
          "text": [
            "****DIS*****\n",
            "182.7899932861328 last close\n",
            "186.57564495455833 mean\n",
            "-3.2100067138671875\n",
            "****AMZN*****\n",
            "3334.68994140625 last close\n",
            "3203.8641829952116 mean\n",
            "131.68994140625\n",
            "****TSLA*****\n",
            "718.989990234375 last close\n",
            "731.1485457881804 mean\n",
            "-12.010009765625\n",
            "****DXCM*****\n",
            "388.9100036621094 last close\n",
            "378.8698420370779 mean\n",
            "10.910003662109375\n",
            "****SNAP*****\n",
            "58.4900016784668 last close\n",
            "59.15548373806861 mean\n",
            "-0.5099983215332031\n",
            "****NFLX*****\n",
            "549.5700073242188 last close\n",
            "537.626937373992 mean\n",
            "12.57000732421875\n"
          ],
          "name": "stdout"
        }
      ]
    },
    {
      "cell_type": "code",
      "metadata": {
        "id": "_Hp5-sHME8eD"
      },
      "source": [
        ""
      ],
      "execution_count": 266,
      "outputs": []
    }
  ]
}