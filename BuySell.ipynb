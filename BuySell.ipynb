{
  "nbformat": 4,
  "nbformat_minor": 0,
  "metadata": {
    "colab": {
      "name": "BuySell.ipynb",
      "provenance": [],
      "collapsed_sections": [],
      "mount_file_id": "18uQEkatGFbjlMb9chPre29L0_eIVZHcx",
      "authorship_tag": "ABX9TyNHA/LWXyxxtNS0vwwWwFVt",
      "include_colab_link": true
    },
    "kernelspec": {
      "name": "python3",
      "display_name": "Python 3"
    },
    "language_info": {
      "name": "python"
    }
  },
  "cells": [
    {
      "cell_type": "markdown",
      "metadata": {
        "id": "view-in-github",
        "colab_type": "text"
      },
      "source": [
        "<a href=\"https://colab.research.google.com/github/xanasa14/Finances/blob/main/BuySell.ipynb\" target=\"_parent\"><img src=\"https://colab.research.google.com/assets/colab-badge.svg\" alt=\"Open In Colab\"/></a>"
      ]
    },
    {
      "cell_type": "code",
      "metadata": {
        "id": "Ke9TQnYZhv-n"
      },
      "source": [
        "#Importing needed libraries\n",
        "\n",
        "import pandas as pd\n",
        "import numpy as np\n",
        "from datetime import datetime\n",
        "import matplotlib.pyplot as plt\n",
        "plt.style.use('fivethirtyeight')\n"
      ],
      "execution_count": 173,
      "outputs": []
    },
    {
      "cell_type": "code",
      "metadata": {
        "colab": {
          "base_uri": "https://localhost:8080/",
          "height": 407
        },
        "id": "G5PrEprRh1Bk",
        "outputId": "08496837-1a0f-4bb2-c8f3-bebb33e3a3d4"
      },
      "source": [
        "stock_price_df = pd.read_csv('/content/drive/MyDrive/YahooData/YahooFinanceData.csv')\n",
        "#print(stock_price_df['AMZN'].head())\n",
        "#print(stock_price_df['AMZN'].tail())\n",
        "\n",
        "\n",
        "df = pd.DataFrame()\n",
        "df['AMZN'] = stock_price_df['AMZN'].values\n",
        "df = df.dropna()\n",
        "df"
      ],
      "execution_count": 174,
      "outputs": [
        {
          "output_type": "execute_result",
          "data": {
            "text/html": [
              "<div>\n",
              "<style scoped>\n",
              "    .dataframe tbody tr th:only-of-type {\n",
              "        vertical-align: middle;\n",
              "    }\n",
              "\n",
              "    .dataframe tbody tr th {\n",
              "        vertical-align: top;\n",
              "    }\n",
              "\n",
              "    .dataframe thead th {\n",
              "        text-align: right;\n",
              "    }\n",
              "</style>\n",
              "<table border=\"1\" class=\"dataframe\">\n",
              "  <thead>\n",
              "    <tr style=\"text-align: right;\">\n",
              "      <th></th>\n",
              "      <th>AMZN</th>\n",
              "    </tr>\n",
              "  </thead>\n",
              "  <tbody>\n",
              "    <tr>\n",
              "      <th>0</th>\n",
              "      <td>753.669983</td>\n",
              "    </tr>\n",
              "    <tr>\n",
              "      <th>1</th>\n",
              "      <td>757.179993</td>\n",
              "    </tr>\n",
              "    <tr>\n",
              "      <th>2</th>\n",
              "      <td>780.450012</td>\n",
              "    </tr>\n",
              "    <tr>\n",
              "      <th>3</th>\n",
              "      <td>795.989990</td>\n",
              "    </tr>\n",
              "    <tr>\n",
              "      <th>4</th>\n",
              "      <td>796.919983</td>\n",
              "    </tr>\n",
              "    <tr>\n",
              "      <th>...</th>\n",
              "      <td>...</td>\n",
              "    </tr>\n",
              "    <tr>\n",
              "      <th>1071</th>\n",
              "      <td>3279.389893</td>\n",
              "    </tr>\n",
              "    <tr>\n",
              "      <th>1072</th>\n",
              "      <td>3299.300049</td>\n",
              "    </tr>\n",
              "    <tr>\n",
              "      <th>1073</th>\n",
              "      <td>3372.199951</td>\n",
              "    </tr>\n",
              "    <tr>\n",
              "      <th>1074</th>\n",
              "      <td>3379.389893</td>\n",
              "    </tr>\n",
              "    <tr>\n",
              "      <th>1075</th>\n",
              "      <td>3400.000000</td>\n",
              "    </tr>\n",
              "  </tbody>\n",
              "</table>\n",
              "<p>1076 rows × 1 columns</p>\n",
              "</div>"
            ],
            "text/plain": [
              "             AMZN\n",
              "0      753.669983\n",
              "1      757.179993\n",
              "2      780.450012\n",
              "3      795.989990\n",
              "4      796.919983\n",
              "...           ...\n",
              "1071  3279.389893\n",
              "1072  3299.300049\n",
              "1073  3372.199951\n",
              "1074  3379.389893\n",
              "1075  3400.000000\n",
              "\n",
              "[1076 rows x 1 columns]"
            ]
          },
          "metadata": {
            "tags": []
          },
          "execution_count": 174
        }
      ]
    },
    {
      "cell_type": "code",
      "metadata": {
        "colab": {
          "base_uri": "https://localhost:8080/",
          "height": 354
        },
        "id": "I0oy6GfQi2fA",
        "outputId": "459b7cdb-6506-45df-e863-63c88aa9d6f8"
      },
      "source": [
        "# Visually Show The Stock/Portfolio Price(s)\n",
        "# Create the title \n",
        "title = 'Stock Adj. Close Price History    '\n",
        "#Get the stocks\n",
        "my_stocks = df\n",
        "  \n",
        "#Create and plot the graph\n",
        "plt.figure(figsize=(12.2,4.5)) #width = 12.2in, height = 4.5\n",
        "# Loop through each stock and plot the Adj Close for each day\n",
        "for c in my_stocks.columns.values:\n",
        "  plt.plot( my_stocks[c],  label=c)#plt.plot( X-Axis , Y-Axis, line_width, alpha_for_blending,  label)\n",
        "  \n",
        "plt.title(title)\n",
        "plt.xlabel('2017-01-01 - >  2021-04-14',fontsize=18)\n",
        "plt.ylabel('Adj. Price USD ($)',fontsize=18)\n",
        "plt.legend(my_stocks.columns.values, loc='upper left')\n",
        "plt.show()"
      ],
      "execution_count": 175,
      "outputs": [
        {
          "output_type": "display_data",
          "data": {
            "image/png": "[encoded data removed]",
            "text/plain": [
              "<Figure size 878.4x324 with 1 Axes>"
            ]
          },
          "metadata": {
            "tags": []
          }
        }
      ]
    },
    {
      "cell_type": "code",
      "metadata": {
        "colab": {
          "base_uri": "https://localhost:8080/",
          "height": 407
        },
        "id": "cjZgVZPwlXoj",
        "outputId": "35323c14-4f1d-4869-c909-06a1ee39b190"
      },
      "source": [
        "#Create the 30 day simple moving average\n",
        "SMA30 = df.rolling(window=30).mean()\n",
        "SMA30"
      ],
      "execution_count": 176,
      "outputs": [
        {
          "output_type": "execute_result",
          "data": {
            "text/html": [
              "<div>\n",
              "<style scoped>\n",
              "    .dataframe tbody tr th:only-of-type {\n",
              "        vertical-align: middle;\n",
              "    }\n",
              "\n",
              "    .dataframe tbody tr th {\n",
              "        vertical-align: top;\n",
              "    }\n",
              "\n",
              "    .dataframe thead th {\n",
              "        text-align: right;\n",
              "    }\n",
              "</style>\n",
              "<table border=\"1\" class=\"dataframe\">\n",
              "  <thead>\n",
              "    <tr style=\"text-align: right;\">\n",
              "      <th></th>\n",
              "      <th>AMZN</th>\n",
              "    </tr>\n",
              "  </thead>\n",
              "  <tbody>\n",
              "    <tr>\n",
              "      <th>0</th>\n",
              "      <td>NaN</td>\n",
              "    </tr>\n",
              "    <tr>\n",
              "      <th>1</th>\n",
              "      <td>NaN</td>\n",
              "    </tr>\n",
              "    <tr>\n",
              "      <th>2</th>\n",
              "      <td>NaN</td>\n",
              "    </tr>\n",
              "    <tr>\n",
              "      <th>3</th>\n",
              "      <td>NaN</td>\n",
              "    </tr>\n",
              "    <tr>\n",
              "      <th>4</th>\n",
              "      <td>NaN</td>\n",
              "    </tr>\n",
              "    <tr>\n",
              "      <th>...</th>\n",
              "      <td>...</td>\n",
              "    </tr>\n",
              "    <tr>\n",
              "      <th>1071</th>\n",
              "      <td>3092.361003</td>\n",
              "    </tr>\n",
              "    <tr>\n",
              "      <th>1072</th>\n",
              "      <td>3097.020003</td>\n",
              "    </tr>\n",
              "    <tr>\n",
              "      <th>1073</th>\n",
              "      <td>3107.521338</td>\n",
              "    </tr>\n",
              "    <tr>\n",
              "      <th>1074</th>\n",
              "      <td>3117.070003</td>\n",
              "    </tr>\n",
              "    <tr>\n",
              "      <th>1075</th>\n",
              "      <td>3125.532007</td>\n",
              "    </tr>\n",
              "  </tbody>\n",
              "</table>\n",
              "<p>1076 rows × 1 columns</p>\n",
              "</div>"
            ],
            "text/plain": [
              "             AMZN\n",
              "0             NaN\n",
              "1             NaN\n",
              "2             NaN\n",
              "3             NaN\n",
              "4             NaN\n",
              "...           ...\n",
              "1071  3092.361003\n",
              "1072  3097.020003\n",
              "1073  3107.521338\n",
              "1074  3117.070003\n",
              "1075  3125.532007\n",
              "\n",
              "[1076 rows x 1 columns]"
            ]
          },
          "metadata": {
            "tags": []
          },
          "execution_count": 176
        }
      ]
    },
    {
      "cell_type": "code",
      "metadata": {
        "colab": {
          "base_uri": "https://localhost:8080/",
          "height": 407
        },
        "id": "sB9DGJECl2_C",
        "outputId": "266d3a20-06ee-4292-d521-130e5bba4654"
      },
      "source": [
        "#Create the 100 day simple moving average\n",
        "SMA100 = df.rolling(window=100).mean()\n",
        "SMA100"
      ],
      "execution_count": 177,
      "outputs": [
        {
          "output_type": "execute_result",
          "data": {
            "text/html": [
              "<div>\n",
              "<style scoped>\n",
              "    .dataframe tbody tr th:only-of-type {\n",
              "        vertical-align: middle;\n",
              "    }\n",
              "\n",
              "    .dataframe tbody tr th {\n",
              "        vertical-align: top;\n",
              "    }\n",
              "\n",
              "    .dataframe thead th {\n",
              "        text-align: right;\n",
              "    }\n",
              "</style>\n",
              "<table border=\"1\" class=\"dataframe\">\n",
              "  <thead>\n",
              "    <tr style=\"text-align: right;\">\n",
              "      <th></th>\n",
              "      <th>AMZN</th>\n",
              "    </tr>\n",
              "  </thead>\n",
              "  <tbody>\n",
              "    <tr>\n",
              "      <th>0</th>\n",
              "      <td>NaN</td>\n",
              "    </tr>\n",
              "    <tr>\n",
              "      <th>1</th>\n",
              "      <td>NaN</td>\n",
              "    </tr>\n",
              "    <tr>\n",
              "      <th>2</th>\n",
              "      <td>NaN</td>\n",
              "    </tr>\n",
              "    <tr>\n",
              "      <th>3</th>\n",
              "      <td>NaN</td>\n",
              "    </tr>\n",
              "    <tr>\n",
              "      <th>4</th>\n",
              "      <td>NaN</td>\n",
              "    </tr>\n",
              "    <tr>\n",
              "      <th>...</th>\n",
              "      <td>...</td>\n",
              "    </tr>\n",
              "    <tr>\n",
              "      <th>1071</th>\n",
              "      <td>3173.561089</td>\n",
              "    </tr>\n",
              "    <tr>\n",
              "      <th>1072</th>\n",
              "      <td>3175.180190</td>\n",
              "    </tr>\n",
              "    <tr>\n",
              "      <th>1073</th>\n",
              "      <td>3177.799390</td>\n",
              "    </tr>\n",
              "    <tr>\n",
              "      <th>1074</th>\n",
              "      <td>3180.305188</td>\n",
              "    </tr>\n",
              "    <tr>\n",
              "      <th>1075</th>\n",
              "      <td>3182.994587</td>\n",
              "    </tr>\n",
              "  </tbody>\n",
              "</table>\n",
              "<p>1076 rows × 1 columns</p>\n",
              "</div>"
            ],
            "text/plain": [
              "             AMZN\n",
              "0             NaN\n",
              "1             NaN\n",
              "2             NaN\n",
              "3             NaN\n",
              "4             NaN\n",
              "...           ...\n",
              "1071  3173.561089\n",
              "1072  3175.180190\n",
              "1073  3177.799390\n",
              "1074  3180.305188\n",
              "1075  3182.994587\n",
              "\n",
              "[1076 rows x 1 columns]"
            ]
          },
          "metadata": {
            "tags": []
          },
          "execution_count": 177
        }
      ]
    },
    {
      "cell_type": "code",
      "metadata": {
        "colab": {
          "base_uri": "https://localhost:8080/",
          "height": 354
        },
        "id": "I5zh8irtl9-J",
        "outputId": "c58e1aee-e206-442e-de42-446eeaf27ecf"
      },
      "source": [
        "# Visually Show The Stock and The Moving Averages\n",
        "# Create the title \n",
        "title = 'Adj. Close Price History Simple Moving Averages   '\n",
        "#Get the stocks\n",
        "my_stocks = df\n",
        "  \n",
        "#Create and plot the graph\n",
        "plt.figure(figsize=(12.2,4.5)) #width = 12.2in, height = 4.5\n",
        "plt.plot( my_stocks['AMZN'],  label='AMZN')#plt.plot( X-Axis , Y-Axis, line_width, alpha_for_blending,  label)\n",
        "plt.plot( SMA30['AMZN'],  label='SMA30')\n",
        "plt.plot( SMA100['AMZN'],  label='SMA100')\n",
        "  \n",
        "plt.title(title)\n",
        "plt.xlabel('Oct. 02, 2006 - Dec. 30, 2011 ',fontsize=18)\n",
        "plt.ylabel('Adj. Price USD ($)',fontsize=18)\n",
        "plt.legend( loc='upper left')\n",
        "plt.show()"
      ],
      "execution_count": 178,
      "outputs": [
        {
          "output_type": "display_data",
          "data": {
            "image/png": "[encoded data removed]",
            "text/plain": [
              "<Figure size 878.4x324 with 1 Axes>"
            ]
          },
          "metadata": {
            "tags": []
          }
        }
      ]
    },
    {
      "cell_type": "code",
      "metadata": {
        "id": "5F_24SlRmUaz"
      },
      "source": [
        "#Create a function to signal when to buy and sell an asset\n",
        "def buy_sell(signal):\n",
        "  sigPriceBuy = []\n",
        "  sigPriceSell = []\n",
        "  flag = -1\n",
        "  for i in range(0,len(signal)):\n",
        "    #if sma30 > sma100  then buy else sell\n",
        "      if signal['SMA30'][i] > signal['SMA100'][i]:\n",
        "        if flag != 1:\n",
        "          sigPriceBuy.append(signal['AMZN'][i])\n",
        "          sigPriceSell.append(np.nan)\n",
        "          flag = 1\n",
        "        else:\n",
        "          sigPriceBuy.append(np.nan)\n",
        "          sigPriceSell.append(np.nan)\n",
        "        #print('Buy')\n",
        "      elif signal['SMA30'][i] < signal['SMA100'][i]:\n",
        "        if flag != 0:\n",
        "          sigPriceSell.append(signal['AMZN'][i])\n",
        "          sigPriceBuy.append(np.nan)\n",
        "          flag = 0\n",
        "        else:\n",
        "          sigPriceBuy.append(np.nan)\n",
        "          sigPriceSell.append(np.nan)\n",
        "        #print('sell')\n",
        "      else: #Handling nan values\n",
        "        sigPriceBuy.append(np.nan)\n",
        "        sigPriceSell.append(np.nan)\n",
        "  \n",
        "  return (sigPriceBuy, sigPriceSell)"
      ],
      "execution_count": 179,
      "outputs": []
    },
    {
      "cell_type": "code",
      "metadata": {
        "id": "leVuC6kHmfiw"
      },
      "source": [
        "#Create a new dataframe\n",
        "signal = pd.DataFrame(index=df['AMZN'].index)\n",
        "signal['AMZN'] = df['AMZN']\n",
        "signal['SMA30'] = SMA30['AMZN']\n",
        "signal['SMA100'] = SMA100['AMZN']"
      ],
      "execution_count": 180,
      "outputs": []
    },
    {
      "cell_type": "code",
      "metadata": {
        "colab": {
          "base_uri": "https://localhost:8080/",
          "height": 407
        },
        "id": "MuncfK-VmqMm",
        "outputId": "5ae74420-e407-483b-9e8a-1ae445e99838"
      },
      "source": [
        "signal"
      ],
      "execution_count": 181,
      "outputs": [
        {
          "output_type": "execute_result",
          "data": {
            "text/html": [
              "<div>\n",
              "<style scoped>\n",
              "    .dataframe tbody tr th:only-of-type {\n",
              "        vertical-align: middle;\n",
              "    }\n",
              "\n",
              "    .dataframe tbody tr th {\n",
              "        vertical-align: top;\n",
              "    }\n",
              "\n",
              "    .dataframe thead th {\n",
              "        text-align: right;\n",
              "    }\n",
              "</style>\n",
              "<table border=\"1\" class=\"dataframe\">\n",
              "  <thead>\n",
              "    <tr style=\"text-align: right;\">\n",
              "      <th></th>\n",
              "      <th>AMZN</th>\n",
              "      <th>SMA30</th>\n",
              "      <th>SMA100</th>\n",
              "    </tr>\n",
              "  </thead>\n",
              "  <tbody>\n",
              "    <tr>\n",
              "      <th>0</th>\n",
              "      <td>753.669983</td>\n",
              "      <td>NaN</td>\n",
              "      <td>NaN</td>\n",
              "    </tr>\n",
              "    <tr>\n",
              "      <th>1</th>\n",
              "      <td>757.179993</td>\n",
              "      <td>NaN</td>\n",
              "      <td>NaN</td>\n",
              "    </tr>\n",
              "    <tr>\n",
              "      <th>2</th>\n",
              "      <td>780.450012</td>\n",
              "      <td>NaN</td>\n",
              "      <td>NaN</td>\n",
              "    </tr>\n",
              "    <tr>\n",
              "      <th>3</th>\n",
              "      <td>795.989990</td>\n",
              "      <td>NaN</td>\n",
              "      <td>NaN</td>\n",
              "    </tr>\n",
              "    <tr>\n",
              "      <th>4</th>\n",
              "      <td>796.919983</td>\n",
              "      <td>NaN</td>\n",
              "      <td>NaN</td>\n",
              "    </tr>\n",
              "    <tr>\n",
              "      <th>...</th>\n",
              "      <td>...</td>\n",
              "      <td>...</td>\n",
              "      <td>...</td>\n",
              "    </tr>\n",
              "    <tr>\n",
              "      <th>1071</th>\n",
              "      <td>3279.389893</td>\n",
              "      <td>3092.361003</td>\n",
              "      <td>3173.561089</td>\n",
              "    </tr>\n",
              "    <tr>\n",
              "      <th>1072</th>\n",
              "      <td>3299.300049</td>\n",
              "      <td>3097.020003</td>\n",
              "      <td>3175.180190</td>\n",
              "    </tr>\n",
              "    <tr>\n",
              "      <th>1073</th>\n",
              "      <td>3372.199951</td>\n",
              "      <td>3107.521338</td>\n",
              "      <td>3177.799390</td>\n",
              "    </tr>\n",
              "    <tr>\n",
              "      <th>1074</th>\n",
              "      <td>3379.389893</td>\n",
              "      <td>3117.070003</td>\n",
              "      <td>3180.305188</td>\n",
              "    </tr>\n",
              "    <tr>\n",
              "      <th>1075</th>\n",
              "      <td>3400.000000</td>\n",
              "      <td>3125.532007</td>\n",
              "      <td>3182.994587</td>\n",
              "    </tr>\n",
              "  </tbody>\n",
              "</table>\n",
              "<p>1076 rows × 3 columns</p>\n",
              "</div>"
            ],
            "text/plain": [
              "             AMZN        SMA30       SMA100\n",
              "0      753.669983          NaN          NaN\n",
              "1      757.179993          NaN          NaN\n",
              "2      780.450012          NaN          NaN\n",
              "3      795.989990          NaN          NaN\n",
              "4      796.919983          NaN          NaN\n",
              "...           ...          ...          ...\n",
              "1071  3279.389893  3092.361003  3173.561089\n",
              "1072  3299.300049  3097.020003  3175.180190\n",
              "1073  3372.199951  3107.521338  3177.799390\n",
              "1074  3379.389893  3117.070003  3180.305188\n",
              "1075  3400.000000  3125.532007  3182.994587\n",
              "\n",
              "[1076 rows x 3 columns]"
            ]
          },
          "metadata": {
            "tags": []
          },
          "execution_count": 181
        }
      ]
    },
    {
      "cell_type": "code",
      "metadata": {
        "id": "HyKK9RxbmsDX"
      },
      "source": [
        "x = buy_sell(signal)\n",
        "signal['Buy_Signal_Price'] = x[0]\n",
        "signal['Sell_Signal_Price'] = x[1]"
      ],
      "execution_count": 182,
      "outputs": []
    },
    {
      "cell_type": "code",
      "metadata": {
        "colab": {
          "base_uri": "https://localhost:8080/",
          "height": 407
        },
        "id": "_pBH3SMUmuFb",
        "outputId": "60baff11-1b23-4f10-8039-903f068cd883"
      },
      "source": [
        "signal\n"
      ],
      "execution_count": 183,
      "outputs": [
        {
          "output_type": "execute_result",
          "data": {
            "text/html": [
              "<div>\n",
              "<style scoped>\n",
              "    .dataframe tbody tr th:only-of-type {\n",
              "        vertical-align: middle;\n",
              "    }\n",
              "\n",
              "    .dataframe tbody tr th {\n",
              "        vertical-align: top;\n",
              "    }\n",
              "\n",
              "    .dataframe thead th {\n",
              "        text-align: right;\n",
              "    }\n",
              "</style>\n",
              "<table border=\"1\" class=\"dataframe\">\n",
              "  <thead>\n",
              "    <tr style=\"text-align: right;\">\n",
              "      <th></th>\n",
              "      <th>AMZN</th>\n",
              "      <th>SMA30</th>\n",
              "      <th>SMA100</th>\n",
              "      <th>Buy_Signal_Price</th>\n",
              "      <th>Sell_Signal_Price</th>\n",
              "    </tr>\n",
              "  </thead>\n",
              "  <tbody>\n",
              "    <tr>\n",
              "      <th>0</th>\n",
              "      <td>753.669983</td>\n",
              "      <td>NaN</td>\n",
              "      <td>NaN</td>\n",
              "      <td>NaN</td>\n",
              "      <td>NaN</td>\n",
              "    </tr>\n",
              "    <tr>\n",
              "      <th>1</th>\n",
              "      <td>757.179993</td>\n",
              "      <td>NaN</td>\n",
              "      <td>NaN</td>\n",
              "      <td>NaN</td>\n",
              "      <td>NaN</td>\n",
              "    </tr>\n",
              "    <tr>\n",
              "      <th>2</th>\n",
              "      <td>780.450012</td>\n",
              "      <td>NaN</td>\n",
              "      <td>NaN</td>\n",
              "      <td>NaN</td>\n",
              "      <td>NaN</td>\n",
              "    </tr>\n",
              "    <tr>\n",
              "      <th>3</th>\n",
              "      <td>795.989990</td>\n",
              "      <td>NaN</td>\n",
              "      <td>NaN</td>\n",
              "      <td>NaN</td>\n",
              "      <td>NaN</td>\n",
              "    </tr>\n",
              "    <tr>\n",
              "      <th>4</th>\n",
              "      <td>796.919983</td>\n",
              "      <td>NaN</td>\n",
              "      <td>NaN</td>\n",
              "      <td>NaN</td>\n",
              "      <td>NaN</td>\n",
              "    </tr>\n",
              "    <tr>\n",
              "      <th>...</th>\n",
              "      <td>...</td>\n",
              "      <td>...</td>\n",
              "      <td>...</td>\n",
              "      <td>...</td>\n",
              "      <td>...</td>\n",
              "    </tr>\n",
              "    <tr>\n",
              "      <th>1071</th>\n",
              "      <td>3279.389893</td>\n",
              "      <td>3092.361003</td>\n",
              "      <td>3173.561089</td>\n",
              "      <td>NaN</td>\n",
              "      <td>NaN</td>\n",
              "    </tr>\n",
              "    <tr>\n",
              "      <th>1072</th>\n",
              "      <td>3299.300049</td>\n",
              "      <td>3097.020003</td>\n",
              "      <td>3175.180190</td>\n",
              "      <td>NaN</td>\n",
              "      <td>NaN</td>\n",
              "    </tr>\n",
              "    <tr>\n",
              "      <th>1073</th>\n",
              "      <td>3372.199951</td>\n",
              "      <td>3107.521338</td>\n",
              "      <td>3177.799390</td>\n",
              "      <td>NaN</td>\n",
              "      <td>NaN</td>\n",
              "    </tr>\n",
              "    <tr>\n",
              "      <th>1074</th>\n",
              "      <td>3379.389893</td>\n",
              "      <td>3117.070003</td>\n",
              "      <td>3180.305188</td>\n",
              "      <td>NaN</td>\n",
              "      <td>NaN</td>\n",
              "    </tr>\n",
              "    <tr>\n",
              "      <th>1075</th>\n",
              "      <td>3400.000000</td>\n",
              "      <td>3125.532007</td>\n",
              "      <td>3182.994587</td>\n",
              "      <td>NaN</td>\n",
              "      <td>NaN</td>\n",
              "    </tr>\n",
              "  </tbody>\n",
              "</table>\n",
              "<p>1076 rows × 5 columns</p>\n",
              "</div>"
            ],
            "text/plain": [
              "             AMZN        SMA30  ...  Buy_Signal_Price  Sell_Signal_Price\n",
              "0      753.669983          NaN  ...               NaN                NaN\n",
              "1      757.179993          NaN  ...               NaN                NaN\n",
              "2      780.450012          NaN  ...               NaN                NaN\n",
              "3      795.989990          NaN  ...               NaN                NaN\n",
              "4      796.919983          NaN  ...               NaN                NaN\n",
              "...           ...          ...  ...               ...                ...\n",
              "1071  3279.389893  3092.361003  ...               NaN                NaN\n",
              "1072  3299.300049  3097.020003  ...               NaN                NaN\n",
              "1073  3372.199951  3107.521338  ...               NaN                NaN\n",
              "1074  3379.389893  3117.070003  ...               NaN                NaN\n",
              "1075  3400.000000  3125.532007  ...               NaN                NaN\n",
              "\n",
              "[1076 rows x 5 columns]"
            ]
          },
          "metadata": {
            "tags": []
          },
          "execution_count": 183
        }
      ]
    },
    {
      "cell_type": "code",
      "metadata": {
        "colab": {
          "base_uri": "https://localhost:8080/",
          "height": 354
        },
        "id": "j7_6r20Lm16Z",
        "outputId": "b414d136-df09-43a5-9063-a1b5da0e8318"
      },
      "source": [
        "# Visually Show The Stock buy and sell signals\n",
        "# Create the title \n",
        "title = 'Adj. Close Price History Buy / Sell Signals   '\n",
        "#Get the stocks\n",
        "my_stocks = signal\n",
        "ticker = 'AMZN'\n",
        "  \n",
        "#Create and plot the graph\n",
        "plt.figure(figsize=(12.2,4.5)) #width = 12.2in, height = 4.5\n",
        "plt.scatter(my_stocks.index, my_stocks['Buy_Signal_Price'], color = 'green', label='Buy Signal', marker = '^', alpha = 1)\n",
        "plt.scatter(my_stocks.index, my_stocks['Sell_Signal_Price'], color = 'red', label='Sell Signal', marker = 'v', alpha = 1)\n",
        "plt.plot( my_stocks[ticker],  label=ticker, alpha = 0.35)#plt.plot( X-Axis , Y-Axis, line_width, alpha_for_blending,  label)\n",
        "plt.plot( my_stocks['SMA30'],  label='SMA30', alpha = 0.35)\n",
        "plt.plot( my_stocks['SMA100'],  label='SMA100', alpha = 0.35)\n",
        "plt.title(title)\n",
        "plt.xlabel('Oct. 02, 2006 - Dec. 30, 2011',fontsize=18)\n",
        "plt.ylabel('Adj. Close Price USD ($)',fontsize=18)\n",
        "plt.legend( loc='upper left')\n",
        "plt.show()"
      ],
      "execution_count": 184,
      "outputs": [
        {
          "output_type": "display_data",
          "data": {
            "image/png": "[encoded data removed]",
            "text/plain": [
              "<Figure size 878.4x324 with 1 Axes>"
            ]
          },
          "metadata": {
            "tags": []
          }
        }
      ]
    },
    {
      "cell_type": "code",
      "metadata": {
        "colab": {
          "base_uri": "https://localhost:8080/"
        },
        "id": "1dnk--zHm4tW",
        "outputId": "3f4a122c-a1e0-43ed-b250-c4de726a4f1c"
      },
      "source": [
        "def buy_and_sell(stock_price):\n",
        "    max_profit_val, current_max_val = 0, 0 \n",
        "    for price in reversed(stock_price):                       \n",
        "        current_max_val = max(current_max_val, price)          \n",
        "        potential_profit = current_max_val - price          \n",
        "        max_profit_val = max(potential_profit, max_profit_val)\n",
        "\n",
        "    return max_profit_val\n",
        "\n",
        "\n",
        "AMZN = list(df[\"AMZN\"])\n",
        "\n",
        "last30 = AMZN[-30:]\n",
        "print(buy_and_sell(last30))"
      ],
      "execution_count": 185,
      "outputs": [
        {
          "output_type": "stream",
          "text": [
            "448.050048828125\n"
          ],
          "name": "stdout"
        }
      ]
    },
    {
      "cell_type": "code",
      "metadata": {
        "colab": {
          "base_uri": "https://localhost:8080/"
        },
        "id": "-9K-vq0pngaC",
        "outputId": "dd43018f-83c1-4b8c-cf15-78739a5e0a80"
      },
      "source": [
        "last30"
      ],
      "execution_count": 186,
      "outputs": [
        {
          "output_type": "execute_result",
          "data": {
            "text/plain": [
              "[3094.530029296875,\n",
              " 3005.0,\n",
              " 2977.570068359375,\n",
              " 3000.4599609375,\n",
              " 2951.949951171875,\n",
              " 3062.85009765625,\n",
              " 3057.639892578125,\n",
              " 3113.590087890625,\n",
              " 3089.489990234375,\n",
              " 3081.679931640625,\n",
              " 3091.860107421875,\n",
              " 3135.72998046875,\n",
              " 3027.989990234375,\n",
              " 3074.9599609375,\n",
              " 3110.8701171875,\n",
              " 3137.5,\n",
              " 3087.070068359375,\n",
              " 3046.260009765625,\n",
              " 3052.030029296875,\n",
              " 3075.72998046875,\n",
              " 3055.2900390625,\n",
              " 3094.080078125,\n",
              " 3161.0,\n",
              " 3226.72998046875,\n",
              " 3223.820068359375,\n",
              " 3279.389892578125,\n",
              " 3299.300048828125,\n",
              " 3372.199951171875,\n",
              " 3379.389892578125,\n",
              " 3400.0]"
            ]
          },
          "metadata": {
            "tags": []
          },
          "execution_count": 186
        }
      ]
    },
    {
      "cell_type": "code",
      "metadata": {
        "id": "wCLHJz4en6eX"
      },
      "source": [
        ""
      ],
      "execution_count": 186,
      "outputs": []
    },
    {
      "cell_type": "markdown",
      "metadata": {
        "id": "-RO9Yd2Xqo3F"
      },
      "source": [
        "MFI \n",
        "Money Flow Index (MFI)\n"
      ]
    },
    {
      "cell_type": "code",
      "metadata": {
        "colab": {
          "base_uri": "https://localhost:8080/"
        },
        "id": "-mgMkZmfrTEa",
        "outputId": "171288a7-2d3e-41aa-e25e-bfa364012a96"
      },
      "source": [
        "!pip install yfinance\n",
        "!pip install yahoofinancials"
      ],
      "execution_count": 187,
      "outputs": [
        {
          "output_type": "stream",
          "text": [
            "Requirement already satisfied: yfinance in /usr/local/lib/python3.7/dist-packages (0.1.59)\n",
            "Requirement already satisfied: lxml>=4.5.1 in /usr/local/lib/python3.7/dist-packages (from yfinance) (4.6.3)\n",
            "Requirement already satisfied: multitasking>=0.0.7 in /usr/local/lib/python3.7/dist-packages (from yfinance) (0.0.9)\n",
            "Requirement already satisfied: requests>=2.20 in /usr/local/lib/python3.7/dist-packages (from yfinance) (2.23.0)\n",
            "Requirement already satisfied: numpy>=1.15 in /usr/local/lib/python3.7/dist-packages (from yfinance) (1.19.5)\n",
            "Requirement already satisfied: pandas>=0.24 in /usr/local/lib/python3.7/dist-packages (from yfinance) (1.1.5)\n",
            "Requirement already satisfied: urllib3!=1.25.0,!=1.25.1,<1.26,>=1.21.1 in /usr/local/lib/python3.7/dist-packages (from requests>=2.20->yfinance) (1.24.3)\n",
            "Requirement already satisfied: certifi>=2017.4.17 in /usr/local/lib/python3.7/dist-packages (from requests>=2.20->yfinance) (2020.12.5)\n",
            "Requirement already satisfied: chardet<4,>=3.0.2 in /usr/local/lib/python3.7/dist-packages (from requests>=2.20->yfinance) (3.0.4)\n",
            "Requirement already satisfied: idna<3,>=2.5 in /usr/local/lib/python3.7/dist-packages (from requests>=2.20->yfinance) (2.10)\n",
            "Requirement already satisfied: pytz>=2017.2 in /usr/local/lib/python3.7/dist-packages (from pandas>=0.24->yfinance) (2018.9)\n",
            "Requirement already satisfied: python-dateutil>=2.7.3 in /usr/local/lib/python3.7/dist-packages (from pandas>=0.24->yfinance) (2.8.1)\n",
            "Requirement already satisfied: six>=1.5 in /usr/local/lib/python3.7/dist-packages (from python-dateutil>=2.7.3->pandas>=0.24->yfinance) (1.15.0)\n",
            "Requirement already satisfied: yahoofinancials in /usr/local/lib/python3.7/dist-packages (1.6)\n",
            "Requirement already satisfied: beautifulsoup4 in /usr/local/lib/python3.7/dist-packages (from yahoofinancials) (4.6.3)\n",
            "Requirement already satisfied: pytz in /usr/local/lib/python3.7/dist-packages (from yahoofinancials) (2018.9)\n"
          ],
          "name": "stdout"
        }
      ]
    },
    {
      "cell_type": "code",
      "metadata": {
        "colab": {
          "base_uri": "https://localhost:8080/",
          "height": 437
        },
        "id": "R4AMj6ngqvH-",
        "outputId": "6252f5ca-b6db-4b5f-8f6e-09204392227b"
      },
      "source": [
        "import pandas as pd\n",
        "import numpy as np\n",
        "import yfinance as yf\n",
        "from yahoofinancials import YahooFinancials\n",
        "company = 'DIS'\n",
        "startDate = \"2021-01-20\"\n",
        "\n",
        "endDate = \"2021-04-21\"\n",
        "dataframe = yf.download(company, \n",
        "                      start=startDate, \n",
        "                      end=endDate, \n",
        "                      progress=False)\n",
        "\n",
        "dataframe"
      ],
      "execution_count": 208,
      "outputs": [
        {
          "output_type": "execute_result",
          "data": {
            "text/html": [
              "<div>\n",
              "<style scoped>\n",
              "    .dataframe tbody tr th:only-of-type {\n",
              "        vertical-align: middle;\n",
              "    }\n",
              "\n",
              "    .dataframe tbody tr th {\n",
              "        vertical-align: top;\n",
              "    }\n",
              "\n",
              "    .dataframe thead th {\n",
              "        text-align: right;\n",
              "    }\n",
              "</style>\n",
              "<table border=\"1\" class=\"dataframe\">\n",
              "  <thead>\n",
              "    <tr style=\"text-align: right;\">\n",
              "      <th></th>\n",
              "      <th>Open</th>\n",
              "      <th>High</th>\n",
              "      <th>Low</th>\n",
              "      <th>Close</th>\n",
              "      <th>Adj Close</th>\n",
              "      <th>Volume</th>\n",
              "    </tr>\n",
              "    <tr>\n",
              "      <th>Date</th>\n",
              "      <th></th>\n",
              "      <th></th>\n",
              "      <th></th>\n",
              "      <th></th>\n",
              "      <th></th>\n",
              "      <th></th>\n",
              "    </tr>\n",
              "  </thead>\n",
              "  <tbody>\n",
              "    <tr>\n",
              "      <th>2021-01-20</th>\n",
              "      <td>175.220001</td>\n",
              "      <td>177.880005</td>\n",
              "      <td>173.000000</td>\n",
              "      <td>173.639999</td>\n",
              "      <td>173.639999</td>\n",
              "      <td>9809200</td>\n",
              "    </tr>\n",
              "    <tr>\n",
              "      <th>2021-01-21</th>\n",
              "      <td>173.240005</td>\n",
              "      <td>175.000000</td>\n",
              "      <td>171.020004</td>\n",
              "      <td>171.279999</td>\n",
              "      <td>171.279999</td>\n",
              "      <td>8423900</td>\n",
              "    </tr>\n",
              "    <tr>\n",
              "      <th>2021-01-22</th>\n",
              "      <td>174.000000</td>\n",
              "      <td>175.250000</td>\n",
              "      <td>171.889999</td>\n",
              "      <td>172.779999</td>\n",
              "      <td>172.779999</td>\n",
              "      <td>9517200</td>\n",
              "    </tr>\n",
              "    <tr>\n",
              "      <th>2021-01-25</th>\n",
              "      <td>171.889999</td>\n",
              "      <td>173.110001</td>\n",
              "      <td>168.770004</td>\n",
              "      <td>171.889999</td>\n",
              "      <td>171.889999</td>\n",
              "      <td>7833700</td>\n",
              "    </tr>\n",
              "    <tr>\n",
              "      <th>2021-01-26</th>\n",
              "      <td>173.000000</td>\n",
              "      <td>173.350006</td>\n",
              "      <td>169.050003</td>\n",
              "      <td>169.559998</td>\n",
              "      <td>169.559998</td>\n",
              "      <td>7523200</td>\n",
              "    </tr>\n",
              "    <tr>\n",
              "      <th>...</th>\n",
              "      <td>...</td>\n",
              "      <td>...</td>\n",
              "      <td>...</td>\n",
              "      <td>...</td>\n",
              "      <td>...</td>\n",
              "      <td>...</td>\n",
              "    </tr>\n",
              "    <tr>\n",
              "      <th>2021-04-14</th>\n",
              "      <td>185.970001</td>\n",
              "      <td>190.399994</td>\n",
              "      <td>185.710007</td>\n",
              "      <td>187.460007</td>\n",
              "      <td>187.460007</td>\n",
              "      <td>9089900</td>\n",
              "    </tr>\n",
              "    <tr>\n",
              "      <th>2021-04-15</th>\n",
              "      <td>188.089996</td>\n",
              "      <td>188.899994</td>\n",
              "      <td>185.699997</td>\n",
              "      <td>185.929993</td>\n",
              "      <td>185.929993</td>\n",
              "      <td>7262500</td>\n",
              "    </tr>\n",
              "    <tr>\n",
              "      <th>2021-04-16</th>\n",
              "      <td>187.570007</td>\n",
              "      <td>189.470001</td>\n",
              "      <td>186.199997</td>\n",
              "      <td>187.259995</td>\n",
              "      <td>187.259995</td>\n",
              "      <td>9449100</td>\n",
              "    </tr>\n",
              "    <tr>\n",
              "      <th>2021-04-19</th>\n",
              "      <td>187.509995</td>\n",
              "      <td>190.330002</td>\n",
              "      <td>185.649994</td>\n",
              "      <td>187.429993</td>\n",
              "      <td>187.429993</td>\n",
              "      <td>7619800</td>\n",
              "    </tr>\n",
              "    <tr>\n",
              "      <th>2021-04-20</th>\n",
              "      <td>187.289993</td>\n",
              "      <td>188.024994</td>\n",
              "      <td>181.820007</td>\n",
              "      <td>182.789993</td>\n",
              "      <td>182.789993</td>\n",
              "      <td>10032822</td>\n",
              "    </tr>\n",
              "  </tbody>\n",
              "</table>\n",
              "<p>63 rows × 6 columns</p>\n",
              "</div>"
            ],
            "text/plain": [
              "                  Open        High  ...   Adj Close    Volume\n",
              "Date                                ...                      \n",
              "2021-01-20  175.220001  177.880005  ...  173.639999   9809200\n",
              "2021-01-21  173.240005  175.000000  ...  171.279999   8423900\n",
              "2021-01-22  174.000000  175.250000  ...  172.779999   9517200\n",
              "2021-01-25  171.889999  173.110001  ...  171.889999   7833700\n",
              "2021-01-26  173.000000  173.350006  ...  169.559998   7523200\n",
              "...                ...         ...  ...         ...       ...\n",
              "2021-04-14  185.970001  190.399994  ...  187.460007   9089900\n",
              "2021-04-15  188.089996  188.899994  ...  185.929993   7262500\n",
              "2021-04-16  187.570007  189.470001  ...  187.259995   9449100\n",
              "2021-04-19  187.509995  190.330002  ...  187.429993   7619800\n",
              "2021-04-20  187.289993  188.024994  ...  182.789993  10032822\n",
              "\n",
              "[63 rows x 6 columns]"
            ]
          },
          "metadata": {
            "tags": []
          },
          "execution_count": 208
        }
      ]
    },
    {
      "cell_type": "code",
      "metadata": {
        "colab": {
          "base_uri": "https://localhost:8080/",
          "height": 354
        },
        "id": "olxtHcxyrMVa",
        "outputId": "7c6ca0e3-9df6-405b-8277-9e84cfc43d4f"
      },
      "source": [
        "#Visually Show The Stock Price\n",
        "#Create and plot the graph\n",
        "plt.figure(figsize=(12.2,4.5)) #width = 12.2in, height = 4.5\n",
        "plt.plot( dataframe['Close'],  label='Close Price')#plt.plot( X-Axis , Y-Axis, line_width, alpha_for_blending,  label)  \n",
        "plt.title('Close Price History')\n",
        "plt.xlabel('Date',fontsize=18)\n",
        "plt.ylabel('Close Price USD ($)',fontsize=18)\n",
        "plt.legend(dataframe.columns.values, loc='upper left')\n",
        "plt.show()"
      ],
      "execution_count": 209,
      "outputs": [
        {
          "output_type": "display_data",
          "data": {
            "image/png": "[encoded data removed]",
            "text/plain": [
              "<Figure size 878.4x324 with 1 Axes>"
            ]
          },
          "metadata": {
            "tags": []
          }
        }
      ]
    },
    {
      "cell_type": "code",
      "metadata": {
        "colab": {
          "base_uri": "https://localhost:8080/"
        },
        "id": "LwSrkFlprk-u",
        "outputId": "09479bfc-5673-42ec-b1c5-e3a918be3839"
      },
      "source": [
        "#Calculate the typical price\n",
        "typical_price = (dataframe['Close'] + dataframe['High'] + dataframe['Low']) / 3\n",
        "typical_price"
      ],
      "execution_count": 210,
      "outputs": [
        {
          "output_type": "execute_result",
          "data": {
            "text/plain": [
              "Date\n",
              "2021-01-20    174.840001\n",
              "2021-01-21    172.433334\n",
              "2021-01-22    173.306666\n",
              "2021-01-25    171.256668\n",
              "2021-01-26    170.653336\n",
              "                 ...    \n",
              "2021-04-14    187.856669\n",
              "2021-04-15    186.843328\n",
              "2021-04-16    187.643331\n",
              "2021-04-19    187.803329\n",
              "2021-04-20    184.211665\n",
              "Length: 63, dtype: float64"
            ]
          },
          "metadata": {
            "tags": []
          },
          "execution_count": 210
        }
      ]
    },
    {
      "cell_type": "code",
      "metadata": {
        "id": "-125s1gwrtNu"
      },
      "source": [
        "period =  14 #The typical period used for MFI is 14 days\n"
      ],
      "execution_count": 211,
      "outputs": []
    },
    {
      "cell_type": "code",
      "metadata": {
        "colab": {
          "base_uri": "https://localhost:8080/"
        },
        "id": "O257dUloshNe",
        "outputId": "8ea67f71-6b8b-4102-f69c-00f634ae7596"
      },
      "source": [
        "#Calculate the money flow\n",
        "money_flow = typical_price * dataframe['Volume']\n",
        "money_flow"
      ],
      "execution_count": 212,
      "outputs": [
        {
          "output_type": "execute_result",
          "data": {
            "text/plain": [
              "Date\n",
              "2021-01-20    1.715041e+09\n",
              "2021-01-21    1.452561e+09\n",
              "2021-01-22    1.649394e+09\n",
              "2021-01-25    1.341573e+09\n",
              "2021-01-26    1.283859e+09\n",
              "                  ...     \n",
              "2021-04-14    1.707598e+09\n",
              "2021-04-15    1.356950e+09\n",
              "2021-04-16    1.773061e+09\n",
              "2021-04-19    1.431024e+09\n",
              "2021-04-20    1.848163e+09\n",
              "Length: 63, dtype: float64"
            ]
          },
          "metadata": {
            "tags": []
          },
          "execution_count": 212
        }
      ]
    },
    {
      "cell_type": "code",
      "metadata": {
        "id": "PLKjmdUwsjXm"
      },
      "source": [
        "#Get all of the positive and negative money flows \n",
        "#where the current typical price is higher than the previous day's typical price, we will append that days money flow to a positive list\n",
        "#and where the current typical price is lower than the previous day's typical price, we will append that days money flow to a negative list\n",
        "#and set any other value to 0 to be used when summing\n",
        "positive_flow =[] #Create a empty list called positive flow\n",
        "negative_flow = [] #Create a empty list called negative flow\n",
        "#Loop through the typical price \n",
        "for i in range(1, len(typical_price)):\n",
        "  if typical_price[i] > typical_price[i-1]: #if the present typical price is greater than yesterdays typical price\n",
        "    positive_flow.append(money_flow[i-1])# Then append money flow at position i-1 to the positive flow list\n",
        "    negative_flow.append(0) #Append 0 to the negative flow list\n",
        "  elif typical_price[i] < typical_price[i-1]:#if the present typical price is less than yesterdays typical price\n",
        "    negative_flow.append(money_flow[i-1])# Then append money flow at position i-1 to negative flow list\n",
        "    positive_flow.append(0)#Append 0 to the positive flow list\n",
        "  else: #Append 0 if the present typical price is equal to yesterdays typical price\n",
        "    positive_flow.append(0)\n",
        "    negative_flow.append(0)\n"
      ],
      "execution_count": 213,
      "outputs": []
    },
    {
      "cell_type": "code",
      "metadata": {
        "id": "5xIF_bRhsw-_"
      },
      "source": [
        "#Get all of the positive and negative money flows within the time period\n",
        "positive_mf =[]\n",
        "negative_mf = [] \n",
        "#Get all of the positive money flows within the time period\n",
        "for i in range(period-1, len(positive_flow)):\n",
        "  positive_mf.append(sum(positive_flow[i+1-period : i+1]))\n",
        "#Get all of the negative money flows within the time period  \n",
        "for i in range(period-1, len(negative_flow)):\n",
        "  negative_mf.append(sum(negative_flow[i+1-period : i+1]))"
      ],
      "execution_count": 214,
      "outputs": []
    },
    {
      "cell_type": "code",
      "metadata": {
        "colab": {
          "base_uri": "https://localhost:8080/"
        },
        "id": "krXGY3ycsz0T",
        "outputId": "bc2b0ad1-41e4-403b-822b-a4b17f2926fc"
      },
      "source": [
        "mfi = 100 * (np.array(positive_mf) / (np.array(positive_mf)  + np.array(negative_mf) ))\n",
        "mfi"
      ],
      "execution_count": 215,
      "outputs": [
        {
          "output_type": "execute_result",
          "data": {
            "text/plain": [
              "array([54.81360762, 62.16700842, 63.18185623, 59.49230764, 52.40102546,\n",
              "       50.98765616, 43.05464746, 43.29931806, 42.33257062, 46.07426062,\n",
              "       49.63534308, 44.16063856, 39.04247829, 41.7343812 , 47.96404267,\n",
              "       43.16064496, 38.10245992, 39.04543748, 48.22968458, 44.57729338,\n",
              "       41.82022504, 48.05389427, 43.24480393, 35.39316077, 25.70915663,\n",
              "       26.65822698, 26.41214303, 18.81902005, 25.063521  , 25.01108468,\n",
              "       24.7940227 , 24.68497037, 24.43002168, 26.55744132, 33.43638502,\n",
              "       30.0408768 , 36.01787291, 42.45460364, 48.32620172, 48.95554705,\n",
              "       51.95198124, 58.34524739, 45.86461835, 46.85776066, 54.62996013,\n",
              "       56.86391886, 55.93596942, 65.35062454, 58.10634522])"
            ]
          },
          "metadata": {
            "tags": []
          },
          "execution_count": 215
        }
      ]
    },
    {
      "cell_type": "code",
      "metadata": {
        "colab": {
          "base_uri": "https://localhost:8080/",
          "height": 332
        },
        "id": "tMy7I_las1cY",
        "outputId": "6fdb89c7-7636-4008-eacd-78cf4fab414c"
      },
      "source": [
        "# Visually Show The Money Flow Index\n",
        "df2 = pd.DataFrame()\n",
        "df2['MFI'] = mfi\n",
        "#Create and plot the graph\n",
        "plt.figure(figsize=(12.2,4.5)) #width = 12.2in, height = 4.5\n",
        "plt.plot( df2['MFI'],  label='MFI')#plt.plot( X-Axis , Y-Axis, line_width, alpha_for_blending,  label)\n",
        "plt.axhline(10, linestyle='--', color = 'green')  #Over Sold line (Buy)\n",
        "plt.axhline(20, linestyle='--',color = 'red')  #Over Sold Line (Buy)\n",
        "plt.axhline(80, linestyle='--', color = 'orange')  #Over Bought line (Sell)\n",
        "plt.axhline(90, linestyle='--', color = 'blue')  #Over Bought line (Sell)\n",
        "plt.title('MFI')\n",
        "plt.ylabel('MFI Values',fontsize=18)\n",
        "plt.legend(df2.columns.values, loc='upper left')\n",
        "plt.show()"
      ],
      "execution_count": 216,
      "outputs": [
        {
          "output_type": "display_data",
          "data": {
            "image/png": "[encoded data removed]",
            "text/plain": [
              "<Figure size 878.4x324 with 1 Axes>"
            ]
          },
          "metadata": {
            "tags": []
          }
        }
      ]
    },
    {
      "cell_type": "code",
      "metadata": {
        "colab": {
          "base_uri": "https://localhost:8080/",
          "height": 35
        },
        "id": "8WQeEa2ys3e2",
        "outputId": "11be655e-c277-42fe-b3b8-1878e91f7e77"
      },
      "source": [
        "\"\""
      ],
      "execution_count": 217,
      "outputs": [
        {
          "output_type": "execute_result",
          "data": {
            "application/vnd.google.colaboratory.intrinsic+json": {
              "type": "string"
            },
            "text/plain": [
              "''"
            ]
          },
          "metadata": {
            "tags": []
          },
          "execution_count": 217
        }
      ]
    },
    {
      "cell_type": "code",
      "metadata": {
        "colab": {
          "base_uri": "https://localhost:8080/",
          "height": 287
        },
        "id": "512iM9C7v6sH",
        "outputId": "b3b39d9f-2d67-46f6-9fd6-e3fdf3b60986"
      },
      "source": [
        "dataframe.describe()"
      ],
      "execution_count": 218,
      "outputs": [
        {
          "output_type": "execute_result",
          "data": {
            "text/html": [
              "<div>\n",
              "<style scoped>\n",
              "    .dataframe tbody tr th:only-of-type {\n",
              "        vertical-align: middle;\n",
              "    }\n",
              "\n",
              "    .dataframe tbody tr th {\n",
              "        vertical-align: top;\n",
              "    }\n",
              "\n",
              "    .dataframe thead th {\n",
              "        text-align: right;\n",
              "    }\n",
              "</style>\n",
              "<table border=\"1\" class=\"dataframe\">\n",
              "  <thead>\n",
              "    <tr style=\"text-align: right;\">\n",
              "      <th></th>\n",
              "      <th>Open</th>\n",
              "      <th>High</th>\n",
              "      <th>Low</th>\n",
              "      <th>Close</th>\n",
              "      <th>Adj Close</th>\n",
              "      <th>Volume</th>\n",
              "    </tr>\n",
              "  </thead>\n",
              "  <tbody>\n",
              "    <tr>\n",
              "      <th>count</th>\n",
              "      <td>63.000000</td>\n",
              "      <td>63.000000</td>\n",
              "      <td>63.000000</td>\n",
              "      <td>63.000000</td>\n",
              "      <td>63.000000</td>\n",
              "      <td>6.300000e+01</td>\n",
              "    </tr>\n",
              "    <tr>\n",
              "      <th>mean</th>\n",
              "      <td>186.704127</td>\n",
              "      <td>188.801509</td>\n",
              "      <td>184.061587</td>\n",
              "      <td>186.370317</td>\n",
              "      <td>186.370317</td>\n",
              "      <td>1.154285e+07</td>\n",
              "    </tr>\n",
              "    <tr>\n",
              "      <th>std</th>\n",
              "      <td>8.487413</td>\n",
              "      <td>8.416637</td>\n",
              "      <td>8.192261</td>\n",
              "      <td>8.234315</td>\n",
              "      <td>8.234315</td>\n",
              "      <td>5.056206e+06</td>\n",
              "    </tr>\n",
              "    <tr>\n",
              "      <th>min</th>\n",
              "      <td>165.009995</td>\n",
              "      <td>166.339996</td>\n",
              "      <td>160.520004</td>\n",
              "      <td>163.029999</td>\n",
              "      <td>163.029999</td>\n",
              "      <td>5.508600e+06</td>\n",
              "    </tr>\n",
              "    <tr>\n",
              "      <th>25%</th>\n",
              "      <td>183.840004</td>\n",
              "      <td>186.360001</td>\n",
              "      <td>181.990005</td>\n",
              "      <td>184.084999</td>\n",
              "      <td>184.084999</td>\n",
              "      <td>8.033300e+06</td>\n",
              "    </tr>\n",
              "    <tr>\n",
              "      <th>50%</th>\n",
              "      <td>188.089996</td>\n",
              "      <td>190.330002</td>\n",
              "      <td>185.589996</td>\n",
              "      <td>187.559998</td>\n",
              "      <td>187.559998</td>\n",
              "      <td>1.003282e+07</td>\n",
              "    </tr>\n",
              "    <tr>\n",
              "      <th>75%</th>\n",
              "      <td>193.114998</td>\n",
              "      <td>194.550003</td>\n",
              "      <td>189.209999</td>\n",
              "      <td>191.449997</td>\n",
              "      <td>191.449997</td>\n",
              "      <td>1.304140e+07</td>\n",
              "    </tr>\n",
              "    <tr>\n",
              "      <th>max</th>\n",
              "      <td>200.190002</td>\n",
              "      <td>203.020004</td>\n",
              "      <td>195.399994</td>\n",
              "      <td>201.910004</td>\n",
              "      <td>201.910004</td>\n",
              "      <td>2.720090e+07</td>\n",
              "    </tr>\n",
              "  </tbody>\n",
              "</table>\n",
              "</div>"
            ],
            "text/plain": [
              "             Open        High         Low       Close   Adj Close        Volume\n",
              "count   63.000000   63.000000   63.000000   63.000000   63.000000  6.300000e+01\n",
              "mean   186.704127  188.801509  184.061587  186.370317  186.370317  1.154285e+07\n",
              "std      8.487413    8.416637    8.192261    8.234315    8.234315  5.056206e+06\n",
              "min    165.009995  166.339996  160.520004  163.029999  163.029999  5.508600e+06\n",
              "25%    183.840004  186.360001  181.990005  184.084999  184.084999  8.033300e+06\n",
              "50%    188.089996  190.330002  185.589996  187.559998  187.559998  1.003282e+07\n",
              "75%    193.114998  194.550003  189.209999  191.449997  191.449997  1.304140e+07\n",
              "max    200.190002  203.020004  195.399994  201.910004  201.910004  2.720090e+07"
            ]
          },
          "metadata": {
            "tags": []
          },
          "execution_count": 218
        }
      ]
    },
    {
      "cell_type": "code",
      "metadata": {
        "id": "Mm6t7Cp0BBXh"
      },
      "source": [
        "buySellQuick = ['DIS',\"AMZN\",'TSLA',\"DXCM\",'SNAP','NFLX']\n"
      ],
      "execution_count": 219,
      "outputs": []
    },
    {
      "cell_type": "code",
      "metadata": {
        "id": "5sYP6OD0B6iy"
      },
      "source": [
        "finalData=pd.DataFrame()\n",
        "for company in buySellQuick:\n",
        "  tsla_df = yf.download(company, \n",
        "                      start=startDate, \n",
        "                      end=endDate, \n",
        "                      progress=False)\n",
        "  tsla_df = tsla_df.drop(columns=['Open', 'High','Low', 'Volume',\"Adj Close\"])\n",
        "  tsla_df = tsla_df.rename(columns={'Close': company})\n",
        "  tmp = tsla_df[str(company)]\n",
        "\n",
        "  finalData = finalData.append(tmp, ignore_index=True)\n",
        "finalData\n",
        "finalData = finalData.T # or df2.transpose()\n",
        "for i in range(len(buySellQuick)):\n",
        "  finalData = finalData.rename(columns={i: buySellQuick[i]})\n",
        "\n",
        "\n",
        "\n"
      ],
      "execution_count": 220,
      "outputs": []
    },
    {
      "cell_type": "code",
      "metadata": {
        "colab": {
          "base_uri": "https://localhost:8080/",
          "height": 287
        },
        "id": "JKjxtKHFCTU_",
        "outputId": "461e6758-e3d5-438e-e963-d0748e4bb87d"
      },
      "source": [
        "finalData.describe()"
      ],
      "execution_count": 221,
      "outputs": [
        {
          "output_type": "execute_result",
          "data": {
            "text/html": [
              "<div>\n",
              "<style scoped>\n",
              "    .dataframe tbody tr th:only-of-type {\n",
              "        vertical-align: middle;\n",
              "    }\n",
              "\n",
              "    .dataframe tbody tr th {\n",
              "        vertical-align: top;\n",
              "    }\n",
              "\n",
              "    .dataframe thead th {\n",
              "        text-align: right;\n",
              "    }\n",
              "</style>\n",
              "<table border=\"1\" class=\"dataframe\">\n",
              "  <thead>\n",
              "    <tr style=\"text-align: right;\">\n",
              "      <th></th>\n",
              "      <th>DIS</th>\n",
              "      <th>AMZN</th>\n",
              "      <th>TSLA</th>\n",
              "      <th>DXCM</th>\n",
              "      <th>SNAP</th>\n",
              "      <th>NFLX</th>\n",
              "    </tr>\n",
              "  </thead>\n",
              "  <tbody>\n",
              "    <tr>\n",
              "      <th>count</th>\n",
              "      <td>63.000000</td>\n",
              "      <td>63.000000</td>\n",
              "      <td>63.000000</td>\n",
              "      <td>63.000000</td>\n",
              "      <td>63.000000</td>\n",
              "      <td>63.000000</td>\n",
              "    </tr>\n",
              "    <tr>\n",
              "      <th>mean</th>\n",
              "      <td>186.370317</td>\n",
              "      <td>3204.808877</td>\n",
              "      <td>733.042220</td>\n",
              "      <td>378.635717</td>\n",
              "      <td>59.045079</td>\n",
              "      <td>538.400161</td>\n",
              "    </tr>\n",
              "    <tr>\n",
              "      <th>std</th>\n",
              "      <td>8.234315</td>\n",
              "      <td>125.785859</td>\n",
              "      <td>84.675738</td>\n",
              "      <td>21.936620</td>\n",
              "      <td>5.131853</td>\n",
              "      <td>19.782094</td>\n",
              "    </tr>\n",
              "    <tr>\n",
              "      <th>min</th>\n",
              "      <td>163.029999</td>\n",
              "      <td>2951.949951</td>\n",
              "      <td>563.000000</td>\n",
              "      <td>339.149994</td>\n",
              "      <td>48.950001</td>\n",
              "      <td>493.329987</td>\n",
              "    </tr>\n",
              "    <tr>\n",
              "      <th>25%</th>\n",
              "      <td>184.084999</td>\n",
              "      <td>3090.675049</td>\n",
              "      <td>670.484985</td>\n",
              "      <td>360.620010</td>\n",
              "      <td>54.445002</td>\n",
              "      <td>522.359985</td>\n",
              "    </tr>\n",
              "    <tr>\n",
              "      <th>50%</th>\n",
              "      <td>187.559998</td>\n",
              "      <td>3226.729980</td>\n",
              "      <td>707.940002</td>\n",
              "      <td>374.850006</td>\n",
              "      <td>59.619999</td>\n",
              "      <td>540.669983</td>\n",
              "    </tr>\n",
              "    <tr>\n",
              "      <th>75%</th>\n",
              "      <td>191.449997</td>\n",
              "      <td>3310.584961</td>\n",
              "      <td>808.239990</td>\n",
              "      <td>398.610001</td>\n",
              "      <td>62.840000</td>\n",
              "      <td>552.470001</td>\n",
              "    </tr>\n",
              "    <tr>\n",
              "      <th>max</th>\n",
              "      <td>201.910004</td>\n",
              "      <td>3400.000000</td>\n",
              "      <td>883.090027</td>\n",
              "      <td>418.940002</td>\n",
              "      <td>70.449997</td>\n",
              "      <td>586.340027</td>\n",
              "    </tr>\n",
              "  </tbody>\n",
              "</table>\n",
              "</div>"
            ],
            "text/plain": [
              "              DIS         AMZN        TSLA        DXCM       SNAP        NFLX\n",
              "count   63.000000    63.000000   63.000000   63.000000  63.000000   63.000000\n",
              "mean   186.370317  3204.808877  733.042220  378.635717  59.045079  538.400161\n",
              "std      8.234315   125.785859   84.675738   21.936620   5.131853   19.782094\n",
              "min    163.029999  2951.949951  563.000000  339.149994  48.950001  493.329987\n",
              "25%    184.084999  3090.675049  670.484985  360.620010  54.445002  522.359985\n",
              "50%    187.559998  3226.729980  707.940002  374.850006  59.619999  540.669983\n",
              "75%    191.449997  3310.584961  808.239990  398.610001  62.840000  552.470001\n",
              "max    201.910004  3400.000000  883.090027  418.940002  70.449997  586.340027"
            ]
          },
          "metadata": {
            "tags": []
          },
          "execution_count": 221
        }
      ]
    },
    {
      "cell_type": "code",
      "metadata": {
        "colab": {
          "base_uri": "https://localhost:8080/",
          "height": 407
        },
        "id": "8LVZy-uJCW_v",
        "outputId": "f2bfb81e-fa61-4973-ebd5-3f3f2b90ea5c"
      },
      "source": [
        "finalData"
      ],
      "execution_count": 222,
      "outputs": [
        {
          "output_type": "execute_result",
          "data": {
            "text/html": [
              "<div>\n",
              "<style scoped>\n",
              "    .dataframe tbody tr th:only-of-type {\n",
              "        vertical-align: middle;\n",
              "    }\n",
              "\n",
              "    .dataframe tbody tr th {\n",
              "        vertical-align: top;\n",
              "    }\n",
              "\n",
              "    .dataframe thead th {\n",
              "        text-align: right;\n",
              "    }\n",
              "</style>\n",
              "<table border=\"1\" class=\"dataframe\">\n",
              "  <thead>\n",
              "    <tr style=\"text-align: right;\">\n",
              "      <th></th>\n",
              "      <th>DIS</th>\n",
              "      <th>AMZN</th>\n",
              "      <th>TSLA</th>\n",
              "      <th>DXCM</th>\n",
              "      <th>SNAP</th>\n",
              "      <th>NFLX</th>\n",
              "    </tr>\n",
              "  </thead>\n",
              "  <tbody>\n",
              "    <tr>\n",
              "      <th>2021-01-20</th>\n",
              "      <td>173.639999</td>\n",
              "      <td>3263.379883</td>\n",
              "      <td>850.450012</td>\n",
              "      <td>364.119995</td>\n",
              "      <td>52.200001</td>\n",
              "      <td>586.340027</td>\n",
              "    </tr>\n",
              "    <tr>\n",
              "      <th>2021-01-21</th>\n",
              "      <td>171.279999</td>\n",
              "      <td>3306.989990</td>\n",
              "      <td>844.989990</td>\n",
              "      <td>367.500000</td>\n",
              "      <td>54.400002</td>\n",
              "      <td>579.840027</td>\n",
              "    </tr>\n",
              "    <tr>\n",
              "      <th>2021-01-22</th>\n",
              "      <td>172.779999</td>\n",
              "      <td>3292.229980</td>\n",
              "      <td>846.640015</td>\n",
              "      <td>370.119995</td>\n",
              "      <td>53.570000</td>\n",
              "      <td>565.169983</td>\n",
              "    </tr>\n",
              "    <tr>\n",
              "      <th>2021-01-25</th>\n",
              "      <td>171.889999</td>\n",
              "      <td>3294.000000</td>\n",
              "      <td>880.799988</td>\n",
              "      <td>376.390015</td>\n",
              "      <td>53.650002</td>\n",
              "      <td>556.780029</td>\n",
              "    </tr>\n",
              "    <tr>\n",
              "      <th>2021-01-26</th>\n",
              "      <td>169.559998</td>\n",
              "      <td>3326.129883</td>\n",
              "      <td>883.090027</td>\n",
              "      <td>361.420013</td>\n",
              "      <td>53.290001</td>\n",
              "      <td>561.929993</td>\n",
              "    </tr>\n",
              "    <tr>\n",
              "      <th>...</th>\n",
              "      <td>...</td>\n",
              "      <td>...</td>\n",
              "      <td>...</td>\n",
              "      <td>...</td>\n",
              "      <td>...</td>\n",
              "      <td>...</td>\n",
              "    </tr>\n",
              "    <tr>\n",
              "      <th>2021-04-14</th>\n",
              "      <td>187.460007</td>\n",
              "      <td>3333.000000</td>\n",
              "      <td>732.229980</td>\n",
              "      <td>391.100006</td>\n",
              "      <td>62.009998</td>\n",
              "      <td>540.020020</td>\n",
              "    </tr>\n",
              "    <tr>\n",
              "      <th>2021-04-15</th>\n",
              "      <td>185.929993</td>\n",
              "      <td>3379.090088</td>\n",
              "      <td>738.849976</td>\n",
              "      <td>399.489990</td>\n",
              "      <td>63.889999</td>\n",
              "      <td>549.219971</td>\n",
              "    </tr>\n",
              "    <tr>\n",
              "      <th>2021-04-16</th>\n",
              "      <td>187.259995</td>\n",
              "      <td>3399.439941</td>\n",
              "      <td>739.780029</td>\n",
              "      <td>400.040009</td>\n",
              "      <td>61.250000</td>\n",
              "      <td>546.539978</td>\n",
              "    </tr>\n",
              "    <tr>\n",
              "      <th>2021-04-19</th>\n",
              "      <td>187.429993</td>\n",
              "      <td>3372.010010</td>\n",
              "      <td>714.630005</td>\n",
              "      <td>393.040009</td>\n",
              "      <td>60.439999</td>\n",
              "      <td>554.440002</td>\n",
              "    </tr>\n",
              "    <tr>\n",
              "      <th>2021-04-20</th>\n",
              "      <td>182.789993</td>\n",
              "      <td>3334.689941</td>\n",
              "      <td>718.989990</td>\n",
              "      <td>388.910004</td>\n",
              "      <td>58.490002</td>\n",
              "      <td>549.570007</td>\n",
              "    </tr>\n",
              "  </tbody>\n",
              "</table>\n",
              "<p>63 rows × 6 columns</p>\n",
              "</div>"
            ],
            "text/plain": [
              "                   DIS         AMZN  ...       SNAP        NFLX\n",
              "2021-01-20  173.639999  3263.379883  ...  52.200001  586.340027\n",
              "2021-01-21  171.279999  3306.989990  ...  54.400002  579.840027\n",
              "2021-01-22  172.779999  3292.229980  ...  53.570000  565.169983\n",
              "2021-01-25  171.889999  3294.000000  ...  53.650002  556.780029\n",
              "2021-01-26  169.559998  3326.129883  ...  53.290001  561.929993\n",
              "...                ...          ...  ...        ...         ...\n",
              "2021-04-14  187.460007  3333.000000  ...  62.009998  540.020020\n",
              "2021-04-15  185.929993  3379.090088  ...  63.889999  549.219971\n",
              "2021-04-16  187.259995  3399.439941  ...  61.250000  546.539978\n",
              "2021-04-19  187.429993  3372.010010  ...  60.439999  554.440002\n",
              "2021-04-20  182.789993  3334.689941  ...  58.490002  549.570007\n",
              "\n",
              "[63 rows x 6 columns]"
            ]
          },
          "metadata": {
            "tags": []
          },
          "execution_count": 222
        }
      ]
    },
    {
      "cell_type": "code",
      "metadata": {
        "colab": {
          "base_uri": "https://localhost:8080/"
        },
        "id": "laPL-3TcC2LT",
        "outputId": "f5a2199a-e38f-4320-c68f-678696f55528"
      },
      "source": [
        "for i in finalData:\n",
        "  print(i)\n",
        "  print(finalData[i].iloc[-1])"
      ],
      "execution_count": 227,
      "outputs": [
        {
          "output_type": "stream",
          "text": [
            "DIS\n",
            "182.7899932861328\n",
            "AMZN\n",
            "3334.68994140625\n",
            "TSLA\n",
            "718.989990234375\n",
            "DXCM\n",
            "388.9100036621094\n",
            "SNAP\n",
            "58.4900016784668\n",
            "NFLX\n",
            "549.5700073242188\n"
          ],
          "name": "stdout"
        }
      ]
    },
    {
      "cell_type": "code",
      "metadata": {
        "id": "T3evmG83DMRi"
      },
      "source": [
        ""
      ],
      "execution_count": 223,
      "outputs": []
    }
  ]
}