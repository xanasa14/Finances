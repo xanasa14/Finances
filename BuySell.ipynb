{
  "nbformat": 4,
  "nbformat_minor": 0,
  "metadata": {
    "colab": {
      "name": "BuySell.ipynb",
      "provenance": [],
      "collapsed_sections": [],
      "mount_file_id": "18uQEkatGFbjlMb9chPre29L0_eIVZHcx",
      "authorship_tag": "ABX9TyPaxfaKpUS7VapMfVr7wh98",
      "include_colab_link": true
    },
    "kernelspec": {
      "name": "python3",
      "display_name": "Python 3"
    },
    "language_info": {
      "name": "python"
    }
  },
  "cells": [
    {
      "cell_type": "markdown",
      "metadata": {
        "id": "view-in-github",
        "colab_type": "text"
      },
      "source": [
        "<a href=\"https://colab.research.google.com/github/xanasa14/Finances/blob/main/BuySell.ipynb\" target=\"_parent\"><img src=\"https://colab.research.google.com/assets/colab-badge.svg\" alt=\"Open In Colab\"/></a>"
      ]
    },
    {
      "cell_type": "code",
      "metadata": {
        "id": "Ke9TQnYZhv-n"
      },
      "source": [
        "#Importing needed libraries\n",
        "\n",
        "import pandas as pd\n",
        "import numpy as np\n",
        "from datetime import datetime\n",
        "import matplotlib.pyplot as plt\n",
        "plt.style.use('fivethirtyeight')\n"
      ],
      "execution_count": 1,
      "outputs": []
    },
    {
      "cell_type": "code",
      "metadata": {
        "colab": {
          "base_uri": "https://localhost:8080/",
          "height": 407
        },
        "id": "G5PrEprRh1Bk",
        "outputId": "f81204aa-0cd1-4ec6-c55a-893e2d0d3daa"
      },
      "source": [
        "stock_price_df = pd.read_csv('/content/drive/MyDrive/YahooData/YahooFinanceData.csv')\n",
        "#print(stock_price_df['AMZN'].head())\n",
        "#print(stock_price_df['AMZN'].tail())\n",
        "\n",
        "\n",
        "df = pd.DataFrame()\n",
        "df['AMZN'] = stock_price_df['AMZN'].values\n",
        "df = df.dropna()\n",
        "df"
      ],
      "execution_count": 13,
      "outputs": [
        {
          "output_type": "execute_result",
          "data": {
            "text/html": [
              "<div>\n",
              "<style scoped>\n",
              "    .dataframe tbody tr th:only-of-type {\n",
              "        vertical-align: middle;\n",
              "    }\n",
              "\n",
              "    .dataframe tbody tr th {\n",
              "        vertical-align: top;\n",
              "    }\n",
              "\n",
              "    .dataframe thead th {\n",
              "        text-align: right;\n",
              "    }\n",
              "</style>\n",
              "<table border=\"1\" class=\"dataframe\">\n",
              "  <thead>\n",
              "    <tr style=\"text-align: right;\">\n",
              "      <th></th>\n",
              "      <th>AMZN</th>\n",
              "    </tr>\n",
              "  </thead>\n",
              "  <tbody>\n",
              "    <tr>\n",
              "      <th>0</th>\n",
              "      <td>753.669983</td>\n",
              "    </tr>\n",
              "    <tr>\n",
              "      <th>1</th>\n",
              "      <td>757.179993</td>\n",
              "    </tr>\n",
              "    <tr>\n",
              "      <th>2</th>\n",
              "      <td>780.450012</td>\n",
              "    </tr>\n",
              "    <tr>\n",
              "      <th>3</th>\n",
              "      <td>795.989990</td>\n",
              "    </tr>\n",
              "    <tr>\n",
              "      <th>4</th>\n",
              "      <td>796.919983</td>\n",
              "    </tr>\n",
              "    <tr>\n",
              "      <th>...</th>\n",
              "      <td>...</td>\n",
              "    </tr>\n",
              "    <tr>\n",
              "      <th>1071</th>\n",
              "      <td>3279.389893</td>\n",
              "    </tr>\n",
              "    <tr>\n",
              "      <th>1072</th>\n",
              "      <td>3299.300049</td>\n",
              "    </tr>\n",
              "    <tr>\n",
              "      <th>1073</th>\n",
              "      <td>3372.199951</td>\n",
              "    </tr>\n",
              "    <tr>\n",
              "      <th>1074</th>\n",
              "      <td>3379.389893</td>\n",
              "    </tr>\n",
              "    <tr>\n",
              "      <th>1075</th>\n",
              "      <td>3400.000000</td>\n",
              "    </tr>\n",
              "  </tbody>\n",
              "</table>\n",
              "<p>1076 rows × 1 columns</p>\n",
              "</div>"
            ],
            "text/plain": [
              "             AMZN\n",
              "0      753.669983\n",
              "1      757.179993\n",
              "2      780.450012\n",
              "3      795.989990\n",
              "4      796.919983\n",
              "...           ...\n",
              "1071  3279.389893\n",
              "1072  3299.300049\n",
              "1073  3372.199951\n",
              "1074  3379.389893\n",
              "1075  3400.000000\n",
              "\n",
              "[1076 rows x 1 columns]"
            ]
          },
          "metadata": {
            "tags": []
          },
          "execution_count": 13
        }
      ]
    },
    {
      "cell_type": "code",
      "metadata": {
        "colab": {
          "base_uri": "https://localhost:8080/",
          "height": 328
        },
        "id": "I0oy6GfQi2fA",
        "outputId": "62ed3094-79a2-4fc4-ca5a-b7cf57203520"
      },
      "source": [
        "# Visually Show The Stock/Portfolio Price(s)\n",
        "# Create the title \n",
        "title = 'Stock Adj. Close Price History    '\n",
        "#Get the stocks\n",
        "my_stocks = df\n",
        "  \n",
        "#Create and plot the graph\n",
        "plt.figure(figsize=(12.2,4.5)) #width = 12.2in, height = 4.5\n",
        "# Loop through each stock and plot the Adj Close for each day\n",
        "for c in my_stocks.columns.values:\n",
        "  plt.plot( my_stocks[c],  label=c)#plt.plot( X-Axis , Y-Axis, line_width, alpha_for_blending,  label)\n",
        "  \n",
        "plt.title(title)\n",
        "plt.xlabel('2017-01-01 - >  2021-04-14',fontsize=18)\n",
        "plt.ylabel('Adj. Price USD ($)',fontsize=18)\n",
        "plt.legend(my_stocks.columns.values, loc='upper left')\n",
        "plt.show()"
      ],
      "execution_count": 16,
      "outputs": [
        {
          "output_type": "display_data",
          "data": {
            "image/png": "[encoded data removed]",
            "text/plain": [
              "<Figure size 878.4x324 with 1 Axes>"
            ]
          },
          "metadata": {
            "tags": [],
            "needs_background": "light"
          }
        }
      ]
    },
    {
      "cell_type": "code",
      "metadata": {
        "colab": {
          "base_uri": "https://localhost:8080/",
          "height": 407
        },
        "id": "cjZgVZPwlXoj",
        "outputId": "05de7fcd-467e-499f-b4d9-58f67e620cf2"
      },
      "source": [
        "#Create the 30 day simple moving average\n",
        "SMA30 = df.rolling(window=30).mean()\n",
        "SMA30"
      ],
      "execution_count": 17,
      "outputs": [
        {
          "output_type": "execute_result",
          "data": {
            "text/html": [
              "<div>\n",
              "<style scoped>\n",
              "    .dataframe tbody tr th:only-of-type {\n",
              "        vertical-align: middle;\n",
              "    }\n",
              "\n",
              "    .dataframe tbody tr th {\n",
              "        vertical-align: top;\n",
              "    }\n",
              "\n",
              "    .dataframe thead th {\n",
              "        text-align: right;\n",
              "    }\n",
              "</style>\n",
              "<table border=\"1\" class=\"dataframe\">\n",
              "  <thead>\n",
              "    <tr style=\"text-align: right;\">\n",
              "      <th></th>\n",
              "      <th>AMZN</th>\n",
              "    </tr>\n",
              "  </thead>\n",
              "  <tbody>\n",
              "    <tr>\n",
              "      <th>0</th>\n",
              "      <td>NaN</td>\n",
              "    </tr>\n",
              "    <tr>\n",
              "      <th>1</th>\n",
              "      <td>NaN</td>\n",
              "    </tr>\n",
              "    <tr>\n",
              "      <th>2</th>\n",
              "      <td>NaN</td>\n",
              "    </tr>\n",
              "    <tr>\n",
              "      <th>3</th>\n",
              "      <td>NaN</td>\n",
              "    </tr>\n",
              "    <tr>\n",
              "      <th>4</th>\n",
              "      <td>NaN</td>\n",
              "    </tr>\n",
              "    <tr>\n",
              "      <th>...</th>\n",
              "      <td>...</td>\n",
              "    </tr>\n",
              "    <tr>\n",
              "      <th>1071</th>\n",
              "      <td>3092.361003</td>\n",
              "    </tr>\n",
              "    <tr>\n",
              "      <th>1072</th>\n",
              "      <td>3097.020003</td>\n",
              "    </tr>\n",
              "    <tr>\n",
              "      <th>1073</th>\n",
              "      <td>3107.521338</td>\n",
              "    </tr>\n",
              "    <tr>\n",
              "      <th>1074</th>\n",
              "      <td>3117.070003</td>\n",
              "    </tr>\n",
              "    <tr>\n",
              "      <th>1075</th>\n",
              "      <td>3125.532007</td>\n",
              "    </tr>\n",
              "  </tbody>\n",
              "</table>\n",
              "<p>1076 rows × 1 columns</p>\n",
              "</div>"
            ],
            "text/plain": [
              "             AMZN\n",
              "0             NaN\n",
              "1             NaN\n",
              "2             NaN\n",
              "3             NaN\n",
              "4             NaN\n",
              "...           ...\n",
              "1071  3092.361003\n",
              "1072  3097.020003\n",
              "1073  3107.521338\n",
              "1074  3117.070003\n",
              "1075  3125.532007\n",
              "\n",
              "[1076 rows x 1 columns]"
            ]
          },
          "metadata": {
            "tags": []
          },
          "execution_count": 17
        }
      ]
    },
    {
      "cell_type": "code",
      "metadata": {
        "colab": {
          "base_uri": "https://localhost:8080/",
          "height": 407
        },
        "id": "sB9DGJECl2_C",
        "outputId": "622aa50d-be11-4f92-fb69-7274781e6889"
      },
      "source": [
        "#Create the 100 day simple moving average\n",
        "SMA100 = df.rolling(window=100).mean()\n",
        "SMA100"
      ],
      "execution_count": 18,
      "outputs": [
        {
          "output_type": "execute_result",
          "data": {
            "text/html": [
              "<div>\n",
              "<style scoped>\n",
              "    .dataframe tbody tr th:only-of-type {\n",
              "        vertical-align: middle;\n",
              "    }\n",
              "\n",
              "    .dataframe tbody tr th {\n",
              "        vertical-align: top;\n",
              "    }\n",
              "\n",
              "    .dataframe thead th {\n",
              "        text-align: right;\n",
              "    }\n",
              "</style>\n",
              "<table border=\"1\" class=\"dataframe\">\n",
              "  <thead>\n",
              "    <tr style=\"text-align: right;\">\n",
              "      <th></th>\n",
              "      <th>AMZN</th>\n",
              "    </tr>\n",
              "  </thead>\n",
              "  <tbody>\n",
              "    <tr>\n",
              "      <th>0</th>\n",
              "      <td>NaN</td>\n",
              "    </tr>\n",
              "    <tr>\n",
              "      <th>1</th>\n",
              "      <td>NaN</td>\n",
              "    </tr>\n",
              "    <tr>\n",
              "      <th>2</th>\n",
              "      <td>NaN</td>\n",
              "    </tr>\n",
              "    <tr>\n",
              "      <th>3</th>\n",
              "      <td>NaN</td>\n",
              "    </tr>\n",
              "    <tr>\n",
              "      <th>4</th>\n",
              "      <td>NaN</td>\n",
              "    </tr>\n",
              "    <tr>\n",
              "      <th>...</th>\n",
              "      <td>...</td>\n",
              "    </tr>\n",
              "    <tr>\n",
              "      <th>1071</th>\n",
              "      <td>3173.561089</td>\n",
              "    </tr>\n",
              "    <tr>\n",
              "      <th>1072</th>\n",
              "      <td>3175.180190</td>\n",
              "    </tr>\n",
              "    <tr>\n",
              "      <th>1073</th>\n",
              "      <td>3177.799390</td>\n",
              "    </tr>\n",
              "    <tr>\n",
              "      <th>1074</th>\n",
              "      <td>3180.305188</td>\n",
              "    </tr>\n",
              "    <tr>\n",
              "      <th>1075</th>\n",
              "      <td>3182.994587</td>\n",
              "    </tr>\n",
              "  </tbody>\n",
              "</table>\n",
              "<p>1076 rows × 1 columns</p>\n",
              "</div>"
            ],
            "text/plain": [
              "             AMZN\n",
              "0             NaN\n",
              "1             NaN\n",
              "2             NaN\n",
              "3             NaN\n",
              "4             NaN\n",
              "...           ...\n",
              "1071  3173.561089\n",
              "1072  3175.180190\n",
              "1073  3177.799390\n",
              "1074  3180.305188\n",
              "1075  3182.994587\n",
              "\n",
              "[1076 rows x 1 columns]"
            ]
          },
          "metadata": {
            "tags": []
          },
          "execution_count": 18
        }
      ]
    },
    {
      "cell_type": "code",
      "metadata": {
        "colab": {
          "base_uri": "https://localhost:8080/",
          "height": 328
        },
        "id": "I5zh8irtl9-J",
        "outputId": "c62ce2a9-0417-4fea-e443-6d6513a6e280"
      },
      "source": [
        "# Visually Show The Stock and The Moving Averages\n",
        "# Create the title \n",
        "title = 'Adj. Close Price History Simple Moving Averages   '\n",
        "#Get the stocks\n",
        "my_stocks = df\n",
        "  \n",
        "#Create and plot the graph\n",
        "plt.figure(figsize=(12.2,4.5)) #width = 12.2in, height = 4.5\n",
        "plt.plot( my_stocks['AMZN'],  label='AMZN')#plt.plot( X-Axis , Y-Axis, line_width, alpha_for_blending,  label)\n",
        "plt.plot( SMA30['AMZN'],  label='SMA30')\n",
        "plt.plot( SMA100['AMZN'],  label='SMA100')\n",
        "  \n",
        "plt.title(title)\n",
        "plt.xlabel('Oct. 02, 2006 - Dec. 30, 2011 ',fontsize=18)\n",
        "plt.ylabel('Adj. Price USD ($)',fontsize=18)\n",
        "plt.legend( loc='upper left')\n",
        "plt.show()"
      ],
      "execution_count": 21,
      "outputs": [
        {
          "output_type": "display_data",
          "data": {
            "image/png": "[encoded data removed]",
            "text/plain": [
              "<Figure size 878.4x324 with 1 Axes>"
            ]
          },
          "metadata": {
            "tags": [],
            "needs_background": "light"
          }
        }
      ]
    },
    {
      "cell_type": "code",
      "metadata": {
        "id": "5F_24SlRmUaz"
      },
      "source": [
        "#Create a function to signal when to buy and sell an asset\n",
        "def buy_sell(signal):\n",
        "  sigPriceBuy = []\n",
        "  sigPriceSell = []\n",
        "  flag = -1\n",
        "  for i in range(0,len(signal)):\n",
        "    #if sma30 > sma100  then buy else sell\n",
        "      if signal['SMA30'][i] > signal['SMA100'][i]:\n",
        "        if flag != 1:\n",
        "          sigPriceBuy.append(signal['AMZN'][i])\n",
        "          sigPriceSell.append(np.nan)\n",
        "          flag = 1\n",
        "        else:\n",
        "          sigPriceBuy.append(np.nan)\n",
        "          sigPriceSell.append(np.nan)\n",
        "        #print('Buy')\n",
        "      elif signal['SMA30'][i] < signal['SMA100'][i]:\n",
        "        if flag != 0:\n",
        "          sigPriceSell.append(signal['AMZN'][i])\n",
        "          sigPriceBuy.append(np.nan)\n",
        "          flag = 0\n",
        "        else:\n",
        "          sigPriceBuy.append(np.nan)\n",
        "          sigPriceSell.append(np.nan)\n",
        "        #print('sell')\n",
        "      else: #Handling nan values\n",
        "        sigPriceBuy.append(np.nan)\n",
        "        sigPriceSell.append(np.nan)\n",
        "  \n",
        "  return (sigPriceBuy, sigPriceSell)"
      ],
      "execution_count": 26,
      "outputs": []
    },
    {
      "cell_type": "code",
      "metadata": {
        "id": "leVuC6kHmfiw"
      },
      "source": [
        "#Create a new dataframe\n",
        "signal = pd.DataFrame(index=df['AMZN'].index)\n",
        "signal['AMZN'] = df['AMZN']\n",
        "signal['SMA30'] = SMA30['AMZN']\n",
        "signal['SMA100'] = SMA100['AMZN']"
      ],
      "execution_count": 27,
      "outputs": []
    },
    {
      "cell_type": "code",
      "metadata": {
        "colab": {
          "base_uri": "https://localhost:8080/",
          "height": 407
        },
        "id": "MuncfK-VmqMm",
        "outputId": "dac4ed32-f4d8-49c9-c856-40f542d3a82b"
      },
      "source": [
        "signal"
      ],
      "execution_count": 28,
      "outputs": [
        {
          "output_type": "execute_result",
          "data": {
            "text/html": [
              "<div>\n",
              "<style scoped>\n",
              "    .dataframe tbody tr th:only-of-type {\n",
              "        vertical-align: middle;\n",
              "    }\n",
              "\n",
              "    .dataframe tbody tr th {\n",
              "        vertical-align: top;\n",
              "    }\n",
              "\n",
              "    .dataframe thead th {\n",
              "        text-align: right;\n",
              "    }\n",
              "</style>\n",
              "<table border=\"1\" class=\"dataframe\">\n",
              "  <thead>\n",
              "    <tr style=\"text-align: right;\">\n",
              "      <th></th>\n",
              "      <th>AMZN</th>\n",
              "      <th>SMA30</th>\n",
              "      <th>SMA100</th>\n",
              "    </tr>\n",
              "  </thead>\n",
              "  <tbody>\n",
              "    <tr>\n",
              "      <th>0</th>\n",
              "      <td>753.669983</td>\n",
              "      <td>NaN</td>\n",
              "      <td>NaN</td>\n",
              "    </tr>\n",
              "    <tr>\n",
              "      <th>1</th>\n",
              "      <td>757.179993</td>\n",
              "      <td>NaN</td>\n",
              "      <td>NaN</td>\n",
              "    </tr>\n",
              "    <tr>\n",
              "      <th>2</th>\n",
              "      <td>780.450012</td>\n",
              "      <td>NaN</td>\n",
              "      <td>NaN</td>\n",
              "    </tr>\n",
              "    <tr>\n",
              "      <th>3</th>\n",
              "      <td>795.989990</td>\n",
              "      <td>NaN</td>\n",
              "      <td>NaN</td>\n",
              "    </tr>\n",
              "    <tr>\n",
              "      <th>4</th>\n",
              "      <td>796.919983</td>\n",
              "      <td>NaN</td>\n",
              "      <td>NaN</td>\n",
              "    </tr>\n",
              "    <tr>\n",
              "      <th>...</th>\n",
              "      <td>...</td>\n",
              "      <td>...</td>\n",
              "      <td>...</td>\n",
              "    </tr>\n",
              "    <tr>\n",
              "      <th>1071</th>\n",
              "      <td>3279.389893</td>\n",
              "      <td>3092.361003</td>\n",
              "      <td>3173.561089</td>\n",
              "    </tr>\n",
              "    <tr>\n",
              "      <th>1072</th>\n",
              "      <td>3299.300049</td>\n",
              "      <td>3097.020003</td>\n",
              "      <td>3175.180190</td>\n",
              "    </tr>\n",
              "    <tr>\n",
              "      <th>1073</th>\n",
              "      <td>3372.199951</td>\n",
              "      <td>3107.521338</td>\n",
              "      <td>3177.799390</td>\n",
              "    </tr>\n",
              "    <tr>\n",
              "      <th>1074</th>\n",
              "      <td>3379.389893</td>\n",
              "      <td>3117.070003</td>\n",
              "      <td>3180.305188</td>\n",
              "    </tr>\n",
              "    <tr>\n",
              "      <th>1075</th>\n",
              "      <td>3400.000000</td>\n",
              "      <td>3125.532007</td>\n",
              "      <td>3182.994587</td>\n",
              "    </tr>\n",
              "  </tbody>\n",
              "</table>\n",
              "<p>1076 rows × 3 columns</p>\n",
              "</div>"
            ],
            "text/plain": [
              "             AMZN        SMA30       SMA100\n",
              "0      753.669983          NaN          NaN\n",
              "1      757.179993          NaN          NaN\n",
              "2      780.450012          NaN          NaN\n",
              "3      795.989990          NaN          NaN\n",
              "4      796.919983          NaN          NaN\n",
              "...           ...          ...          ...\n",
              "1071  3279.389893  3092.361003  3173.561089\n",
              "1072  3299.300049  3097.020003  3175.180190\n",
              "1073  3372.199951  3107.521338  3177.799390\n",
              "1074  3379.389893  3117.070003  3180.305188\n",
              "1075  3400.000000  3125.532007  3182.994587\n",
              "\n",
              "[1076 rows x 3 columns]"
            ]
          },
          "metadata": {
            "tags": []
          },
          "execution_count": 28
        }
      ]
    },
    {
      "cell_type": "code",
      "metadata": {
        "id": "HyKK9RxbmsDX"
      },
      "source": [
        "x = buy_sell(signal)\n",
        "signal['Buy_Signal_Price'] = x[0]\n",
        "signal['Sell_Signal_Price'] = x[1]"
      ],
      "execution_count": 29,
      "outputs": []
    },
    {
      "cell_type": "code",
      "metadata": {
        "colab": {
          "base_uri": "https://localhost:8080/",
          "height": 407
        },
        "id": "_pBH3SMUmuFb",
        "outputId": "dff69a4d-b909-4698-c237-d374e19bc3d0"
      },
      "source": [
        "signal\n"
      ],
      "execution_count": 30,
      "outputs": [
        {
          "output_type": "execute_result",
          "data": {
            "text/html": [
              "<div>\n",
              "<style scoped>\n",
              "    .dataframe tbody tr th:only-of-type {\n",
              "        vertical-align: middle;\n",
              "    }\n",
              "\n",
              "    .dataframe tbody tr th {\n",
              "        vertical-align: top;\n",
              "    }\n",
              "\n",
              "    .dataframe thead th {\n",
              "        text-align: right;\n",
              "    }\n",
              "</style>\n",
              "<table border=\"1\" class=\"dataframe\">\n",
              "  <thead>\n",
              "    <tr style=\"text-align: right;\">\n",
              "      <th></th>\n",
              "      <th>AMZN</th>\n",
              "      <th>SMA30</th>\n",
              "      <th>SMA100</th>\n",
              "      <th>Buy_Signal_Price</th>\n",
              "      <th>Sell_Signal_Price</th>\n",
              "    </tr>\n",
              "  </thead>\n",
              "  <tbody>\n",
              "    <tr>\n",
              "      <th>0</th>\n",
              "      <td>753.669983</td>\n",
              "      <td>NaN</td>\n",
              "      <td>NaN</td>\n",
              "      <td>NaN</td>\n",
              "      <td>NaN</td>\n",
              "    </tr>\n",
              "    <tr>\n",
              "      <th>1</th>\n",
              "      <td>757.179993</td>\n",
              "      <td>NaN</td>\n",
              "      <td>NaN</td>\n",
              "      <td>NaN</td>\n",
              "      <td>NaN</td>\n",
              "    </tr>\n",
              "    <tr>\n",
              "      <th>2</th>\n",
              "      <td>780.450012</td>\n",
              "      <td>NaN</td>\n",
              "      <td>NaN</td>\n",
              "      <td>NaN</td>\n",
              "      <td>NaN</td>\n",
              "    </tr>\n",
              "    <tr>\n",
              "      <th>3</th>\n",
              "      <td>795.989990</td>\n",
              "      <td>NaN</td>\n",
              "      <td>NaN</td>\n",
              "      <td>NaN</td>\n",
              "      <td>NaN</td>\n",
              "    </tr>\n",
              "    <tr>\n",
              "      <th>4</th>\n",
              "      <td>796.919983</td>\n",
              "      <td>NaN</td>\n",
              "      <td>NaN</td>\n",
              "      <td>NaN</td>\n",
              "      <td>NaN</td>\n",
              "    </tr>\n",
              "    <tr>\n",
              "      <th>...</th>\n",
              "      <td>...</td>\n",
              "      <td>...</td>\n",
              "      <td>...</td>\n",
              "      <td>...</td>\n",
              "      <td>...</td>\n",
              "    </tr>\n",
              "    <tr>\n",
              "      <th>1071</th>\n",
              "      <td>3279.389893</td>\n",
              "      <td>3092.361003</td>\n",
              "      <td>3173.561089</td>\n",
              "      <td>NaN</td>\n",
              "      <td>NaN</td>\n",
              "    </tr>\n",
              "    <tr>\n",
              "      <th>1072</th>\n",
              "      <td>3299.300049</td>\n",
              "      <td>3097.020003</td>\n",
              "      <td>3175.180190</td>\n",
              "      <td>NaN</td>\n",
              "      <td>NaN</td>\n",
              "    </tr>\n",
              "    <tr>\n",
              "      <th>1073</th>\n",
              "      <td>3372.199951</td>\n",
              "      <td>3107.521338</td>\n",
              "      <td>3177.799390</td>\n",
              "      <td>NaN</td>\n",
              "      <td>NaN</td>\n",
              "    </tr>\n",
              "    <tr>\n",
              "      <th>1074</th>\n",
              "      <td>3379.389893</td>\n",
              "      <td>3117.070003</td>\n",
              "      <td>3180.305188</td>\n",
              "      <td>NaN</td>\n",
              "      <td>NaN</td>\n",
              "    </tr>\n",
              "    <tr>\n",
              "      <th>1075</th>\n",
              "      <td>3400.000000</td>\n",
              "      <td>3125.532007</td>\n",
              "      <td>3182.994587</td>\n",
              "      <td>NaN</td>\n",
              "      <td>NaN</td>\n",
              "    </tr>\n",
              "  </tbody>\n",
              "</table>\n",
              "<p>1076 rows × 5 columns</p>\n",
              "</div>"
            ],
            "text/plain": [
              "             AMZN        SMA30  ...  Buy_Signal_Price  Sell_Signal_Price\n",
              "0      753.669983          NaN  ...               NaN                NaN\n",
              "1      757.179993          NaN  ...               NaN                NaN\n",
              "2      780.450012          NaN  ...               NaN                NaN\n",
              "3      795.989990          NaN  ...               NaN                NaN\n",
              "4      796.919983          NaN  ...               NaN                NaN\n",
              "...           ...          ...  ...               ...                ...\n",
              "1071  3279.389893  3092.361003  ...               NaN                NaN\n",
              "1072  3299.300049  3097.020003  ...               NaN                NaN\n",
              "1073  3372.199951  3107.521338  ...               NaN                NaN\n",
              "1074  3379.389893  3117.070003  ...               NaN                NaN\n",
              "1075  3400.000000  3125.532007  ...               NaN                NaN\n",
              "\n",
              "[1076 rows x 5 columns]"
            ]
          },
          "metadata": {
            "tags": []
          },
          "execution_count": 30
        }
      ]
    },
    {
      "cell_type": "code",
      "metadata": {
        "colab": {
          "base_uri": "https://localhost:8080/",
          "height": 328
        },
        "id": "j7_6r20Lm16Z",
        "outputId": "d1c553d1-44bc-4774-99d7-fb4ac9d634e0"
      },
      "source": [
        "# Visually Show The Stock buy and sell signals\n",
        "# Create the title \n",
        "title = 'Adj. Close Price History Buy / Sell Signals   '\n",
        "#Get the stocks\n",
        "my_stocks = signal\n",
        "ticker = 'AMZN'\n",
        "  \n",
        "#Create and plot the graph\n",
        "plt.figure(figsize=(12.2,4.5)) #width = 12.2in, height = 4.5\n",
        "plt.scatter(my_stocks.index, my_stocks['Buy_Signal_Price'], color = 'green', label='Buy Signal', marker = '^', alpha = 1)\n",
        "plt.scatter(my_stocks.index, my_stocks['Sell_Signal_Price'], color = 'red', label='Sell Signal', marker = 'v', alpha = 1)\n",
        "plt.plot( my_stocks[ticker],  label=ticker, alpha = 0.35)#plt.plot( X-Axis , Y-Axis, line_width, alpha_for_blending,  label)\n",
        "plt.plot( my_stocks['SMA30'],  label='SMA30', alpha = 0.35)\n",
        "plt.plot( my_stocks['SMA100'],  label='SMA100', alpha = 0.35)\n",
        "plt.title(title)\n",
        "plt.xlabel('Oct. 02, 2006 - Dec. 30, 2011',fontsize=18)\n",
        "plt.ylabel('Adj. Close Price USD ($)',fontsize=18)\n",
        "plt.legend( loc='upper left')\n",
        "plt.show()"
      ],
      "execution_count": 43,
      "outputs": [
        {
          "output_type": "display_data",
          "data": {
            "image/png": "[encoded data removed]",
            "text/plain": [
              "<Figure size 878.4x324 with 1 Axes>"
            ]
          },
          "metadata": {
            "tags": [],
            "needs_background": "light"
          }
        }
      ]
    },
    {
      "cell_type": "code",
      "metadata": {
        "colab": {
          "base_uri": "https://localhost:8080/"
        },
        "id": "1dnk--zHm4tW",
        "outputId": "7e9299f4-9137-47eb-8d24-befc173c9de6"
      },
      "source": [
        "def buy_and_sell(stock_price):\n",
        "    max_profit_val, current_max_val = 0, 0 \n",
        "    for price in reversed(stock_price):                       \n",
        "        current_max_val = max(current_max_val, price)          \n",
        "        potential_profit = current_max_val - price          \n",
        "        max_profit_val = max(potential_profit, max_profit_val)\n",
        "\n",
        "    return max_profit_val\n",
        "\n",
        "\n",
        "AMZN = list(df[\"AMZN\"])\n",
        "\n",
        "last30 = AMZN[-30:]\n",
        "print(buy_and_sell(last30))"
      ],
      "execution_count": 51,
      "outputs": [
        {
          "output_type": "stream",
          "text": [
            "448.050048828125\n"
          ],
          "name": "stdout"
        }
      ]
    },
    {
      "cell_type": "code",
      "metadata": {
        "colab": {
          "base_uri": "https://localhost:8080/"
        },
        "id": "-9K-vq0pngaC",
        "outputId": "f5280ac1-26d7-4b3e-cb80-d10ad24ce674"
      },
      "source": [
        "last30"
      ],
      "execution_count": 53,
      "outputs": [
        {
          "output_type": "execute_result",
          "data": {
            "text/plain": [
              "[3094.530029296875,\n",
              " 3005.0,\n",
              " 2977.570068359375,\n",
              " 3000.4599609375,\n",
              " 2951.949951171875,\n",
              " 3062.85009765625,\n",
              " 3057.639892578125,\n",
              " 3113.590087890625,\n",
              " 3089.489990234375,\n",
              " 3081.679931640625,\n",
              " 3091.860107421875,\n",
              " 3135.72998046875,\n",
              " 3027.989990234375,\n",
              " 3074.9599609375,\n",
              " 3110.8701171875,\n",
              " 3137.5,\n",
              " 3087.070068359375,\n",
              " 3046.260009765625,\n",
              " 3052.030029296875,\n",
              " 3075.72998046875,\n",
              " 3055.2900390625,\n",
              " 3094.080078125,\n",
              " 3161.0,\n",
              " 3226.72998046875,\n",
              " 3223.820068359375,\n",
              " 3279.389892578125,\n",
              " 3299.300048828125,\n",
              " 3372.199951171875,\n",
              " 3379.389892578125,\n",
              " 3400.0]"
            ]
          },
          "metadata": {
            "tags": []
          },
          "execution_count": 53
        }
      ]
    },
    {
      "cell_type": "code",
      "metadata": {
        "id": "wCLHJz4en6eX"
      },
      "source": [
        ""
      ],
      "execution_count": null,
      "outputs": []
    },
    {
      "cell_type": "markdown",
      "metadata": {
        "id": "-RO9Yd2Xqo3F"
      },
      "source": [
        "MFI \n",
        "Money Flow Index (MFI)\n"
      ]
    },
    {
      "cell_type": "code",
      "metadata": {
        "colab": {
          "base_uri": "https://localhost:8080/"
        },
        "id": "-mgMkZmfrTEa",
        "outputId": "c697594b-14ef-4b98-f7a8-16e3795b1c61"
      },
      "source": [
        "!pip install yfinance\n",
        "!pip install yahoofinancials"
      ],
      "execution_count": 56,
      "outputs": [
        {
          "output_type": "stream",
          "text": [
            "Collecting yfinance\n",
            "  Downloading https://files.pythonhosted.org/packages/a7/ee/315752b9ef281ba83c62aa7ec2e2074f85223da6e7e74efb4d3e11c0f510/yfinance-0.1.59.tar.gz\n",
            "Requirement already satisfied: pandas>=0.24 in /usr/local/lib/python3.7/dist-packages (from yfinance) (1.1.5)\n",
            "Requirement already satisfied: numpy>=1.15 in /usr/local/lib/python3.7/dist-packages (from yfinance) (1.19.5)\n",
            "Requirement already satisfied: requests>=2.20 in /usr/local/lib/python3.7/dist-packages (from yfinance) (2.23.0)\n",
            "Requirement already satisfied: multitasking>=0.0.7 in /usr/local/lib/python3.7/dist-packages (from yfinance) (0.0.9)\n",
            "Collecting lxml>=4.5.1\n",
            "\u001b[?25l  Downloading https://files.pythonhosted.org/packages/cf/4d/6537313bf58fe22b508f08cf3eb86b29b6f9edf68e00454224539421073b/lxml-4.6.3-cp37-cp37m-manylinux1_x86_64.whl (5.5MB)\n",
            "\u001b[K     |████████████████████████████████| 5.5MB 7.2MB/s \n",
            "\u001b[?25hRequirement already satisfied: pytz>=2017.2 in /usr/local/lib/python3.7/dist-packages (from pandas>=0.24->yfinance) (2018.9)\n",
            "Requirement already satisfied: python-dateutil>=2.7.3 in /usr/local/lib/python3.7/dist-packages (from pandas>=0.24->yfinance) (2.8.1)\n",
            "Requirement already satisfied: urllib3!=1.25.0,!=1.25.1,<1.26,>=1.21.1 in /usr/local/lib/python3.7/dist-packages (from requests>=2.20->yfinance) (1.24.3)\n",
            "Requirement already satisfied: certifi>=2017.4.17 in /usr/local/lib/python3.7/dist-packages (from requests>=2.20->yfinance) (2020.12.5)\n",
            "Requirement already satisfied: chardet<4,>=3.0.2 in /usr/local/lib/python3.7/dist-packages (from requests>=2.20->yfinance) (3.0.4)\n",
            "Requirement already satisfied: idna<3,>=2.5 in /usr/local/lib/python3.7/dist-packages (from requests>=2.20->yfinance) (2.10)\n",
            "Requirement already satisfied: six>=1.5 in /usr/local/lib/python3.7/dist-packages (from python-dateutil>=2.7.3->pandas>=0.24->yfinance) (1.15.0)\n",
            "Building wheels for collected packages: yfinance\n",
            "  Building wheel for yfinance (setup.py) ... \u001b[?25l\u001b[?25hdone\n",
            "  Created wheel for yfinance: filename=yfinance-0.1.59-py2.py3-none-any.whl size=23442 sha256=6b87d97b2f21ae4df1a90bc13e064e15e8b6fe2fec6e19d8d2c86e73e530a330\n",
            "  Stored in directory: /root/.cache/pip/wheels/f8/2a/0f/4b5a86e1d52e451757eb6bc17fd899629f0925c777741b6d04\n",
            "Successfully built yfinance\n",
            "Installing collected packages: lxml, yfinance\n",
            "  Found existing installation: lxml 4.2.6\n",
            "    Uninstalling lxml-4.2.6:\n",
            "      Successfully uninstalled lxml-4.2.6\n",
            "Successfully installed lxml-4.6.3 yfinance-0.1.59\n",
            "Collecting yahoofinancials\n",
            "  Downloading https://files.pythonhosted.org/packages/97/fe/be0f6ea704137848779fc61e7d1c9a901489aaf3423cd7b6f86a350c14c6/yahoofinancials-1.6.tar.gz\n",
            "Requirement already satisfied: beautifulsoup4 in /usr/local/lib/python3.7/dist-packages (from yahoofinancials) (4.6.3)\n",
            "Requirement already satisfied: pytz in /usr/local/lib/python3.7/dist-packages (from yahoofinancials) (2018.9)\n",
            "Building wheels for collected packages: yahoofinancials\n",
            "  Building wheel for yahoofinancials (setup.py) ... \u001b[?25l\u001b[?25hdone\n",
            "  Created wheel for yahoofinancials: filename=yahoofinancials-1.6-cp37-none-any.whl size=15192 sha256=fd555bdb17889645e3c571b223746a6f86f8e7990866e42465c3d717b86d3b13\n",
            "  Stored in directory: /root/.cache/pip/wheels/d9/7e/cf/4977a8572d5247242a4b13018d1d36923024ba84236e0d28bc\n",
            "Successfully built yahoofinancials\n",
            "Installing collected packages: yahoofinancials\n",
            "Successfully installed yahoofinancials-1.6\n"
          ],
          "name": "stdout"
        }
      ]
    },
    {
      "cell_type": "code",
      "metadata": {
        "colab": {
          "base_uri": "https://localhost:8080/",
          "height": 437
        },
        "id": "R4AMj6ngqvH-",
        "outputId": "f5899f6b-729f-4570-a066-628f7964dee3"
      },
      "source": [
        "import pandas as pd\n",
        "import numpy as np\n",
        "import yfinance as yf\n",
        "from yahoofinancials import YahooFinancials\n",
        "company = 'SNAP'\n",
        "startDate = \"2019-01-01\"\n",
        "\n",
        "endDate = \"2021-04-20\"\n",
        "dataframe = yf.download(company, \n",
        "                      start=startDate, \n",
        "                      end=endDate, \n",
        "                      progress=False)\n",
        "\n",
        "dataframe"
      ],
      "execution_count": 112,
      "outputs": [
        {
          "output_type": "execute_result",
          "data": {
            "text/html": [
              "<div>\n",
              "<style scoped>\n",
              "    .dataframe tbody tr th:only-of-type {\n",
              "        vertical-align: middle;\n",
              "    }\n",
              "\n",
              "    .dataframe tbody tr th {\n",
              "        vertical-align: top;\n",
              "    }\n",
              "\n",
              "    .dataframe thead th {\n",
              "        text-align: right;\n",
              "    }\n",
              "</style>\n",
              "<table border=\"1\" class=\"dataframe\">\n",
              "  <thead>\n",
              "    <tr style=\"text-align: right;\">\n",
              "      <th></th>\n",
              "      <th>Open</th>\n",
              "      <th>High</th>\n",
              "      <th>Low</th>\n",
              "      <th>Close</th>\n",
              "      <th>Adj Close</th>\n",
              "      <th>Volume</th>\n",
              "    </tr>\n",
              "    <tr>\n",
              "      <th>Date</th>\n",
              "      <th></th>\n",
              "      <th></th>\n",
              "      <th></th>\n",
              "      <th></th>\n",
              "      <th></th>\n",
              "      <th></th>\n",
              "    </tr>\n",
              "  </thead>\n",
              "  <tbody>\n",
              "    <tr>\n",
              "      <th>2019-01-02</th>\n",
              "      <td>5.380000</td>\n",
              "      <td>5.870000</td>\n",
              "      <td>5.350000</td>\n",
              "      <td>5.790000</td>\n",
              "      <td>5.790000</td>\n",
              "      <td>15253400</td>\n",
              "    </tr>\n",
              "    <tr>\n",
              "      <th>2019-01-03</th>\n",
              "      <td>5.670000</td>\n",
              "      <td>5.870000</td>\n",
              "      <td>5.630000</td>\n",
              "      <td>5.680000</td>\n",
              "      <td>5.680000</td>\n",
              "      <td>16429200</td>\n",
              "    </tr>\n",
              "    <tr>\n",
              "      <th>2019-01-04</th>\n",
              "      <td>5.670000</td>\n",
              "      <td>5.990000</td>\n",
              "      <td>5.630000</td>\n",
              "      <td>5.950000</td>\n",
              "      <td>5.950000</td>\n",
              "      <td>18200400</td>\n",
              "    </tr>\n",
              "    <tr>\n",
              "      <th>2019-01-07</th>\n",
              "      <td>6.000000</td>\n",
              "      <td>6.210000</td>\n",
              "      <td>5.920000</td>\n",
              "      <td>6.210000</td>\n",
              "      <td>6.210000</td>\n",
              "      <td>14726200</td>\n",
              "    </tr>\n",
              "    <tr>\n",
              "      <th>2019-01-08</th>\n",
              "      <td>6.300000</td>\n",
              "      <td>6.450000</td>\n",
              "      <td>6.210000</td>\n",
              "      <td>6.400000</td>\n",
              "      <td>6.400000</td>\n",
              "      <td>16035400</td>\n",
              "    </tr>\n",
              "    <tr>\n",
              "      <th>...</th>\n",
              "      <td>...</td>\n",
              "      <td>...</td>\n",
              "      <td>...</td>\n",
              "      <td>...</td>\n",
              "      <td>...</td>\n",
              "      <td>...</td>\n",
              "    </tr>\n",
              "    <tr>\n",
              "      <th>2021-04-13</th>\n",
              "      <td>63.480000</td>\n",
              "      <td>63.639999</td>\n",
              "      <td>61.459999</td>\n",
              "      <td>62.439999</td>\n",
              "      <td>62.439999</td>\n",
              "      <td>8829200</td>\n",
              "    </tr>\n",
              "    <tr>\n",
              "      <th>2021-04-14</th>\n",
              "      <td>64.010002</td>\n",
              "      <td>65.860001</td>\n",
              "      <td>61.730000</td>\n",
              "      <td>62.009998</td>\n",
              "      <td>62.009998</td>\n",
              "      <td>20883200</td>\n",
              "    </tr>\n",
              "    <tr>\n",
              "      <th>2021-04-15</th>\n",
              "      <td>62.509998</td>\n",
              "      <td>64.769997</td>\n",
              "      <td>61.610001</td>\n",
              "      <td>63.889999</td>\n",
              "      <td>63.889999</td>\n",
              "      <td>15303300</td>\n",
              "    </tr>\n",
              "    <tr>\n",
              "      <th>2021-04-16</th>\n",
              "      <td>63.720001</td>\n",
              "      <td>63.785000</td>\n",
              "      <td>60.110001</td>\n",
              "      <td>61.250000</td>\n",
              "      <td>61.250000</td>\n",
              "      <td>19727400</td>\n",
              "    </tr>\n",
              "    <tr>\n",
              "      <th>2021-04-19</th>\n",
              "      <td>60.470001</td>\n",
              "      <td>60.630001</td>\n",
              "      <td>58.119999</td>\n",
              "      <td>60.439999</td>\n",
              "      <td>60.439999</td>\n",
              "      <td>17174900</td>\n",
              "    </tr>\n",
              "  </tbody>\n",
              "</table>\n",
              "<p>578 rows × 6 columns</p>\n",
              "</div>"
            ],
            "text/plain": [
              "                 Open       High        Low      Close  Adj Close    Volume\n",
              "Date                                                                       \n",
              "2019-01-02   5.380000   5.870000   5.350000   5.790000   5.790000  15253400\n",
              "2019-01-03   5.670000   5.870000   5.630000   5.680000   5.680000  16429200\n",
              "2019-01-04   5.670000   5.990000   5.630000   5.950000   5.950000  18200400\n",
              "2019-01-07   6.000000   6.210000   5.920000   6.210000   6.210000  14726200\n",
              "2019-01-08   6.300000   6.450000   6.210000   6.400000   6.400000  16035400\n",
              "...               ...        ...        ...        ...        ...       ...\n",
              "2021-04-13  63.480000  63.639999  61.459999  62.439999  62.439999   8829200\n",
              "2021-04-14  64.010002  65.860001  61.730000  62.009998  62.009998  20883200\n",
              "2021-04-15  62.509998  64.769997  61.610001  63.889999  63.889999  15303300\n",
              "2021-04-16  63.720001  63.785000  60.110001  61.250000  61.250000  19727400\n",
              "2021-04-19  60.470001  60.630001  58.119999  60.439999  60.439999  17174900\n",
              "\n",
              "[578 rows x 6 columns]"
            ]
          },
          "metadata": {
            "tags": []
          },
          "execution_count": 112
        }
      ]
    },
    {
      "cell_type": "code",
      "metadata": {
        "colab": {
          "base_uri": "https://localhost:8080/",
          "height": 328
        },
        "id": "olxtHcxyrMVa",
        "outputId": "5e9cbf97-0ead-474e-8c34-1c8cb788dd31"
      },
      "source": [
        "#Visually Show The Stock Price\n",
        "#Create and plot the graph\n",
        "plt.figure(figsize=(12.2,4.5)) #width = 12.2in, height = 4.5\n",
        "plt.plot( dataframe['Close'],  label='Close Price')#plt.plot( X-Axis , Y-Axis, line_width, alpha_for_blending,  label)  \n",
        "plt.title('Close Price History')\n",
        "plt.xlabel('Date',fontsize=18)\n",
        "plt.ylabel('Close Price USD ($)',fontsize=18)\n",
        "plt.legend(dataframe.columns.values, loc='upper left')\n",
        "plt.show()"
      ],
      "execution_count": 113,
      "outputs": [
        {
          "output_type": "display_data",
          "data": {
            "image/png": "[encoded data removed]",
            "text/plain": [
              "<Figure size 878.4x324 with 1 Axes>"
            ]
          },
          "metadata": {
            "tags": [],
            "needs_background": "light"
          }
        }
      ]
    },
    {
      "cell_type": "code",
      "metadata": {
        "colab": {
          "base_uri": "https://localhost:8080/"
        },
        "id": "LwSrkFlprk-u",
        "outputId": "06f209ee-7a03-4f2c-de64-f6d81096aad4"
      },
      "source": [
        "#Calculate the typical price\n",
        "typical_price = (dataframe['Close'] + dataframe['High'] + dataframe['Low']) / 3\n",
        "typical_price"
      ],
      "execution_count": 114,
      "outputs": [
        {
          "output_type": "execute_result",
          "data": {
            "text/plain": [
              "Date\n",
              "2019-01-02     5.670000\n",
              "2019-01-03     5.726667\n",
              "2019-01-04     5.856667\n",
              "2019-01-07     6.113333\n",
              "2019-01-08     6.353333\n",
              "                ...    \n",
              "2021-04-13    62.513332\n",
              "2021-04-14    63.199999\n",
              "2021-04-15    63.423332\n",
              "2021-04-16    61.715000\n",
              "2021-04-19    59.730000\n",
              "Length: 578, dtype: float64"
            ]
          },
          "metadata": {
            "tags": []
          },
          "execution_count": 114
        }
      ]
    },
    {
      "cell_type": "code",
      "metadata": {
        "id": "-125s1gwrtNu"
      },
      "source": [
        "period =  14 #The typical period used for MFI is 14 days\n"
      ],
      "execution_count": 115,
      "outputs": []
    },
    {
      "cell_type": "code",
      "metadata": {
        "colab": {
          "base_uri": "https://localhost:8080/"
        },
        "id": "O257dUloshNe",
        "outputId": "b8611a2f-6e4b-4a2f-8c02-b817ad9dfdf0"
      },
      "source": [
        "#Calculate the money flow\n",
        "money_flow = typical_price * dataframe['Volume']\n",
        "money_flow"
      ],
      "execution_count": 116,
      "outputs": [
        {
          "output_type": "execute_result",
          "data": {
            "text/plain": [
              "Date\n",
              "2019-01-02    8.648678e+07\n",
              "2019-01-03    9.408455e+07\n",
              "2019-01-04    1.065937e+08\n",
              "2019-01-07    9.002617e+07\n",
              "2019-01-08    1.018782e+08\n",
              "                  ...     \n",
              "2021-04-13    5.519427e+08\n",
              "2021-04-14    1.319818e+09\n",
              "2021-04-15    9.705863e+08\n",
              "2021-04-16    1.217476e+09\n",
              "2021-04-19    1.025857e+09\n",
              "Length: 578, dtype: float64"
            ]
          },
          "metadata": {
            "tags": []
          },
          "execution_count": 116
        }
      ]
    },
    {
      "cell_type": "code",
      "metadata": {
        "id": "PLKjmdUwsjXm"
      },
      "source": [
        "#Get all of the positive and negative money flows \n",
        "#where the current typical price is higher than the previous day's typical price, we will append that days money flow to a positive list\n",
        "#and where the current typical price is lower than the previous day's typical price, we will append that days money flow to a negative list\n",
        "#and set any other value to 0 to be used when summing\n",
        "positive_flow =[] #Create a empty list called positive flow\n",
        "negative_flow = [] #Create a empty list called negative flow\n",
        "#Loop through the typical price \n",
        "for i in range(1, len(typical_price)):\n",
        "  if typical_price[i] > typical_price[i-1]: #if the present typical price is greater than yesterdays typical price\n",
        "    positive_flow.append(money_flow[i-1])# Then append money flow at position i-1 to the positive flow list\n",
        "    negative_flow.append(0) #Append 0 to the negative flow list\n",
        "  elif typical_price[i] < typical_price[i-1]:#if the present typical price is less than yesterdays typical price\n",
        "    negative_flow.append(money_flow[i-1])# Then append money flow at position i-1 to negative flow list\n",
        "    positive_flow.append(0)#Append 0 to the positive flow list\n",
        "  else: #Append 0 if the present typical price is equal to yesterdays typical price\n",
        "    positive_flow.append(0)\n",
        "    negative_flow.append(0)\n"
      ],
      "execution_count": 117,
      "outputs": []
    },
    {
      "cell_type": "code",
      "metadata": {
        "id": "5xIF_bRhsw-_"
      },
      "source": [
        "#Get all of the positive and negative money flows within the time period\n",
        "positive_mf =[]\n",
        "negative_mf = [] \n",
        "#Get all of the positive money flows within the time period\n",
        "for i in range(period-1, len(positive_flow)):\n",
        "  positive_mf.append(sum(positive_flow[i+1-period : i+1]))\n",
        "#Get all of the negative money flows within the time period  \n",
        "for i in range(period-1, len(negative_flow)):\n",
        "  negative_mf.append(sum(negative_flow[i+1-period : i+1]))"
      ],
      "execution_count": 118,
      "outputs": []
    },
    {
      "cell_type": "code",
      "metadata": {
        "colab": {
          "base_uri": "https://localhost:8080/"
        },
        "id": "krXGY3ycsz0T",
        "outputId": "986ade56-8d01-4459-ec8c-146f6d8bc7c1"
      },
      "source": [
        "mfi = 100 * (np.array(positive_mf) / (np.array(positive_mf)  + np.array(negative_mf) ))\n",
        "mfi"
      ],
      "execution_count": 119,
      "outputs": [
        {
          "output_type": "execute_result",
          "data": {
            "text/plain": [
              "array([70.64902243, 70.52768995, 70.55160773, 64.22366272, 63.9707111 ,\n",
              "       69.19510061, 67.85100428, 68.4128621 , 61.60250639, 65.05747683,\n",
              "       73.60933803, 42.14275988, 46.81752799, 56.2700987 , 53.24379348,\n",
              "       56.13510499, 58.44124721, 56.35238024, 57.29381643, 58.31233822,\n",
              "       59.07620763, 59.53785784, 63.51561295, 64.80788585, 58.37761439,\n",
              "       72.85601345, 70.9020054 , 63.0503203 , 71.24088107, 64.38980396,\n",
              "       57.23055263, 57.66615678, 57.2125052 , 57.22882388, 56.7060492 ,\n",
              "       56.11112803, 63.14418623, 49.48160564, 49.87604767, 55.85349368,\n",
              "       56.35267898, 61.26055626, 54.73949042, 59.0516038 , 60.16593313,\n",
              "       65.88902473, 65.54766104, 64.90347774, 58.97601795, 59.94155574,\n",
              "       50.70710846, 66.90844914, 79.87893011, 66.42314428, 58.55757961,\n",
              "       62.5433723 , 63.27884895, 59.07388252, 58.82227608, 59.93310918,\n",
              "       56.40434475, 51.2663294 , 56.94019506, 45.95655254, 34.55420342,\n",
              "       37.01783715, 32.2304052 , 33.93280268, 38.41671143, 30.32134045,\n",
              "       33.83807696, 38.22190745, 38.05701386, 33.22653406, 32.80156087,\n",
              "       33.53725052, 28.50512552, 36.41261831, 54.82103014, 47.82784304,\n",
              "       50.52655625, 49.78786511, 50.30044352, 49.33653651, 43.63888532,\n",
              "       44.49655505, 41.94214473, 53.18406794, 59.42571956, 56.7582833 ,\n",
              "       55.24341342, 57.7760971 , 62.03044526, 64.03195065, 66.57425892,\n",
              "       65.14209223, 59.51439337, 63.94421246, 68.03059181, 62.26779974,\n",
              "       62.28497308, 61.14456576, 65.03525362, 70.88105532, 71.70563312,\n",
              "       70.75501227, 62.11286456, 61.9824102 , 52.87968344, 55.09610217,\n",
              "       61.8449693 , 56.00379444, 56.116296  , 62.40256597, 70.00899532,\n",
              "       69.01489948, 56.18843735, 54.79624919, 62.99741329, 52.88147743,\n",
              "       54.61931361, 46.29014435, 47.03368937, 46.13238079, 38.40239153,\n",
              "       45.56092761, 54.32034483, 67.35813407, 71.53553059, 63.57016453,\n",
              "       63.23066311, 58.71756464, 59.11209015, 59.24416541, 58.4431367 ,\n",
              "       58.0834234 , 56.4845169 , 60.50685628, 64.88383242, 61.04837099,\n",
              "       57.88500387, 42.9886408 , 28.87872976, 32.05525222, 38.65399286,\n",
              "       45.2558404 , 38.28727731, 45.2001983 , 45.16071861, 51.90299106,\n",
              "       53.05437975, 41.96525083, 38.5059697 , 40.42934396, 38.64165638,\n",
              "       37.76998346, 44.15447946, 50.92093309, 41.48480199, 31.87111608,\n",
              "       39.08032276, 39.25624745, 45.58862987, 40.04755394, 45.97619653,\n",
              "       57.24303898, 49.09861741, 55.76638711, 58.48277555, 65.96883521,\n",
              "       55.97242967, 49.73911977, 50.52866425, 52.12334465, 51.34282343,\n",
              "       45.90057177, 40.29406938, 48.3857289 , 43.56195929, 36.47851141,\n",
              "       37.61220006, 31.4551437 , 27.94823749, 21.49975453, 28.50908749,\n",
              "       29.47945507, 35.4589889 , 37.36577178, 39.78674523, 49.69838636,\n",
              "       44.93436494, 28.63181246, 37.7745574 , 42.72301011, 48.83031134,\n",
              "       52.33366192, 52.73354729, 57.50950037, 57.62167326, 57.93147573,\n",
              "       54.01020112, 53.70178607, 48.45751496, 42.14839726, 51.80018255,\n",
              "       70.95251497, 63.52652213, 55.8938216 , 55.00205762, 56.99766738,\n",
              "       57.95192024, 49.92129392, 45.83811307, 53.69919555, 52.02110142,\n",
              "       52.26647285, 53.22594984, 54.76903157, 47.29009866, 48.36166775,\n",
              "       47.78913108, 48.48690614, 39.62946512, 27.83038847, 26.05242713,\n",
              "       32.46854223, 37.08321142, 38.78114874, 50.24998227, 49.72230141,\n",
              "       55.62310083, 60.68340533, 60.47583714, 60.87342376, 64.86100235,\n",
              "       70.75743717, 69.50551936, 76.24649815, 76.26687777, 77.72449593,\n",
              "       70.84834893, 69.84229616, 61.15354035, 68.71696202, 73.91865707,\n",
              "       74.54674672, 82.08508073, 82.57870445, 75.87758595, 76.42591044,\n",
              "       68.73366509, 69.78724419, 63.84335901, 64.08361781, 61.37282907,\n",
              "       61.84467561, 67.2129578 , 62.88930249, 53.66640735, 46.79659249,\n",
              "       48.07927723, 37.94188656, 52.72542143, 53.69244324, 61.84450561,\n",
              "       61.45354796, 62.33790054, 61.53882343, 67.69137689, 63.86354746,\n",
              "       64.15257355, 64.62943459, 64.09626877, 65.95466   , 60.05551535,\n",
              "       66.7470644 , 50.53429741, 39.09367638, 40.10456965, 32.39891161,\n",
              "       31.86956326, 33.92907888, 27.46990467, 26.19063891, 25.20972779,\n",
              "       24.66970414, 24.57293415, 30.42601795, 30.68260572, 30.1182782 ,\n",
              "       30.02039841, 37.20927259, 34.93783706, 42.90611991, 49.04480491,\n",
              "       47.67136026, 56.01794429, 63.64306876, 56.23809738, 63.91237003,\n",
              "       64.17748079, 63.40832637, 64.59181505, 71.90701394, 79.07665651,\n",
              "       78.53041628, 78.68809296, 68.82337307, 67.99160402, 61.75128463,\n",
              "       55.00312582, 47.35209883, 48.33264227, 39.83007813, 51.26912704,\n",
              "       28.70214841, 24.38548922, 31.54796719, 27.0969656 , 28.29070212,\n",
              "       30.71623333, 30.33177863, 31.89410802, 34.63059839, 33.96161331,\n",
              "       38.0494239 , 42.27459047, 45.51493476, 41.11078369, 53.45491542,\n",
              "       61.62828233, 57.3587114 , 66.79035276, 58.58328716, 54.97982964,\n",
              "       56.76086851, 49.86385834, 49.0608905 , 50.506741  , 50.08547176,\n",
              "       52.51807874, 58.31623774, 65.90361265, 64.16118339, 60.65415636,\n",
              "       63.74925555, 65.36772031, 71.57970113, 72.74090288, 69.81396383,\n",
              "       65.90143773, 66.94379024, 70.30098635, 70.42604351, 69.46455731,\n",
              "       66.85152485, 67.04628573, 73.38842099, 74.45658521, 73.48137697,\n",
              "       65.22293565, 56.96030957, 57.44337908, 65.01750045, 67.24496184,\n",
              "       66.98246636, 67.43147346, 69.68516368, 59.95192276, 54.60130515,\n",
              "       47.23506911, 40.89573249, 48.36424472, 41.72891745, 47.80297075,\n",
              "       55.00191298, 54.1514953 , 44.06911125, 38.14560053, 32.15265507,\n",
              "       32.47933051, 29.04293731, 34.47566074, 35.4101509 , 40.34289472,\n",
              "       37.7896063 , 40.59036674, 45.92090669, 41.80108713, 42.76943699,\n",
              "       43.61095908, 51.78526157, 65.69043781, 72.17872782, 67.710224  ,\n",
              "       63.63329449, 63.67112993, 67.7637821 , 62.44122292, 72.38202842,\n",
              "       62.8685246 , 53.07814677, 60.50106513, 57.8235545 , 56.44799205,\n",
              "       56.602673  , 47.64656105, 56.14662112, 49.73587962, 45.83191019,\n",
              "       39.03640556, 40.45627678, 48.10220119, 52.90666228, 48.27829505,\n",
              "       55.01279655, 56.23039342, 50.41530683, 44.38300369, 38.30790739,\n",
              "       43.37562829, 45.03028585, 46.90856605, 53.93360138, 59.14855704,\n",
              "       59.41070494, 58.32113718, 57.54928884, 61.1804035 , 60.14680943,\n",
              "       53.10185697, 55.35432554, 61.60852696, 69.26467157, 68.74589981,\n",
              "       60.0121534 , 69.43551093, 68.77599148, 70.30468143, 70.95159236,\n",
              "       57.83049268, 64.01390154, 87.31268532, 90.08722118, 94.35215197,\n",
              "       79.09997185, 80.49555368, 82.01645553, 78.59632242, 80.22664776,\n",
              "       80.76436491, 81.01084091, 79.01233552, 79.21883528, 77.29807283,\n",
              "       74.16112189, 69.01441247, 65.88537089, 51.82350366, 63.42702301,\n",
              "       55.64021006, 50.2075481 , 56.78444431, 54.42426671, 53.73017812,\n",
              "       46.07811378, 51.93050622, 51.25194107, 56.66796628, 59.0658101 ,\n",
              "       56.54693117, 56.1911948 , 65.50003592, 70.70811053, 78.39852225,\n",
              "       72.99184267, 73.33852795, 74.20927025, 64.23319975, 67.7272394 ,\n",
              "       60.9881776 , 62.73173937, 58.37034532, 56.56612014, 52.12631311,\n",
              "       51.19700471, 45.18156503, 41.13388108, 40.06501371, 35.00287668,\n",
              "       29.20376655, 19.82270933, 27.06152897, 28.1388771 , 33.62692713,\n",
              "       32.00842902, 38.83279028, 47.71587827, 45.82492877, 39.31243424,\n",
              "       36.60254329, 42.83266386, 44.33978166, 56.64543321, 55.87887188,\n",
              "       55.47413823, 54.99094641, 53.88678215, 55.3871516 , 46.69270741,\n",
              "       47.2883431 , 48.09223252, 55.57561999, 53.67364239, 65.10744845,\n",
              "       72.47727393, 73.4791154 , 68.47033282, 73.14930265, 72.58272586,\n",
              "       72.4871238 , 70.86120993, 70.42141945, 76.46503428, 69.60492375,\n",
              "       70.01160386, 74.84634981, 70.44039951, 63.78729293, 58.49855125,\n",
              "       51.37703491, 51.0704983 , 46.65363774, 45.76724958, 41.1970802 ,\n",
              "       46.57899915, 47.1481582 , 47.76626239, 53.54545799, 53.50974389,\n",
              "       39.67845255, 43.25659569, 44.58291479, 35.5267196 , 36.03102953,\n",
              "       35.360576  , 36.17721875, 36.48646621, 43.88965547, 36.91798165,\n",
              "       30.41357711, 29.37316747, 29.53609539, 21.38805296, 26.43283969,\n",
              "       35.76860752, 46.81229126, 55.98515295, 56.34160006, 63.64549493,\n",
              "       68.83765382, 77.16039658, 70.83674938, 68.91059481])"
            ]
          },
          "metadata": {
            "tags": []
          },
          "execution_count": 119
        }
      ]
    },
    {
      "cell_type": "code",
      "metadata": {
        "colab": {
          "base_uri": "https://localhost:8080/",
          "height": 306
        },
        "id": "tMy7I_las1cY",
        "outputId": "37011034-4a43-4fe2-98ca-12f8744aaa1b"
      },
      "source": [
        "# Visually Show The Money Flow Index\n",
        "df2 = pd.DataFrame()\n",
        "df2['MFI'] = mfi\n",
        "#Create and plot the graph\n",
        "plt.figure(figsize=(12.2,4.5)) #width = 12.2in, height = 4.5\n",
        "plt.plot( df2['MFI'],  label='MFI')#plt.plot( X-Axis , Y-Axis, line_width, alpha_for_blending,  label)\n",
        "plt.axhline(10, linestyle='--', color = 'green')  #Over Sold line (Buy)\n",
        "plt.axhline(20, linestyle='--',color = 'red')  #Over Sold Line (Buy)\n",
        "plt.axhline(80, linestyle='--', color = 'orange')  #Over Bought line (Sell)\n",
        "plt.axhline(90, linestyle='--', color = 'blue')  #Over Bought line (Sell)\n",
        "plt.title('MFI')\n",
        "plt.ylabel('MFI Values',fontsize=18)\n",
        "plt.legend(df2.columns.values, loc='upper left')\n",
        "plt.show()"
      ],
      "execution_count": 120,
      "outputs": [
        {
          "output_type": "display_data",
          "data": {
            "image/png": "[encoded data removed]",
            "text/plain": [
              "<Figure size 878.4x324 with 1 Axes>"
            ]
          },
          "metadata": {
            "tags": [],
            "needs_background": "light"
          }
        }
      ]
    },
    {
      "cell_type": "code",
      "metadata": {
        "colab": {
          "base_uri": "https://localhost:8080/",
          "height": 35
        },
        "id": "8WQeEa2ys3e2",
        "outputId": "d39fa630-e6ee-4032-9b39-02afdec70299"
      },
      "source": [
        "\"\""
      ],
      "execution_count": 111,
      "outputs": [
        {
          "output_type": "execute_result",
          "data": {
            "application/vnd.google.colaboratory.intrinsic+json": {
              "type": "string"
            },
            "text/plain": [
              "''"
            ]
          },
          "metadata": {
            "tags": []
          },
          "execution_count": 111
        }
      ]
    },
    {
      "cell_type": "code",
      "metadata": {
        "id": "512iM9C7v6sH"
      },
      "source": [
        ""
      ],
      "execution_count": null,
      "outputs": []
    }
  ]
}