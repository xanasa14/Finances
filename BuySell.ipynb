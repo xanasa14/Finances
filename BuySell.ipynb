{
  "nbformat": 4,
  "nbformat_minor": 0,
  "metadata": {
    "colab": {
      "name": "BuySell.ipynb",
      "provenance": [],
      "mount_file_id": "18uQEkatGFbjlMb9chPre29L0_eIVZHcx",
      "authorship_tag": "ABX9TyMMYqHr+bFY7WdXe/aK1muW",
      "include_colab_link": true
    },
    "kernelspec": {
      "name": "python3",
      "display_name": "Python 3"
    },
    "language_info": {
      "name": "python"
    }
  },
  "cells": [
    {
      "cell_type": "markdown",
      "metadata": {
        "id": "view-in-github",
        "colab_type": "text"
      },
      "source": [
        "<a href=\"https://colab.research.google.com/github/xanasa14/Finances/blob/main/BuySell.ipynb\" target=\"_parent\"><img src=\"https://colab.research.google.com/assets/colab-badge.svg\" alt=\"Open In Colab\"/></a>"
      ]
    },
    {
      "cell_type": "code",
      "metadata": {
        "id": "Ke9TQnYZhv-n"
      },
      "source": [
        "#Importing needed libraries\n",
        "\n",
        "import pandas as pd\n",
        "import numpy as np\n",
        "from datetime import datetime\n",
        "import matplotlib.pyplot as plt\n",
        "plt.style.use('fivethirtyeight')\n"
      ],
      "execution_count": 1,
      "outputs": []
    },
    {
      "cell_type": "code",
      "metadata": {
        "colab": {
          "base_uri": "https://localhost:8080/",
          "height": 673
        },
        "id": "G5PrEprRh1Bk",
        "outputId": "0485bf64-c04f-4b04-b11c-3206cc30172c"
      },
      "source": [
        "stock_price_df = pd.read_csv('/content/drive/MyDrive/YahooData/YahooFinanceData.csv')\n",
        "print(stock_price_df.head())\n",
        "print(stock_price_df.tail())\n",
        "\n",
        "\n",
        "df = pd.DataFrame()\n",
        "df['AMZN'] = stock_price_df['AMZN'].values\n",
        "df"
      ],
      "execution_count": 6,
      "outputs": [
        {
          "output_type": "stream",
          "text": [
            "         Date         MMM        AOS  ...         ZBH       ZION        ZTS\n",
            "0  2017-01-03  178.050003  47.500000  ...  103.330002  43.180000  53.590000\n",
            "1  2017-01-04  178.320007  47.919998  ...  104.279999  43.799999  54.110001\n",
            "2  2017-01-05  177.710007  47.700001  ...  104.949997  43.090000  53.930000\n",
            "3  2017-01-06  178.229996  47.720001  ...  104.959999  43.369999  54.099998\n",
            "4  2017-01-09  177.270004  47.400002  ...  107.000000  42.900002  53.950001\n",
            "\n",
            "[5 rows x 396 columns]\n",
            "            Date         MMM        AOS  ...         ZBH       ZION         ZTS\n",
            "1072  2021-04-08  195.720001  66.830002  ...  164.539993  55.000000  160.000000\n",
            "1073  2021-04-09  198.000000  67.269997  ...  169.479996  55.939999  159.850006\n",
            "1074  2021-04-12  197.830002  68.410004  ...  168.330002  56.580002  162.509995\n",
            "1075  2021-04-13  196.470001  67.650002  ...  168.470001  55.529999  163.470001\n",
            "1076  2017-09-04         NaN        NaN  ...         NaN        NaN         NaN\n",
            "\n",
            "[5 rows x 396 columns]\n"
          ],
          "name": "stdout"
        },
        {
          "output_type": "execute_result",
          "data": {
            "text/html": [
              "<div>\n",
              "<style scoped>\n",
              "    .dataframe tbody tr th:only-of-type {\n",
              "        vertical-align: middle;\n",
              "    }\n",
              "\n",
              "    .dataframe tbody tr th {\n",
              "        vertical-align: top;\n",
              "    }\n",
              "\n",
              "    .dataframe thead th {\n",
              "        text-align: right;\n",
              "    }\n",
              "</style>\n",
              "<table border=\"1\" class=\"dataframe\">\n",
              "  <thead>\n",
              "    <tr style=\"text-align: right;\">\n",
              "      <th></th>\n",
              "      <th>AMZN</th>\n",
              "    </tr>\n",
              "  </thead>\n",
              "  <tbody>\n",
              "    <tr>\n",
              "      <th>0</th>\n",
              "      <td>753.669983</td>\n",
              "    </tr>\n",
              "    <tr>\n",
              "      <th>1</th>\n",
              "      <td>757.179993</td>\n",
              "    </tr>\n",
              "    <tr>\n",
              "      <th>2</th>\n",
              "      <td>780.450012</td>\n",
              "    </tr>\n",
              "    <tr>\n",
              "      <th>3</th>\n",
              "      <td>795.989990</td>\n",
              "    </tr>\n",
              "    <tr>\n",
              "      <th>4</th>\n",
              "      <td>796.919983</td>\n",
              "    </tr>\n",
              "    <tr>\n",
              "      <th>...</th>\n",
              "      <td>...</td>\n",
              "    </tr>\n",
              "    <tr>\n",
              "      <th>1072</th>\n",
              "      <td>3299.300049</td>\n",
              "    </tr>\n",
              "    <tr>\n",
              "      <th>1073</th>\n",
              "      <td>3372.199951</td>\n",
              "    </tr>\n",
              "    <tr>\n",
              "      <th>1074</th>\n",
              "      <td>3379.389893</td>\n",
              "    </tr>\n",
              "    <tr>\n",
              "      <th>1075</th>\n",
              "      <td>3400.000000</td>\n",
              "    </tr>\n",
              "    <tr>\n",
              "      <th>1076</th>\n",
              "      <td>NaN</td>\n",
              "    </tr>\n",
              "  </tbody>\n",
              "</table>\n",
              "<p>1077 rows × 1 columns</p>\n",
              "</div>"
            ],
            "text/plain": [
              "             AMZN\n",
              "0      753.669983\n",
              "1      757.179993\n",
              "2      780.450012\n",
              "3      795.989990\n",
              "4      796.919983\n",
              "...           ...\n",
              "1072  3299.300049\n",
              "1073  3372.199951\n",
              "1074  3379.389893\n",
              "1075  3400.000000\n",
              "1076          NaN\n",
              "\n",
              "[1077 rows x 1 columns]"
            ]
          },
          "metadata": {
            "tags": []
          },
          "execution_count": 6
        }
      ]
    },
    {
      "cell_type": "code",
      "metadata": {
        "id": "I0oy6GfQi2fA"
      },
      "source": [
        ""
      ],
      "execution_count": null,
      "outputs": []
    }
  ]
}