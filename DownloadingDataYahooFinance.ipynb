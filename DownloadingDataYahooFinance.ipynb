{
  "nbformat": 4,
  "nbformat_minor": 0,
  "metadata": {
    "colab": {
      "name": "DownloadingDataYahooFinance.ipynb",
      "provenance": [],
      "collapsed_sections": [],
      "mount_file_id": "12Pdp-l6WR60YMXcJ9IPEqkAp72ZihRRj",
      "authorship_tag": "ABX9TyOijsLn5gQCv5Cv6YjSsRSL",
      "include_colab_link": true
    },
    "kernelspec": {
      "name": "python3",
      "display_name": "Python 3"
    }
  },
  "cells": [
    {
      "cell_type": "markdown",
      "metadata": {
        "id": "view-in-github",
        "colab_type": "text"
      },
      "source": [
        "<a href=\"https://colab.research.google.com/github/xanasa14/Finances/blob/main/DownloadingDataYahooFinance.ipynb\" target=\"_parent\"><img src=\"https://colab.research.google.com/assets/colab-badge.svg\" alt=\"Open In Colab\"/></a>"
      ]
    },
    {
      "cell_type": "code",
      "metadata": {
        "colab": {
          "base_uri": "https://localhost:8080/"
        },
        "id": "71wE17xmc3wt",
        "outputId": "da08fc09-8a85-44d0-ae63-efdca5b577bf"
      },
      "source": [
        "!pip install yfinance\r\n",
        "!pip install yahoofinancials"
      ],
      "execution_count": 2,
      "outputs": [
        {
          "output_type": "stream",
          "text": [
            "Requirement already satisfied: yfinance in /usr/local/lib/python3.6/dist-packages (0.1.55)\n",
            "Requirement already satisfied: lxml>=4.5.1 in /usr/local/lib/python3.6/dist-packages (from yfinance) (4.6.2)\n",
            "Requirement already satisfied: numpy>=1.15 in /usr/local/lib/python3.6/dist-packages (from yfinance) (1.19.5)\n",
            "Requirement already satisfied: pandas>=0.24 in /usr/local/lib/python3.6/dist-packages (from yfinance) (1.1.5)\n",
            "Requirement already satisfied: multitasking>=0.0.7 in /usr/local/lib/python3.6/dist-packages (from yfinance) (0.0.9)\n",
            "Requirement already satisfied: requests>=2.20 in /usr/local/lib/python3.6/dist-packages (from yfinance) (2.23.0)\n",
            "Requirement already satisfied: python-dateutil>=2.7.3 in /usr/local/lib/python3.6/dist-packages (from pandas>=0.24->yfinance) (2.8.1)\n",
            "Requirement already satisfied: pytz>=2017.2 in /usr/local/lib/python3.6/dist-packages (from pandas>=0.24->yfinance) (2018.9)\n",
            "Requirement already satisfied: urllib3!=1.25.0,!=1.25.1,<1.26,>=1.21.1 in /usr/local/lib/python3.6/dist-packages (from requests>=2.20->yfinance) (1.24.3)\n",
            "Requirement already satisfied: chardet<4,>=3.0.2 in /usr/local/lib/python3.6/dist-packages (from requests>=2.20->yfinance) (3.0.4)\n",
            "Requirement already satisfied: certifi>=2017.4.17 in /usr/local/lib/python3.6/dist-packages (from requests>=2.20->yfinance) (2020.12.5)\n",
            "Requirement already satisfied: idna<3,>=2.5 in /usr/local/lib/python3.6/dist-packages (from requests>=2.20->yfinance) (2.10)\n",
            "Requirement already satisfied: six>=1.5 in /usr/local/lib/python3.6/dist-packages (from python-dateutil>=2.7.3->pandas>=0.24->yfinance) (1.15.0)\n",
            "Collecting yahoofinancials\n",
            "  Downloading https://files.pythonhosted.org/packages/97/fe/be0f6ea704137848779fc61e7d1c9a901489aaf3423cd7b6f86a350c14c6/yahoofinancials-1.6.tar.gz\n",
            "Requirement already satisfied: beautifulsoup4 in /usr/local/lib/python3.6/dist-packages (from yahoofinancials) (4.6.3)\n",
            "Requirement already satisfied: pytz in /usr/local/lib/python3.6/dist-packages (from yahoofinancials) (2018.9)\n",
            "Building wheels for collected packages: yahoofinancials\n",
            "  Building wheel for yahoofinancials (setup.py) ... \u001b[?25l\u001b[?25hdone\n",
            "  Created wheel for yahoofinancials: filename=yahoofinancials-1.6-cp36-none-any.whl size=15192 sha256=6dfe65c057bb09e9b4186f131735dc6e74ca07380b78d5b389fcd0fc8ba3696f\n",
            "  Stored in directory: /root/.cache/pip/wheels/d9/7e/cf/4977a8572d5247242a4b13018d1d36923024ba84236e0d28bc\n",
            "Successfully built yahoofinancials\n",
            "Installing collected packages: yahoofinancials\n",
            "Successfully installed yahoofinancials-1.6\n"
          ],
          "name": "stdout"
        }
      ]
    },
    {
      "cell_type": "code",
      "metadata": {
        "id": "z7QMSa4kc5r_"
      },
      "source": [
        "import pandas as pd\r\n",
        "import yfinance as yf\r\n",
        "from yahoofinancials import YahooFinancials"
      ],
      "execution_count": 3,
      "outputs": []
    },
    {
      "cell_type": "code",
      "metadata": {
        "colab": {
          "base_uri": "https://localhost:8080/"
        },
        "id": "0qCAaWT9c4Fb",
        "outputId": "716337cc-5036-4e42-ad6b-75e531dc0e8c"
      },
      "source": [
        "\r\n",
        "tsla_df = yf.download('TSLA', \r\n",
        "                      start='2019-01-01', \r\n",
        "                      end='2019-12-31', \r\n",
        "                      progress=False)\r\n",
        "print(tsla_df.head())\r\n",
        "print(len(tsla_df))"
      ],
      "execution_count": 8,
      "outputs": [
        {
          "output_type": "stream",
          "text": [
            "                 Open       High        Low      Close  Adj Close    Volume\n",
            "Date                                                                       \n",
            "2019-01-02  61.220001  63.026001  59.759998  62.023998  62.023998  58293000\n",
            "2019-01-03  61.400002  61.880001  59.476002  60.071999  60.071999  34826000\n",
            "2019-01-04  61.200001  63.599998  60.546001  63.537998  63.537998  36970500\n",
            "2019-01-07  64.344002  67.348000  63.549999  66.991997  66.991997  37756000\n",
            "2019-01-08  68.391998  68.802002  65.403999  67.070000  67.070000  35042500\n",
            "251\n"
          ],
          "name": "stdout"
        }
      ]
    },
    {
      "cell_type": "code",
      "metadata": {
        "colab": {
          "base_uri": "https://localhost:8080/",
          "height": 302
        },
        "id": "rIiSm02JdKLJ",
        "outputId": "f9c0f612-90c3-4be3-ba47-fe237084184e"
      },
      "source": [
        "\r\n",
        "ticker = yf.Ticker('TSLA')\r\n",
        "\r\n",
        "tsla_df = ticker.history(period=\"max\")\r\n",
        "\r\n",
        "tsla_df['Close'].plot(title=\"TSLA's stock price\")"
      ],
      "execution_count": 9,
      "outputs": [
        {
          "output_type": "execute_result",
          "data": {
            "text/plain": [
              "<matplotlib.axes._subplots.AxesSubplot at 0x7f999602b940>"
            ]
          },
          "metadata": {
            "tags": []
          },
          "execution_count": 9
        },
        {
          "output_type": "display_data",
          "data": {
            "image/png": "[encoded data removed]",
            "text/plain": [
              "<Figure size 432x288 with 1 Axes>"
            ]
          },
          "metadata": {
            "tags": [],
            "needs_background": "light"
          }
        }
      ]
    },
    {
      "cell_type": "code",
      "metadata": {
        "colab": {
          "base_uri": "https://localhost:8080/",
          "height": 227
        },
        "id": "Io8V1Ilbf6oo",
        "outputId": "13b88a90-257c-4021-b09d-4d17b674a5c8"
      },
      "source": [
        "\r\n",
        "yahoo_financials = YahooFinancials('TSLA')\r\n",
        "\r\n",
        "data = yahoo_financials.get_historical_price_data(start_date='2000-01-01', \r\n",
        "                                                  end_date='2019-12-31', \r\n",
        "                                                  time_interval='weekly')\r\n",
        "\r\n",
        "tsla_df = pd.DataFrame(data['TSLA']['prices'])\r\n",
        "tsla_df = tsla_df.drop('date', axis=1).set_index('formatted_date')\r\n",
        "tsla_df.head()"
      ],
      "execution_count": 10,
      "outputs": [
        {
          "output_type": "execute_result",
          "data": {
            "text/html": [
              "<div>\n",
              "<style scoped>\n",
              "    .dataframe tbody tr th:only-of-type {\n",
              "        vertical-align: middle;\n",
              "    }\n",
              "\n",
              "    .dataframe tbody tr th {\n",
              "        vertical-align: top;\n",
              "    }\n",
              "\n",
              "    .dataframe thead th {\n",
              "        text-align: right;\n",
              "    }\n",
              "</style>\n",
              "<table border=\"1\" class=\"dataframe\">\n",
              "  <thead>\n",
              "    <tr style=\"text-align: right;\">\n",
              "      <th></th>\n",
              "      <th>high</th>\n",
              "      <th>low</th>\n",
              "      <th>open</th>\n",
              "      <th>close</th>\n",
              "      <th>volume</th>\n",
              "      <th>adjclose</th>\n",
              "    </tr>\n",
              "    <tr>\n",
              "      <th>formatted_date</th>\n",
              "      <th></th>\n",
              "      <th></th>\n",
              "      <th></th>\n",
              "      <th></th>\n",
              "      <th></th>\n",
              "      <th></th>\n",
              "    </tr>\n",
              "  </thead>\n",
              "  <tbody>\n",
              "    <tr>\n",
              "      <th>2010-06-28</th>\n",
              "      <td>6.084</td>\n",
              "      <td>3.508</td>\n",
              "      <td>3.800</td>\n",
              "      <td>3.840</td>\n",
              "      <td>246560000</td>\n",
              "      <td>3.840</td>\n",
              "    </tr>\n",
              "    <tr>\n",
              "      <th>2010-07-05</th>\n",
              "      <td>4.000</td>\n",
              "      <td>2.996</td>\n",
              "      <td>4.000</td>\n",
              "      <td>3.480</td>\n",
              "      <td>127753000</td>\n",
              "      <td>3.480</td>\n",
              "    </tr>\n",
              "    <tr>\n",
              "      <th>2010-07-12</th>\n",
              "      <td>4.300</td>\n",
              "      <td>3.380</td>\n",
              "      <td>3.590</td>\n",
              "      <td>4.128</td>\n",
              "      <td>77194500</td>\n",
              "      <td>4.128</td>\n",
              "    </tr>\n",
              "    <tr>\n",
              "      <th>2010-07-19</th>\n",
              "      <td>4.450</td>\n",
              "      <td>3.900</td>\n",
              "      <td>4.274</td>\n",
              "      <td>4.258</td>\n",
              "      <td>35878500</td>\n",
              "      <td>4.258</td>\n",
              "    </tr>\n",
              "    <tr>\n",
              "      <th>2010-07-26</th>\n",
              "      <td>4.300</td>\n",
              "      <td>3.910</td>\n",
              "      <td>4.300</td>\n",
              "      <td>3.988</td>\n",
              "      <td>15260000</td>\n",
              "      <td>3.988</td>\n",
              "    </tr>\n",
              "  </tbody>\n",
              "</table>\n",
              "</div>"
            ],
            "text/plain": [
              "                 high    low   open  close     volume  adjclose\n",
              "formatted_date                                                 \n",
              "2010-06-28      6.084  3.508  3.800  3.840  246560000     3.840\n",
              "2010-07-05      4.000  2.996  4.000  3.480  127753000     3.480\n",
              "2010-07-12      4.300  3.380  3.590  4.128   77194500     4.128\n",
              "2010-07-19      4.450  3.900  4.274  4.258   35878500     4.258\n",
              "2010-07-26      4.300  3.910  4.300  3.988   15260000     3.988"
            ]
          },
          "metadata": {
            "tags": []
          },
          "execution_count": 10
        }
      ]
    },
    {
      "cell_type": "code",
      "metadata": {
        "id": "NQwEmeLegLDS"
      },
      "source": [
        ""
      ],
      "execution_count": null,
      "outputs": []
    }
  ]
}