{
  "nbformat": 4,
  "nbformat_minor": 0,
  "metadata": {
    "colab": {
      "name": "testerStockGanga.ipynb",
      "provenance": [],
      "collapsed_sections": [],
      "authorship_tag": "ABX9TyN//n6++GbtWUaJAhBll80G",
      "include_colab_link": true
    },
    "kernelspec": {
      "name": "python3",
      "display_name": "Python 3"
    },
    "language_info": {
      "name": "python"
    }
  },
  "cells": [
    {
      "cell_type": "markdown",
      "metadata": {
        "id": "view-in-github",
        "colab_type": "text"
      },
      "source": [
        "<a href=\"https://colab.research.google.com/github/xanasa14/Finances/blob/main/testerStockGanga.ipynb\" target=\"_parent\"><img src=\"https://colab.research.google.com/assets/colab-badge.svg\" alt=\"Open In Colab\"/></a>"
      ]
    },
    {
      "cell_type": "code",
      "metadata": {
        "id": "uBoo_2TGAPQ6",
        "colab": {
          "base_uri": "https://localhost:8080/"
        },
        "outputId": "9c19d855-9251-4ae5-a8e7-db126af52deb"
      },
      "source": [
        "!pip install yfinance"
      ],
      "execution_count": 1,
      "outputs": [
        {
          "output_type": "stream",
          "name": "stdout",
          "text": [
            "Collecting yfinance\n",
            "  Downloading yfinance-0.1.67-py2.py3-none-any.whl (25 kB)\n",
            "Requirement already satisfied: pandas>=0.24 in /usr/local/lib/python3.7/dist-packages (from yfinance) (1.1.5)\n",
            "Collecting lxml>=4.5.1\n",
            "  Downloading lxml-4.6.4-cp37-cp37m-manylinux_2_17_x86_64.manylinux2014_x86_64.manylinux_2_24_x86_64.whl (6.3 MB)\n",
            "\u001b[K     |████████████████████████████████| 6.3 MB 7.7 MB/s \n",
            "\u001b[?25hRequirement already satisfied: numpy>=1.15 in /usr/local/lib/python3.7/dist-packages (from yfinance) (1.19.5)\n",
            "Requirement already satisfied: requests>=2.20 in /usr/local/lib/python3.7/dist-packages (from yfinance) (2.23.0)\n",
            "Requirement already satisfied: multitasking>=0.0.7 in /usr/local/lib/python3.7/dist-packages (from yfinance) (0.0.10)\n",
            "Requirement already satisfied: python-dateutil>=2.7.3 in /usr/local/lib/python3.7/dist-packages (from pandas>=0.24->yfinance) (2.8.2)\n",
            "Requirement already satisfied: pytz>=2017.2 in /usr/local/lib/python3.7/dist-packages (from pandas>=0.24->yfinance) (2018.9)\n",
            "Requirement already satisfied: six>=1.5 in /usr/local/lib/python3.7/dist-packages (from python-dateutil>=2.7.3->pandas>=0.24->yfinance) (1.15.0)\n",
            "Requirement already satisfied: urllib3!=1.25.0,!=1.25.1,<1.26,>=1.21.1 in /usr/local/lib/python3.7/dist-packages (from requests>=2.20->yfinance) (1.24.3)\n",
            "Requirement already satisfied: idna<3,>=2.5 in /usr/local/lib/python3.7/dist-packages (from requests>=2.20->yfinance) (2.10)\n",
            "Requirement already satisfied: certifi>=2017.4.17 in /usr/local/lib/python3.7/dist-packages (from requests>=2.20->yfinance) (2021.10.8)\n",
            "Requirement already satisfied: chardet<4,>=3.0.2 in /usr/local/lib/python3.7/dist-packages (from requests>=2.20->yfinance) (3.0.4)\n",
            "Installing collected packages: lxml, yfinance\n",
            "  Attempting uninstall: lxml\n",
            "    Found existing installation: lxml 4.2.6\n",
            "    Uninstalling lxml-4.2.6:\n",
            "      Successfully uninstalled lxml-4.2.6\n",
            "Successfully installed lxml-4.6.4 yfinance-0.1.67\n"
          ]
        }
      ]
    },
    {
      "cell_type": "code",
      "metadata": {
        "colab": {
          "base_uri": "https://localhost:8080/"
        },
        "id": "Lr0F_otjBWD3",
        "outputId": "56a9f1bf-5f31-47ef-b33e-ca8a545ad627"
      },
      "source": [
        "import yfinance as yf\n",
        "listaDeStocks = ['PEP', 'UBER', 'EBAY',\"PFLT\",'O',\"STAG\", \"AMZN\",\"TSLA\",\"WMT\",\"WM\",\"HRZN\",\"TGT\",\"PEP\",\"MSFT\",\"PSEC\",\"AXP\",\"DIS\",\"SNAP\",\"BDX\",\"IEP\",\"BXMT\",\"APAM\",\"YOU\", \"KO\",\"DAL\",\"SPCE\",\"CPRT\",\"ODFL\",\"FTNT\",\"ZBRA\",\"WBA\",\"AAPL\",\"DXCM\",\"AMD\",\"AMC\"]\n",
        "#listaDeStocks = ['TSLA']\n",
        "print(len(listaDeStocks))\n",
        "\n",
        "for ticket in listaDeStocks:\n",
        "    data = yf.download(tickers=ticket, period='7d', interval='1d')\n",
        "    #print(ticket)\n",
        "    promedio = data[\"Close\"].mean()\n",
        "    data['avg'] = data[['High', 'Low']].mean(axis=1)\n",
        "\n",
        "    currentVal = data['avg'][-1]\n",
        "    \n",
        "    curVal = round(float(currentVal),6)\n",
        "    promedio3Days = round(float(promedio),6)\n",
        "    print(curVal)\n",
        "    #print(promedio3Days)\n",
        "    #print(data)\n",
        "    difference = curVal - promedio3Days\n",
        "    #difference = -70\n",
        "    #print(round(difference,2))\n",
        "    #print(round(difference/promedio3Days,2) , \"%\")\n",
        "\n",
        "    if(difference > 0):\n",
        "      if((difference/promedio3Days * 100) > 2):\n",
        "        print(\"The current value of\", ticket, \"is\", str(round(difference/promedio3Days*100,2)) ,\"% higher than its average price\")\n",
        "    elif(difference < 0):\n",
        "      if((abs(difference/promedio3Days*100)) > 2):\n",
        "        print(\"The current value of\", ticket, \"is\", str(round(difference/promedio3Days*100,2)) ,\"% lower than its average price\")\n"
      ],
      "execution_count": 2,
      "outputs": [
        {
          "output_type": "stream",
          "name": "stdout",
          "text": [
            "35\n",
            "[*********************100%***********************]  1 of 1 completed\n",
            "164.050003\n",
            "[*********************100%***********************]  1 of 1 completed\n",
            "41.809999\n",
            "The current value of UBER is -4.5 % lower than its average price\n",
            "[*********************100%***********************]  1 of 1 completed\n",
            "71.895\n",
            "The current value of EBAY is -2.56 % lower than its average price\n",
            "[*********************100%***********************]  1 of 1 completed\n",
            "13.12\n",
            "[*********************100%***********************]  1 of 1 completed\n",
            "70.105099\n",
            "[*********************100%***********************]  1 of 1 completed\n",
            "43.385\n",
            "[*********************100%***********************]  1 of 1 completed\n",
            "3574.940063\n",
            "[*********************100%***********************]  1 of 1 completed\n",
            "1097.38501\n",
            "[*********************100%***********************]  1 of 1 completed\n",
            "146.284996\n",
            "[*********************100%***********************]  1 of 1 completed\n",
            "164.870003\n",
            "[*********************100%***********************]  1 of 1 completed\n",
            "16.992599\n",
            "[*********************100%***********************]  1 of 1 completed\n",
            "247.970001\n",
            "[*********************100%***********************]  1 of 1 completed\n",
            "164.050003\n",
            "[*********************100%***********************]  1 of 1 completed\n",
            "336.047501\n",
            "[*********************100%***********************]  1 of 1 completed\n",
            "8.86\n",
            "[*********************100%***********************]  1 of 1 completed\n",
            "169.934998\n",
            "The current value of AXP is -2.79 % lower than its average price\n",
            "[*********************100%***********************]  1 of 1 completed\n",
            "150.111\n",
            "The current value of DIS is -2.91 % lower than its average price\n",
            "[*********************100%***********************]  1 of 1 completed\n",
            "49.5341\n",
            "The current value of SNAP is -4.76 % lower than its average price\n",
            "[*********************100%***********************]  1 of 1 completed\n",
            "245.897995\n",
            "[*********************100%***********************]  1 of 1 completed\n",
            "51.435001\n",
            "[*********************100%***********************]  1 of 1 completed\n",
            "31.764999\n",
            "[*********************100%***********************]  1 of 1 completed\n",
            "49.137451\n",
            "[*********************100%***********************]  1 of 1 completed\n",
            "33.6\n",
            "The current value of YOU is -9.51 % lower than its average price\n",
            "[*********************100%***********************]  1 of 1 completed\n",
            "55.432499\n",
            "[*********************100%***********************]  1 of 1 completed\n",
            "39.494999\n",
            "[*********************100%***********************]  1 of 1 completed\n",
            "16.7225\n",
            "The current value of SPCE is -3.89 % lower than its average price\n",
            "[*********************100%***********************]  1 of 1 completed\n",
            "147.629997\n",
            "The current value of CPRT is -3.23 % lower than its average price\n",
            "[*********************100%***********************]  1 of 1 completed\n",
            "354.544998\n",
            "[*********************100%***********************]  1 of 1 completed\n",
            "326.675003\n",
            "The current value of FTNT is -3.1 % lower than its average price\n",
            "[*********************100%***********************]  1 of 1 completed\n",
            "592.050018\n",
            "[*********************100%***********************]  1 of 1 completed\n",
            "46.799999\n",
            "[*********************100%***********************]  1 of 1 completed\n",
            "160.889999\n",
            "[*********************100%***********************]  1 of 1 completed\n",
            "590.464996\n",
            "The current value of DXCM is -5.97 % lower than its average price\n",
            "[*********************100%***********************]  1 of 1 completed\n",
            "152.5625\n",
            "[*********************100%***********************]  1 of 1 completed\n",
            "38.445002\n",
            "The current value of AMC is -5.67 % lower than its average price\n"
          ]
        }
      ]
    },
    {
      "cell_type": "code",
      "metadata": {
        "id": "OlD_KV6KBVFp"
      },
      "source": [
        ""
      ],
      "execution_count": null,
      "outputs": []
    },
    {
      "cell_type": "code",
      "metadata": {
        "id": "dGN95byyvR_i"
      },
      "source": [
        ""
      ],
      "execution_count": null,
      "outputs": []
    }
  ]
}